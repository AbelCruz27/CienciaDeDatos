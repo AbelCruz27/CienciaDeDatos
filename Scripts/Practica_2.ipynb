{
 "nbformat": 4,
 "nbformat_minor": 0,
 "metadata": {
  "colab": {
   "private_outputs": true,
   "provenance": []
  },
  "kernelspec": {
   "name": "python3",
   "display_name": "Python 3 (ipykernel)",
   "language": "python"
  },
  "language_info": {
   "name": "python"
  }
 },
 "cells": [
  {
   "cell_type": "markdown",
   "source": [
    "# 2.1 Instalación de las bibliotecas necesarias\n",
    "\n"
   ],
   "metadata": {
    "id": "nQL-JDyVuDut"
   }
  },
  {
   "cell_type": "code",
   "source": [
    "import sns\n",
    "\n",
    "'''pip install pandas matplotlib seaborn kagglehub\n",
    "update pip'''\n"
   ],
   "metadata": {
    "collapsed": true,
    "id": "G-tle3Oys_cl",
    "ExecuteTime": {
     "end_time": "2025-03-16T06:43:49.901752Z",
     "start_time": "2025-03-16T06:43:49.891646Z"
    }
   },
   "outputs": [
    {
     "data": {
      "text/plain": [
       "'pip install pandas matplotlib seaborn kagglehub\\nupdate pip'"
      ]
     },
     "execution_count": 15,
     "metadata": {},
     "output_type": "execute_result"
    }
   ],
   "execution_count": 15
  },
  {
   "cell_type": "markdown",
   "source": [
    "# 2.2 Descarga de la base de datos en formato .csv"
   ],
   "metadata": {
    "id": "DJ00ghnkuBA8"
   }
  },
  {
   "cell_type": "code",
   "source": [
    "import kagglehub\n",
    "path = kagglehub.dataset_download(\"chitwanmanchanda/fraudulent-transactions-data\")\n",
    "print(\"Path to dataset files:\", path)"
   ],
   "metadata": {
    "id": "VXTai0s9rCuN",
    "ExecuteTime": {
     "end_time": "2025-03-16T06:43:50.568469Z",
     "start_time": "2025-03-16T06:43:49.931103Z"
    }
   },
   "outputs": [
    {
     "name": "stdout",
     "output_type": "stream",
     "text": [
      "Path to dataset files: C:\\Users\\abelc\\.cache\\kagglehub\\datasets\\chitwanmanchanda\\fraudulent-transactions-data\\versions\\1\n"
     ]
    }
   ],
   "execution_count": 16
  },
  {
   "metadata": {
    "ExecuteTime": {
     "end_time": "2025-05-06T00:55:18.484437Z",
     "start_time": "2025-05-06T00:55:09.681990Z"
    }
   },
   "cell_type": "code",
   "source": [
    "import pandas as pd\n",
    "df = pd.read_csv('C:/Users/abelc/PycharmProjects/Ciencia De Datos/BD/Fraud.csv')"
   ],
   "outputs": [],
   "execution_count": 3
  },
  {
   "cell_type": "markdown",
   "source": [
    "# 2.3 Carga y exploración inicial de los datos"
   ],
   "metadata": {
    "id": "vV-eX2WMt9XW"
   }
  },
  {
   "cell_type": "code",
   "source": [
    "import pandas as pd\n",
    "df = pd.read_csv('C:/Users/abelc/PycharmProjects/Ciencia De Datos/BD/Fraud.csv')\n",
    "\n",
    "# Muestra las primeras filas del DataFrame para verificar\n",
    "print(df.head())\n",
    "print(df.info)\n",
    "print(df.describe)"
   ],
   "metadata": {
    "collapsed": true,
    "id": "eB7lbeIJr0zk",
    "ExecuteTime": {
     "end_time": "2025-05-06T00:55:28.130978Z",
     "start_time": "2025-05-06T00:55:18.511589Z"
    }
   },
   "outputs": [
    {
     "name": "stdout",
     "output_type": "stream",
     "text": [
      "   step      type    amount     nameOrig  oldbalanceOrg  newbalanceOrig  \\\n",
      "0     1   PAYMENT   9839.64  C1231006815       170136.0       160296.36   \n",
      "1     1   PAYMENT   1864.28  C1666544295        21249.0        19384.72   \n",
      "2     1  TRANSFER    181.00  C1305486145          181.0            0.00   \n",
      "3     1  CASH_OUT    181.00   C840083671          181.0            0.00   \n",
      "4     1   PAYMENT  11668.14  C2048537720        41554.0        29885.86   \n",
      "\n",
      "      nameDest  oldbalanceDest  newbalanceDest  isFraud  isFlaggedFraud  \n",
      "0  M1979787155             0.0             0.0        0               0  \n",
      "1  M2044282225             0.0             0.0        0               0  \n",
      "2   C553264065             0.0             0.0        1               0  \n",
      "3    C38997010         21182.0             0.0        1               0  \n",
      "4  M1230701703             0.0             0.0        0               0  \n",
      "<bound method DataFrame.info of          step      type      amount     nameOrig  oldbalanceOrg  \\\n",
      "0           1   PAYMENT     9839.64  C1231006815      170136.00   \n",
      "1           1   PAYMENT     1864.28  C1666544295       21249.00   \n",
      "2           1  TRANSFER      181.00  C1305486145         181.00   \n",
      "3           1  CASH_OUT      181.00   C840083671         181.00   \n",
      "4           1   PAYMENT    11668.14  C2048537720       41554.00   \n",
      "...       ...       ...         ...          ...            ...   \n",
      "6362615   743  CASH_OUT   339682.13   C786484425      339682.13   \n",
      "6362616   743  TRANSFER  6311409.28  C1529008245     6311409.28   \n",
      "6362617   743  CASH_OUT  6311409.28  C1162922333     6311409.28   \n",
      "6362618   743  TRANSFER   850002.52  C1685995037      850002.52   \n",
      "6362619   743  CASH_OUT   850002.52  C1280323807      850002.52   \n",
      "\n",
      "         newbalanceOrig     nameDest  oldbalanceDest  newbalanceDest  isFraud  \\\n",
      "0             160296.36  M1979787155            0.00            0.00        0   \n",
      "1              19384.72  M2044282225            0.00            0.00        0   \n",
      "2                  0.00   C553264065            0.00            0.00        1   \n",
      "3                  0.00    C38997010        21182.00            0.00        1   \n",
      "4              29885.86  M1230701703            0.00            0.00        0   \n",
      "...                 ...          ...             ...             ...      ...   \n",
      "6362615            0.00   C776919290            0.00       339682.13        1   \n",
      "6362616            0.00  C1881841831            0.00            0.00        1   \n",
      "6362617            0.00  C1365125890        68488.84      6379898.11        1   \n",
      "6362618            0.00  C2080388513            0.00            0.00        1   \n",
      "6362619            0.00   C873221189      6510099.11      7360101.63        1   \n",
      "\n",
      "         isFlaggedFraud  \n",
      "0                     0  \n",
      "1                     0  \n",
      "2                     0  \n",
      "3                     0  \n",
      "4                     0  \n",
      "...                 ...  \n",
      "6362615               0  \n",
      "6362616               0  \n",
      "6362617               0  \n",
      "6362618               0  \n",
      "6362619               0  \n",
      "\n",
      "[6362620 rows x 11 columns]>\n",
      "<bound method NDFrame.describe of          step      type      amount     nameOrig  oldbalanceOrg  \\\n",
      "0           1   PAYMENT     9839.64  C1231006815      170136.00   \n",
      "1           1   PAYMENT     1864.28  C1666544295       21249.00   \n",
      "2           1  TRANSFER      181.00  C1305486145         181.00   \n",
      "3           1  CASH_OUT      181.00   C840083671         181.00   \n",
      "4           1   PAYMENT    11668.14  C2048537720       41554.00   \n",
      "...       ...       ...         ...          ...            ...   \n",
      "6362615   743  CASH_OUT   339682.13   C786484425      339682.13   \n",
      "6362616   743  TRANSFER  6311409.28  C1529008245     6311409.28   \n",
      "6362617   743  CASH_OUT  6311409.28  C1162922333     6311409.28   \n",
      "6362618   743  TRANSFER   850002.52  C1685995037      850002.52   \n",
      "6362619   743  CASH_OUT   850002.52  C1280323807      850002.52   \n",
      "\n",
      "         newbalanceOrig     nameDest  oldbalanceDest  newbalanceDest  isFraud  \\\n",
      "0             160296.36  M1979787155            0.00            0.00        0   \n",
      "1              19384.72  M2044282225            0.00            0.00        0   \n",
      "2                  0.00   C553264065            0.00            0.00        1   \n",
      "3                  0.00    C38997010        21182.00            0.00        1   \n",
      "4              29885.86  M1230701703            0.00            0.00        0   \n",
      "...                 ...          ...             ...             ...      ...   \n",
      "6362615            0.00   C776919290            0.00       339682.13        1   \n",
      "6362616            0.00  C1881841831            0.00            0.00        1   \n",
      "6362617            0.00  C1365125890        68488.84      6379898.11        1   \n",
      "6362618            0.00  C2080388513            0.00            0.00        1   \n",
      "6362619            0.00   C873221189      6510099.11      7360101.63        1   \n",
      "\n",
      "         isFlaggedFraud  \n",
      "0                     0  \n",
      "1                     0  \n",
      "2                     0  \n",
      "3                     0  \n",
      "4                     0  \n",
      "...                 ...  \n",
      "6362615               0  \n",
      "6362616               0  \n",
      "6362617               0  \n",
      "6362618               0  \n",
      "6362619               0  \n",
      "\n",
      "[6362620 rows x 11 columns]>\n"
     ]
    }
   ],
   "execution_count": 4
  },
  {
   "metadata": {
    "ExecuteTime": {
     "end_time": "2025-03-16T06:44:24.147718Z",
     "start_time": "2025-03-16T06:44:23.077960Z"
    }
   },
   "cell_type": "code",
   "source": [
    "import pandas as pd\n",
    "import matplotlib.pyplot as plt\n",
    "import seaborn as sns\n",
    "\n",
    "# Mapa de calor de la correlación entre variables\n",
    "plt.figure(figsize=(10, 6))\n",
    "sns.heatmap(df.corr(), annot=True, cmap=\"coolwarm\", fmt=\".2f\", linewidths=0.5)\n",
    "plt.title(\"Mapa de calor de correlaciones\")\n",
    "plt.show()\n"
   ],
   "outputs": [
    {
     "ename": "ValueError",
     "evalue": "could not convert string to float: 'PAYMENT'",
     "output_type": "error",
     "traceback": [
      "\u001B[31m---------------------------------------------------------------------------\u001B[39m",
      "\u001B[31mValueError\u001B[39m                                Traceback (most recent call last)",
      "\u001B[36mCell\u001B[39m\u001B[36m \u001B[39m\u001B[32mIn[19]\u001B[39m\u001B[32m, line 7\u001B[39m\n\u001B[32m      5\u001B[39m \u001B[38;5;66;03m# Mapa de calor de la correlación entre variables\u001B[39;00m\n\u001B[32m      6\u001B[39m plt.figure(figsize=(\u001B[32m10\u001B[39m, \u001B[32m6\u001B[39m))\n\u001B[32m----> \u001B[39m\u001B[32m7\u001B[39m sns.heatmap(\u001B[43mdf\u001B[49m\u001B[43m.\u001B[49m\u001B[43mcorr\u001B[49m\u001B[43m(\u001B[49m\u001B[43m)\u001B[49m, annot=\u001B[38;5;28;01mTrue\u001B[39;00m, cmap=\u001B[33m\"\u001B[39m\u001B[33mcoolwarm\u001B[39m\u001B[33m\"\u001B[39m, fmt=\u001B[33m\"\u001B[39m\u001B[33m.2f\u001B[39m\u001B[33m\"\u001B[39m, linewidths=\u001B[32m0.5\u001B[39m)\n\u001B[32m      8\u001B[39m plt.title(\u001B[33m\"\u001B[39m\u001B[33mMapa de calor de correlaciones\u001B[39m\u001B[33m\"\u001B[39m)\n\u001B[32m      9\u001B[39m plt.show()\n",
      "\u001B[36mFile \u001B[39m\u001B[32m~\\PycharmProjects\\Ciencia De Datos\\.venv\\Lib\\site-packages\\pandas\\core\\frame.py:11049\u001B[39m, in \u001B[36mDataFrame.corr\u001B[39m\u001B[34m(self, method, min_periods, numeric_only)\u001B[39m\n\u001B[32m  11047\u001B[39m cols = data.columns\n\u001B[32m  11048\u001B[39m idx = cols.copy()\n\u001B[32m> \u001B[39m\u001B[32m11049\u001B[39m mat = \u001B[43mdata\u001B[49m\u001B[43m.\u001B[49m\u001B[43mto_numpy\u001B[49m\u001B[43m(\u001B[49m\u001B[43mdtype\u001B[49m\u001B[43m=\u001B[49m\u001B[38;5;28;43mfloat\u001B[39;49m\u001B[43m,\u001B[49m\u001B[43m \u001B[49m\u001B[43mna_value\u001B[49m\u001B[43m=\u001B[49m\u001B[43mnp\u001B[49m\u001B[43m.\u001B[49m\u001B[43mnan\u001B[49m\u001B[43m,\u001B[49m\u001B[43m \u001B[49m\u001B[43mcopy\u001B[49m\u001B[43m=\u001B[49m\u001B[38;5;28;43;01mFalse\u001B[39;49;00m\u001B[43m)\u001B[49m\n\u001B[32m  11051\u001B[39m \u001B[38;5;28;01mif\u001B[39;00m method == \u001B[33m\"\u001B[39m\u001B[33mpearson\u001B[39m\u001B[33m\"\u001B[39m:\n\u001B[32m  11052\u001B[39m     correl = libalgos.nancorr(mat, minp=min_periods)\n",
      "\u001B[36mFile \u001B[39m\u001B[32m~\\PycharmProjects\\Ciencia De Datos\\.venv\\Lib\\site-packages\\pandas\\core\\frame.py:1993\u001B[39m, in \u001B[36mDataFrame.to_numpy\u001B[39m\u001B[34m(self, dtype, copy, na_value)\u001B[39m\n\u001B[32m   1991\u001B[39m \u001B[38;5;28;01mif\u001B[39;00m dtype \u001B[38;5;129;01mis\u001B[39;00m \u001B[38;5;129;01mnot\u001B[39;00m \u001B[38;5;28;01mNone\u001B[39;00m:\n\u001B[32m   1992\u001B[39m     dtype = np.dtype(dtype)\n\u001B[32m-> \u001B[39m\u001B[32m1993\u001B[39m result = \u001B[38;5;28;43mself\u001B[39;49m\u001B[43m.\u001B[49m\u001B[43m_mgr\u001B[49m\u001B[43m.\u001B[49m\u001B[43mas_array\u001B[49m\u001B[43m(\u001B[49m\u001B[43mdtype\u001B[49m\u001B[43m=\u001B[49m\u001B[43mdtype\u001B[49m\u001B[43m,\u001B[49m\u001B[43m \u001B[49m\u001B[43mcopy\u001B[49m\u001B[43m=\u001B[49m\u001B[43mcopy\u001B[49m\u001B[43m,\u001B[49m\u001B[43m \u001B[49m\u001B[43mna_value\u001B[49m\u001B[43m=\u001B[49m\u001B[43mna_value\u001B[49m\u001B[43m)\u001B[49m\n\u001B[32m   1994\u001B[39m \u001B[38;5;28;01mif\u001B[39;00m result.dtype \u001B[38;5;129;01mis\u001B[39;00m \u001B[38;5;129;01mnot\u001B[39;00m dtype:\n\u001B[32m   1995\u001B[39m     result = np.asarray(result, dtype=dtype)\n",
      "\u001B[36mFile \u001B[39m\u001B[32m~\\PycharmProjects\\Ciencia De Datos\\.venv\\Lib\\site-packages\\pandas\\core\\internals\\managers.py:1694\u001B[39m, in \u001B[36mBlockManager.as_array\u001B[39m\u001B[34m(self, dtype, copy, na_value)\u001B[39m\n\u001B[32m   1692\u001B[39m         arr.flags.writeable = \u001B[38;5;28;01mFalse\u001B[39;00m\n\u001B[32m   1693\u001B[39m \u001B[38;5;28;01melse\u001B[39;00m:\n\u001B[32m-> \u001B[39m\u001B[32m1694\u001B[39m     arr = \u001B[38;5;28;43mself\u001B[39;49m\u001B[43m.\u001B[49m\u001B[43m_interleave\u001B[49m\u001B[43m(\u001B[49m\u001B[43mdtype\u001B[49m\u001B[43m=\u001B[49m\u001B[43mdtype\u001B[49m\u001B[43m,\u001B[49m\u001B[43m \u001B[49m\u001B[43mna_value\u001B[49m\u001B[43m=\u001B[49m\u001B[43mna_value\u001B[49m\u001B[43m)\u001B[49m\n\u001B[32m   1695\u001B[39m     \u001B[38;5;66;03m# The underlying data was copied within _interleave, so no need\u001B[39;00m\n\u001B[32m   1696\u001B[39m     \u001B[38;5;66;03m# to further copy if copy=True or setting na_value\u001B[39;00m\n\u001B[32m   1698\u001B[39m \u001B[38;5;28;01mif\u001B[39;00m na_value \u001B[38;5;129;01mis\u001B[39;00m lib.no_default:\n",
      "\u001B[36mFile \u001B[39m\u001B[32m~\\PycharmProjects\\Ciencia De Datos\\.venv\\Lib\\site-packages\\pandas\\core\\internals\\managers.py:1753\u001B[39m, in \u001B[36mBlockManager._interleave\u001B[39m\u001B[34m(self, dtype, na_value)\u001B[39m\n\u001B[32m   1751\u001B[39m     \u001B[38;5;28;01melse\u001B[39;00m:\n\u001B[32m   1752\u001B[39m         arr = blk.get_values(dtype)\n\u001B[32m-> \u001B[39m\u001B[32m1753\u001B[39m     \u001B[43mresult\u001B[49m\u001B[43m[\u001B[49m\u001B[43mrl\u001B[49m\u001B[43m.\u001B[49m\u001B[43mindexer\u001B[49m\u001B[43m]\u001B[49m = arr\n\u001B[32m   1754\u001B[39m     itemmask[rl.indexer] = \u001B[32m1\u001B[39m\n\u001B[32m   1756\u001B[39m \u001B[38;5;28;01mif\u001B[39;00m \u001B[38;5;129;01mnot\u001B[39;00m itemmask.all():\n",
      "\u001B[31mValueError\u001B[39m: could not convert string to float: 'PAYMENT'"
     ]
    },
    {
     "data": {
      "text/plain": [
       "<Figure size 1000x600 with 0 Axes>"
      ]
     },
     "metadata": {},
     "output_type": "display_data"
    }
   ],
   "execution_count": 19
  },
  {
   "cell_type": "code",
   "source": [
    "# controlador de la cantidad de fraudes y transacciones no fraudulentas\n",
    "\n",
    "cant_fraudes = df['isFraud'].sum()\n",
    "print(f\"Cantidad de transacciones fraudulentas: {cant_fraudes}\" )\n",
    "\n",
    "cant_no_fraudes = len(df) - cant_fraudes\n",
    "print(f\"Cantidad de transacciones no fraudulentas:{cant_no_fraudes}\")"
   ],
   "metadata": {
    "id": "9IohzPEcsxiN",
    "ExecuteTime": {
     "end_time": "2025-03-16T06:44:24.229415100Z",
     "start_time": "2025-03-16T06:20:26.087826Z"
    }
   },
   "outputs": [
    {
     "name": "stdout",
     "output_type": "stream",
     "text": [
      "Cantidad de transacciones fraudulentas: 8213\n",
      "Cantidad de transacciones no fraudulentas:6354407\n"
     ]
    }
   ],
   "execution_count": 7
  },
  {
   "metadata": {
    "ExecuteTime": {
     "end_time": "2025-03-16T06:44:24.283780800Z",
     "start_time": "2025-03-16T06:25:40.360256Z"
    }
   },
   "cell_type": "code",
   "source": [
    "plt.figure(figsize=(8, 5))\n",
    "sns.countplot(data=df, x=\"type\", hue=\"isFraud\")\n",
    "plt.title(\"Cantidad de fraudes por tipo de transacción\")\n",
    "plt.xlabel(\"Tipo de transacción\")\n",
    "plt.ylabel(\"Cantidad\")\n",
    "plt.legend(title=\"Fraude\", labels=[\"No\", \"Sí\"])\n",
    "plt.xticks(rotation=45)\n",
    "plt.show()\n"
   ],
   "outputs": [
    {
     "data": {
      "text/plain": [
       "<Figure size 800x500 with 1 Axes>"
      ],
      "image/png": "[encoded data removed]"
     },
     "metadata": {},
     "output_type": "display_data"
    }
   ],
   "execution_count": 11
  },
  {
   "cell_type": "markdown",
   "source": [
    "# 2.4 Preparación de los datos\n",
    "## 2.4.1 Eliminación de variables"
   ],
   "metadata": {
    "id": "hx2mEjUVuirE"
   }
  },
  {
   "cell_type": "code",
   "source": [
    "# Lista de columnas a eliminar\n",
    "columnas_a_eliminar = ['step', 'nameOrig', 'nameDest']\n",
    "# Eliminar las columnas del DataFrame\n",
    "df = df.drop(columns=columnas_a_eliminar)\n",
    "\n",
    "# Verificamos que las columnas se eliminaron\n",
    "df.head()\n",
    "\n",
    "#quedaron variables numericas y de tipo"
   ],
   "metadata": {
    "collapsed": true,
    "id": "0whfxE2Hu3v9",
    "ExecuteTime": {
     "end_time": "2025-03-16T06:44:24.302164200Z",
     "start_time": "2025-03-16T06:20:26.189533Z"
    }
   },
   "outputs": [
    {
     "data": {
      "text/plain": [
       "       type    amount  oldbalanceOrg  newbalanceOrig  oldbalanceDest  \\\n",
       "0   PAYMENT   9839.64       170136.0       160296.36             0.0   \n",
       "1   PAYMENT   1864.28        21249.0        19384.72             0.0   \n",
       "2  TRANSFER    181.00          181.0            0.00             0.0   \n",
       "3  CASH_OUT    181.00          181.0            0.00         21182.0   \n",
       "4   PAYMENT  11668.14        41554.0        29885.86             0.0   \n",
       "\n",
       "   newbalanceDest  isFraud  isFlaggedFraud  \n",
       "0             0.0        0               0  \n",
       "1             0.0        0               0  \n",
       "2             0.0        1               0  \n",
       "3             0.0        1               0  \n",
       "4             0.0        0               0  "
      ],
      "text/html": [
       "<div>\n",
       "<style scoped>\n",
       "    .dataframe tbody tr th:only-of-type {\n",
       "        vertical-align: middle;\n",
       "    }\n",
       "\n",
       "    .dataframe tbody tr th {\n",
       "        vertical-align: top;\n",
       "    }\n",
       "\n",
       "    .dataframe thead th {\n",
       "        text-align: right;\n",
       "    }\n",
       "</style>\n",
       "<table border=\"1\" class=\"dataframe\">\n",
       "  <thead>\n",
       "    <tr style=\"text-align: right;\">\n",
       "      <th></th>\n",
       "      <th>type</th>\n",
       "      <th>amount</th>\n",
       "      <th>oldbalanceOrg</th>\n",
       "      <th>newbalanceOrig</th>\n",
       "      <th>oldbalanceDest</th>\n",
       "      <th>newbalanceDest</th>\n",
       "      <th>isFraud</th>\n",
       "      <th>isFlaggedFraud</th>\n",
       "    </tr>\n",
       "  </thead>\n",
       "  <tbody>\n",
       "    <tr>\n",
       "      <th>0</th>\n",
       "      <td>PAYMENT</td>\n",
       "      <td>9839.64</td>\n",
       "      <td>170136.0</td>\n",
       "      <td>160296.36</td>\n",
       "      <td>0.0</td>\n",
       "      <td>0.0</td>\n",
       "      <td>0</td>\n",
       "      <td>0</td>\n",
       "    </tr>\n",
       "    <tr>\n",
       "      <th>1</th>\n",
       "      <td>PAYMENT</td>\n",
       "      <td>1864.28</td>\n",
       "      <td>21249.0</td>\n",
       "      <td>19384.72</td>\n",
       "      <td>0.0</td>\n",
       "      <td>0.0</td>\n",
       "      <td>0</td>\n",
       "      <td>0</td>\n",
       "    </tr>\n",
       "    <tr>\n",
       "      <th>2</th>\n",
       "      <td>TRANSFER</td>\n",
       "      <td>181.00</td>\n",
       "      <td>181.0</td>\n",
       "      <td>0.00</td>\n",
       "      <td>0.0</td>\n",
       "      <td>0.0</td>\n",
       "      <td>1</td>\n",
       "      <td>0</td>\n",
       "    </tr>\n",
       "    <tr>\n",
       "      <th>3</th>\n",
       "      <td>CASH_OUT</td>\n",
       "      <td>181.00</td>\n",
       "      <td>181.0</td>\n",
       "      <td>0.00</td>\n",
       "      <td>21182.0</td>\n",
       "      <td>0.0</td>\n",
       "      <td>1</td>\n",
       "      <td>0</td>\n",
       "    </tr>\n",
       "    <tr>\n",
       "      <th>4</th>\n",
       "      <td>PAYMENT</td>\n",
       "      <td>11668.14</td>\n",
       "      <td>41554.0</td>\n",
       "      <td>29885.86</td>\n",
       "      <td>0.0</td>\n",
       "      <td>0.0</td>\n",
       "      <td>0</td>\n",
       "      <td>0</td>\n",
       "    </tr>\n",
       "  </tbody>\n",
       "</table>\n",
       "</div>"
      ]
     },
     "execution_count": 8,
     "metadata": {},
     "output_type": "execute_result"
    }
   ],
   "execution_count": 8
  },
  {
   "cell_type": "code",
   "source": [
    "# VALORES NULOS\n",
    "df.isnull().sum()\n",
    "\n",
    "# VALORES DUPLICADOS\n",
    "# SUMA DE LOS DUPLICADOS QUE EXISTAN\n",
    "num_duplicados = df.duplicated().sum()\n",
    "\n",
    "# MOSTRARA CUANTOS DUPLICADOS\n",
    "# DONDE SE GENERARON, \\\\\n",
    "# Ver ejemplos de filas duplicadas\n",
    "duplicados = df[df.duplicated()]\n",
    "# Contar cuántos de los duplicados son fraudes y cuántos no\n",
    "duplicados_fraude = duplicados['isFraud'].sum()\n",
    "duplicados_no_fraude = len(duplicados) - duplicados_fraude\n",
    "# Mostrar resultados\n",
    "{\n",
    "\"Total de duplicados\": num_duplicados,\n",
    "\"Duplicados que son fraude\": duplicados_fraude,\n",
    "\"Duplicados que no son fraude\": duplicados_no_fraude\n",
    "}"
   ],
   "metadata": {
    "id": "sycTW3uSvVHN",
    "ExecuteTime": {
     "end_time": "2025-03-16T06:44:24.324436600Z",
     "start_time": "2025-03-07T00:24:48.974435Z"
    }
   },
   "outputs": [
    {
     "data": {
      "text/plain": [
       "{'Total de duplicados': np.int64(97880),\n",
       " 'Duplicados que son fraude': np.int64(61),\n",
       " 'Duplicados que no son fraude': np.int64(97819)}"
      ]
     },
     "execution_count": 14,
     "metadata": {},
     "output_type": "execute_result"
    }
   ],
   "execution_count": 14
  },
  {
   "cell_type": "code",
   "source": [
    "# ELIMINAR DATOS QUE NO APORTAN VALOR, EN ESTE CASO SON 61 DATOS DUPLICADOS QUE NO AFECTARIAN\n",
    "\n",
    "df = df.drop_duplicates()"
   ],
   "metadata": {
    "id": "6ePfFkJbvvF9",
    "ExecuteTime": {
     "end_time": "2025-03-16T06:44:24.327441Z",
     "start_time": "2025-03-07T00:25:05.319798Z"
    }
   },
   "outputs": [],
   "execution_count": 15
  },
  {
   "cell_type": "code",
   "source": [
    "# Podemos resetear los índices\n",
    "df = df.reset_index(drop=True)"
   ],
   "metadata": {
    "id": "Rbp1fxNaxGnV",
    "ExecuteTime": {
     "end_time": "2025-03-16T06:44:24.338715600Z",
     "start_time": "2025-03-07T00:25:13.990791Z"
    }
   },
   "outputs": [],
   "execution_count": 16
  },
  {
   "cell_type": "markdown",
   "source": [
    "## 2.4.4 Tratamiento de valores atípicos"
   ],
   "metadata": {
    "id": "HBGYGhoBxJJN"
   }
  },
  {
   "cell_type": "code",
   "source": [
    "import numpy as np\n",
    "# pruebas de hipotesis (hip. nula o ) encontrar estadisticamente significativa, si dos variables estan altamente correlacionadas\n",
    "\n",
    "\n",
    "# Seleccionar las columnas numéricas\n",
    "columnas_numericas = ['amount', 'oldbalanceOrg', 'newbalanceOrig', 'oldbalanceDest', 'newbalanceDest']\n",
    "\n",
    "# Inicializar un diccionario para almacenar el conteo de valores atípicos\n",
    "conteo_outliers = {}\n",
    "\n",
    "# Iterar sobre cada columna numérica\n",
    "for columna in columnas_numericas:\n",
    "  # Calcular el primer y tercer cuartil (Q1 y Q3)\n",
    "  Q1 = df[columna].quantile(0.25)\n",
    "  Q3 = df[columna].quantile(0.75)\n",
    "\n",
    "  # Calcular el rango intercuartílico (IQR)\n",
    "  IQR = Q3 - Q1\n",
    "\n",
    "  # Definir los límites inferior y superior para los valores atípicos\n",
    "  limite_inferior = Q1 - 1.5 * IQR\n",
    "  limite_superior = Q3 + 1.5 * IQR\n",
    "\n",
    "  # Contar los valores atípicos\n",
    "  outliers = df[(df[columna] < limite_inferior) | \\\n",
    "  (df[columna] > limite_superior)]\n",
    "  conteo_outliers[columna] = outliers.shape[0]\n",
    "\n",
    "\n",
    "# Mostrar el conteo de valores atípicos por columna\n",
    "for columna, conteo in conteo_outliers.items():\n",
    "  print(f'Columna {columna}: {conteo} valores atípicos')\n",
    "  total_outliers = sum(conteo_outliers.values())\n",
    "  print(f\"\\nTotal de valores atípicos: {total_outliers}\")\n",
    "  print(f\"El {total_outliers/len(df)}% de los valores son atípicos\")"
   ],
   "metadata": {
    "collapsed": true,
    "id": "WbQEA18LxLd1",
    "ExecuteTime": {
     "end_time": "2025-03-16T06:44:24.339733300Z",
     "start_time": "2025-03-07T00:25:14.156364Z"
    }
   },
   "outputs": [
    {
     "name": "stdout",
     "output_type": "stream",
     "text": [
      "Columna amount: 331341 valores atípicos\n",
      "\n",
      "Total de valores atípicos: 3949823\n",
      "El 0.6304847447779157% de los valores son atípicos\n",
      "Columna oldbalanceOrg: 1098406 valores atípicos\n",
      "\n",
      "Total de valores atípicos: 3949823\n",
      "El 0.6304847447779157% de los valores son atípicos\n",
      "Columna newbalanceOrig: 1031683 valores atípicos\n",
      "\n",
      "Total de valores atípicos: 3949823\n",
      "El 0.6304847447779157% de los valores son atípicos\n",
      "Columna oldbalanceDest: 767481 valores atípicos\n",
      "\n",
      "Total de valores atípicos: 3949823\n",
      "El 0.6304847447779157% de los valores son atípicos\n",
      "Columna newbalanceDest: 720912 valores atípicos\n",
      "\n",
      "Total de valores atípicos: 3949823\n",
      "El 0.6304847447779157% de los valores son atípicos\n"
     ]
    }
   ],
   "execution_count": 17
  },
  {
   "metadata": {
    "ExecuteTime": {
     "end_time": "2025-03-16T06:44:24.340735200Z",
     "start_time": "2025-03-16T06:32:10.158818Z"
    }
   },
   "cell_type": "code",
   "source": [
    "import matplotlib.pyplot as plt\n",
    "import seaborn as sns\n",
    "\n",
    "plt.figure(figsize=(8, 6))\n",
    "sns.boxplot(data=df, y=\"amount\")\n",
    "plt.yscale(\"log\")  # Usamos escala logarítmica si hay valores extremos\n",
    "plt.title(\"Detección de outliers en 'amount'\")\n",
    "plt.ylabel(\"Monto de la transacción (log)\")\n",
    "plt.show()\n"
   ],
   "outputs": [
    {
     "data": {
      "text/plain": [
       "<Figure size 800x600 with 1 Axes>"
      ],
      "image/png": "[encoded data removed]"
     },
     "metadata": {},
     "output_type": "display_data"
    }
   ],
   "execution_count": 13
  },
  {
   "cell_type": "code",
   "source": [
    "# Diccionarios para almacenar los resultados\n",
    "proporcion_outliers_fraude = {}\n",
    "proporcion_outliers_no_fraude = {}\n",
    "# Iterar sobre cada columna numérica\n",
    "for columna in columnas_numericas:\n",
    "  # Calcular IQR y límites para valores atípicos\n",
    "  Q1 = df[columna].quantile(0.25)\n",
    "  Q3 = df[columna].quantile(0.75)\n",
    "  IQR = Q3 - Q1\n",
    "  limite_inferior = Q1 - 1.5 * IQR\n",
    "  limite_superior = Q3 + 1.5 * IQR\n",
    "  # Identificar valores atípicos\n",
    "  outliers = (df[columna] < limite_inferior) | \\\n",
    "  (df[columna] > limite_superior)\n",
    "\n",
    "  # Contar la proporción de valores atípicos en fraudes y no fraudes\n",
    "  proporcion_outliers_fraude[columna] = df[outliers & \\\n",
    "  (df['isFraud'] == 1)].shape[0] / df[df['isFraud'] == 1].shape[0]\n",
    "  proporcion_outliers_no_fraude[columna] = df[outliers & \\\n",
    "  (df['isFraud'] == 0)].shape[0] / df[df['isFraud'] == 0].shape[0]\n",
    "\n",
    "# Crear DataFrame con los resultados\n",
    "df_proporcion_outliers = pd.DataFrame({\n",
    "'Proporción en fraudes': proporcion_outliers_fraude,\n",
    "'Proporción en no fraudes': proporcion_outliers_no_fraude\n",
    "})\n",
    "df_proporcion_outliers"
   ],
   "metadata": {
    "collapsed": true,
    "id": "ZtM-zFFVyWQ-",
    "ExecuteTime": {
     "end_time": "2025-03-16T06:44:24.342731800Z",
     "start_time": "2025-03-07T00:25:15.175691Z"
    }
   },
   "outputs": [
    {
     "data": {
      "text/plain": [
       "                Proporción en fraudes  Proporción en no fraudes\n",
       "amount                       0.463199                  0.052355\n",
       "oldbalanceOrg                0.594701                  0.174785\n",
       "newbalanceOrig               0.019014                  0.164871\n",
       "oldbalanceDest               0.054956                  0.122596\n",
       "newbalanceDest               0.126840                  0.115059"
      ],
      "text/html": [
       "<div>\n",
       "<style scoped>\n",
       "    .dataframe tbody tr th:only-of-type {\n",
       "        vertical-align: middle;\n",
       "    }\n",
       "\n",
       "    .dataframe tbody tr th {\n",
       "        vertical-align: top;\n",
       "    }\n",
       "\n",
       "    .dataframe thead th {\n",
       "        text-align: right;\n",
       "    }\n",
       "</style>\n",
       "<table border=\"1\" class=\"dataframe\">\n",
       "  <thead>\n",
       "    <tr style=\"text-align: right;\">\n",
       "      <th></th>\n",
       "      <th>Proporción en fraudes</th>\n",
       "      <th>Proporción en no fraudes</th>\n",
       "    </tr>\n",
       "  </thead>\n",
       "  <tbody>\n",
       "    <tr>\n",
       "      <th>amount</th>\n",
       "      <td>0.463199</td>\n",
       "      <td>0.052355</td>\n",
       "    </tr>\n",
       "    <tr>\n",
       "      <th>oldbalanceOrg</th>\n",
       "      <td>0.594701</td>\n",
       "      <td>0.174785</td>\n",
       "    </tr>\n",
       "    <tr>\n",
       "      <th>newbalanceOrig</th>\n",
       "      <td>0.019014</td>\n",
       "      <td>0.164871</td>\n",
       "    </tr>\n",
       "    <tr>\n",
       "      <th>oldbalanceDest</th>\n",
       "      <td>0.054956</td>\n",
       "      <td>0.122596</td>\n",
       "    </tr>\n",
       "    <tr>\n",
       "      <th>newbalanceDest</th>\n",
       "      <td>0.126840</td>\n",
       "      <td>0.115059</td>\n",
       "    </tr>\n",
       "  </tbody>\n",
       "</table>\n",
       "</div>"
      ]
     },
     "execution_count": 18,
     "metadata": {},
     "output_type": "execute_result"
    }
   ],
   "execution_count": 18
  },
  {
   "cell_type": "markdown",
   "source": [
    "# PRUEBA DE HIPOTESIS"
   ],
   "metadata": {
    "id": "O77Va7MRy5gd"
   }
  },
  {
   "cell_type": "code",
   "source": [
    "import scipy.stats as stats\n",
    "# Diccionario para almacenar los resultados de la prueba de Chi-cuadrado\n",
    "chi2_results = {}\n",
    "df_Hip = df.copy()\n",
    "# Iterar sobre cada columna numérica\n",
    "for columna in columnas_numericas:\n",
    "  # Calcular IQR y límites para valores atípicos\n",
    "  Q1 = df_Hip[columna].quantile(0.25)\n",
    "  Q3 = df_Hip[columna].quantile(0.75)\n",
    "  IQR = Q3 - Q1\n",
    "  limite_inferior = Q1 - 1.5 * IQR\n",
    "  limite_superior = Q3 + 1.5 * IQR\n",
    "  # Crear una columna binaria indicando si es un valor atípico o no\n",
    "  df_Hip[f\"{columna}_outlier\"] = (df_Hip[columna] < limite_inferior) | \\\n",
    "  (df_Hip[columna] > limite_superior)\n",
    "\n",
    "  # Construir tabla de contingencia\n",
    "  tabla_contingencia = pd.crosstab(df_Hip[f\"{columna}_outlier\"],\n",
    "\n",
    "  df_Hip[\"isFraud\"])\n",
    "\n",
    "  # Prueba de Chi-cuadrado\n",
    "  chi2_stat, p_valor, _, _ = stats.chi2_contingency(tabla_contingencia)\n",
    "  # Guardar los resultados\n",
    "  chi2_results[columna] = {'Chi2': chi2_stat, 'p-valor': p_valor}\n",
    "\n",
    "\n",
    "# Convertir los resultados a DataFrame y mostrarlos\n",
    "df_chi2_results = pd.DataFrame(chi2_results).T\n",
    "df_chi2_results\n",
    "\n",
    "# SI EL P-VALOR ES MENOR A 0.5 SE DESCARTA LA HIP. NULA. DE QUE NO HAY UNA RELACION ENTRE VALORES ATIPICOS Y QUE ES FRAUDE, PERO SI EXISTE RELACION CON ESOS DATOS. NO SE ELIMINAN, SE MANTIENEN, CREAR UNA NUEVA VARIABLE CON EL VALOR ATIPICO"
   ],
   "metadata": {
    "collapsed": true,
    "id": "u5w4kb4Dy8wV",
    "ExecuteTime": {
     "end_time": "2025-03-16T06:44:24.347732200Z",
     "start_time": "2025-03-07T00:25:17.864532Z"
    }
   },
   "outputs": [
    {
     "data": {
      "text/plain": [
       "                        Chi2        p-valor\n",
       "amount          27425.218630   0.000000e+00\n",
       "oldbalanceOrg    9925.593149   0.000000e+00\n",
       "newbalanceOrig   1258.031500  1.491697e-275\n",
       "oldbalanceDest    345.869212   3.362733e-77\n",
       "newbalanceDest     10.980585   9.207136e-04"
      ],
      "text/html": [
       "<div>\n",
       "<style scoped>\n",
       "    .dataframe tbody tr th:only-of-type {\n",
       "        vertical-align: middle;\n",
       "    }\n",
       "\n",
       "    .dataframe tbody tr th {\n",
       "        vertical-align: top;\n",
       "    }\n",
       "\n",
       "    .dataframe thead th {\n",
       "        text-align: right;\n",
       "    }\n",
       "</style>\n",
       "<table border=\"1\" class=\"dataframe\">\n",
       "  <thead>\n",
       "    <tr style=\"text-align: right;\">\n",
       "      <th></th>\n",
       "      <th>Chi2</th>\n",
       "      <th>p-valor</th>\n",
       "    </tr>\n",
       "  </thead>\n",
       "  <tbody>\n",
       "    <tr>\n",
       "      <th>amount</th>\n",
       "      <td>27425.218630</td>\n",
       "      <td>0.000000e+00</td>\n",
       "    </tr>\n",
       "    <tr>\n",
       "      <th>oldbalanceOrg</th>\n",
       "      <td>9925.593149</td>\n",
       "      <td>0.000000e+00</td>\n",
       "    </tr>\n",
       "    <tr>\n",
       "      <th>newbalanceOrig</th>\n",
       "      <td>1258.031500</td>\n",
       "      <td>1.491697e-275</td>\n",
       "    </tr>\n",
       "    <tr>\n",
       "      <th>oldbalanceDest</th>\n",
       "      <td>345.869212</td>\n",
       "      <td>3.362733e-77</td>\n",
       "    </tr>\n",
       "    <tr>\n",
       "      <th>newbalanceDest</th>\n",
       "      <td>10.980585</td>\n",
       "      <td>9.207136e-04</td>\n",
       "    </tr>\n",
       "  </tbody>\n",
       "</table>\n",
       "</div>"
      ]
     },
     "execution_count": 19,
     "metadata": {},
     "output_type": "execute_result"
    }
   ],
   "execution_count": 19
  },
  {
   "cell_type": "markdown",
   "source": [
    "## 2.4.5 Creación de nuevas variables"
   ],
   "metadata": {
    "id": "OfHAnKfGzl9d"
   }
  },
  {
   "cell_type": "code",
   "source": [
    "# Crear nuevas variables binarias indicando si cada transacción es un valor\n",
    "# atípico en 'amount' y 'oldbalanceOrg'\n",
    "df_outliers = df.copy()\n",
    "# Definir los límites de valores atípicos usando el\n",
    "# método del Rango Intercuartílico (IQR)\n",
    "for columna in ['amount', 'oldbalanceOrg']:\n",
    "  Q1 = df_outliers[columna].quantile(0.25)\n",
    "  Q3 = df_outliers[columna].quantile(0.75)\n",
    "  IQR = Q3 - Q1\n",
    "  limite_inferior = Q1 - 1.5 * IQR\n",
    "  limite_superior = Q3 + 1.5 * IQR\n",
    "  # Crear una nueva columna indicando si el valor es atípico (1) o no (0)\n",
    "  df_outliers[f'{columna}_outlier'] = ((df_outliers[columna] < limite_inferior) | (df_outliers[columna] > limite_superior)).astype(int)\n",
    "\n",
    "# Verificar que las nuevas columnas fueron añadidas correctamente\n",
    "df_outliers.head()"
   ],
   "metadata": {
    "collapsed": true,
    "id": "KYELQpxizjke",
    "ExecuteTime": {
     "end_time": "2025-03-16T06:44:24.351732500Z",
     "start_time": "2025-03-07T00:25:30.070183Z"
    }
   },
   "outputs": [
    {
     "data": {
      "text/plain": [
       "       type    amount  oldbalanceOrg  newbalanceOrig  oldbalanceDest  \\\n",
       "0   PAYMENT   9839.64       170136.0       160296.36             0.0   \n",
       "1   PAYMENT   1864.28        21249.0        19384.72             0.0   \n",
       "2  TRANSFER    181.00          181.0            0.00             0.0   \n",
       "3  CASH_OUT    181.00          181.0            0.00         21182.0   \n",
       "4   PAYMENT  11668.14        41554.0        29885.86             0.0   \n",
       "\n",
       "   newbalanceDest  isFraud  isFlaggedFraud  amount_outlier  \\\n",
       "0             0.0        0               0               0   \n",
       "1             0.0        0               0               0   \n",
       "2             0.0        1               0               0   \n",
       "3             0.0        1               0               0   \n",
       "4             0.0        0               0               0   \n",
       "\n",
       "   oldbalanceOrg_outlier  \n",
       "0                      0  \n",
       "1                      0  \n",
       "2                      0  \n",
       "3                      0  \n",
       "4                      0  "
      ],
      "text/html": [
       "<div>\n",
       "<style scoped>\n",
       "    .dataframe tbody tr th:only-of-type {\n",
       "        vertical-align: middle;\n",
       "    }\n",
       "\n",
       "    .dataframe tbody tr th {\n",
       "        vertical-align: top;\n",
       "    }\n",
       "\n",
       "    .dataframe thead th {\n",
       "        text-align: right;\n",
       "    }\n",
       "</style>\n",
       "<table border=\"1\" class=\"dataframe\">\n",
       "  <thead>\n",
       "    <tr style=\"text-align: right;\">\n",
       "      <th></th>\n",
       "      <th>type</th>\n",
       "      <th>amount</th>\n",
       "      <th>oldbalanceOrg</th>\n",
       "      <th>newbalanceOrig</th>\n",
       "      <th>oldbalanceDest</th>\n",
       "      <th>newbalanceDest</th>\n",
       "      <th>isFraud</th>\n",
       "      <th>isFlaggedFraud</th>\n",
       "      <th>amount_outlier</th>\n",
       "      <th>oldbalanceOrg_outlier</th>\n",
       "    </tr>\n",
       "  </thead>\n",
       "  <tbody>\n",
       "    <tr>\n",
       "      <th>0</th>\n",
       "      <td>PAYMENT</td>\n",
       "      <td>9839.64</td>\n",
       "      <td>170136.0</td>\n",
       "      <td>160296.36</td>\n",
       "      <td>0.0</td>\n",
       "      <td>0.0</td>\n",
       "      <td>0</td>\n",
       "      <td>0</td>\n",
       "      <td>0</td>\n",
       "      <td>0</td>\n",
       "    </tr>\n",
       "    <tr>\n",
       "      <th>1</th>\n",
       "      <td>PAYMENT</td>\n",
       "      <td>1864.28</td>\n",
       "      <td>21249.0</td>\n",
       "      <td>19384.72</td>\n",
       "      <td>0.0</td>\n",
       "      <td>0.0</td>\n",
       "      <td>0</td>\n",
       "      <td>0</td>\n",
       "      <td>0</td>\n",
       "      <td>0</td>\n",
       "    </tr>\n",
       "    <tr>\n",
       "      <th>2</th>\n",
       "      <td>TRANSFER</td>\n",
       "      <td>181.00</td>\n",
       "      <td>181.0</td>\n",
       "      <td>0.00</td>\n",
       "      <td>0.0</td>\n",
       "      <td>0.0</td>\n",
       "      <td>1</td>\n",
       "      <td>0</td>\n",
       "      <td>0</td>\n",
       "      <td>0</td>\n",
       "    </tr>\n",
       "    <tr>\n",
       "      <th>3</th>\n",
       "      <td>CASH_OUT</td>\n",
       "      <td>181.00</td>\n",
       "      <td>181.0</td>\n",
       "      <td>0.00</td>\n",
       "      <td>21182.0</td>\n",
       "      <td>0.0</td>\n",
       "      <td>1</td>\n",
       "      <td>0</td>\n",
       "      <td>0</td>\n",
       "      <td>0</td>\n",
       "    </tr>\n",
       "    <tr>\n",
       "      <th>4</th>\n",
       "      <td>PAYMENT</td>\n",
       "      <td>11668.14</td>\n",
       "      <td>41554.0</td>\n",
       "      <td>29885.86</td>\n",
       "      <td>0.0</td>\n",
       "      <td>0.0</td>\n",
       "      <td>0</td>\n",
       "      <td>0</td>\n",
       "      <td>0</td>\n",
       "      <td>0</td>\n",
       "    </tr>\n",
       "  </tbody>\n",
       "</table>\n",
       "</div>"
      ]
     },
     "execution_count": 20,
     "metadata": {},
     "output_type": "execute_result"
    }
   ],
   "execution_count": 20
  },
  {
   "cell_type": "markdown",
   "source": [
    "## 2.4.6 Codificación de Variables Categóricas"
   ],
   "metadata": {
    "id": "DZVHn4eM0Er-"
   }
  },
  {
   "cell_type": "code",
   "source": [
    "# CON OH, CREAR UNA ESCALADAS EN NUEVAS VARIABLES CATEGORICAS\n",
    "# NO HAY CATEGORIAS NO HAY UNA QUE NECESITE UNA DE OTRA\n",
    "df_OH = pd.get_dummies(df_outliers, columns=['type'])\n",
    "df_OH[[\"type_CASH_IN\", \"type_CASH_OUT\", \"type_DEBIT\",\n",
    "\"type_PAYMENT\", \"type_TRANSFER\"]].head()"
   ],
   "metadata": {
    "collapsed": true,
    "id": "nNUO5pI00G0-",
    "ExecuteTime": {
     "end_time": "2025-03-16T06:44:24.362Z",
     "start_time": "2025-03-07T00:25:30.756093Z"
    }
   },
   "outputs": [
    {
     "data": {
      "text/plain": [
       "   type_CASH_IN  type_CASH_OUT  type_DEBIT  type_PAYMENT  type_TRANSFER\n",
       "0         False          False       False          True          False\n",
       "1         False          False       False          True          False\n",
       "2         False          False       False         False           True\n",
       "3         False           True       False         False          False\n",
       "4         False          False       False          True          False"
      ],
      "text/html": [
       "<div>\n",
       "<style scoped>\n",
       "    .dataframe tbody tr th:only-of-type {\n",
       "        vertical-align: middle;\n",
       "    }\n",
       "\n",
       "    .dataframe tbody tr th {\n",
       "        vertical-align: top;\n",
       "    }\n",
       "\n",
       "    .dataframe thead th {\n",
       "        text-align: right;\n",
       "    }\n",
       "</style>\n",
       "<table border=\"1\" class=\"dataframe\">\n",
       "  <thead>\n",
       "    <tr style=\"text-align: right;\">\n",
       "      <th></th>\n",
       "      <th>type_CASH_IN</th>\n",
       "      <th>type_CASH_OUT</th>\n",
       "      <th>type_DEBIT</th>\n",
       "      <th>type_PAYMENT</th>\n",
       "      <th>type_TRANSFER</th>\n",
       "    </tr>\n",
       "  </thead>\n",
       "  <tbody>\n",
       "    <tr>\n",
       "      <th>0</th>\n",
       "      <td>False</td>\n",
       "      <td>False</td>\n",
       "      <td>False</td>\n",
       "      <td>True</td>\n",
       "      <td>False</td>\n",
       "    </tr>\n",
       "    <tr>\n",
       "      <th>1</th>\n",
       "      <td>False</td>\n",
       "      <td>False</td>\n",
       "      <td>False</td>\n",
       "      <td>True</td>\n",
       "      <td>False</td>\n",
       "    </tr>\n",
       "    <tr>\n",
       "      <th>2</th>\n",
       "      <td>False</td>\n",
       "      <td>False</td>\n",
       "      <td>False</td>\n",
       "      <td>False</td>\n",
       "      <td>True</td>\n",
       "    </tr>\n",
       "    <tr>\n",
       "      <th>3</th>\n",
       "      <td>False</td>\n",
       "      <td>True</td>\n",
       "      <td>False</td>\n",
       "      <td>False</td>\n",
       "      <td>False</td>\n",
       "    </tr>\n",
       "    <tr>\n",
       "      <th>4</th>\n",
       "      <td>False</td>\n",
       "      <td>False</td>\n",
       "      <td>False</td>\n",
       "      <td>True</td>\n",
       "      <td>False</td>\n",
       "    </tr>\n",
       "  </tbody>\n",
       "</table>\n",
       "</div>"
      ]
     },
     "execution_count": 21,
     "metadata": {},
     "output_type": "execute_result"
    }
   ],
   "execution_count": 21
  },
  {
   "cell_type": "markdown",
   "source": [
    "## 2.4.7 Conversión de variables"
   ],
   "metadata": {
    "id": "hiDWORhu0u_m"
   }
  },
  {
   "cell_type": "code",
   "source": [
    "df_OH.dtypes\n",
    "# ELIGE TODAS LAS COLUMNAS DEL TIPO DE DATO QUE NOSOTROS DESEAMOS UTILIZAR, PARA DESPUES CAMBIARLOS Y PODER MANEJAR LOS DATOS, uint8 MANEJA NUMEROS POSITIVOS HACUENDO QUE SE REDUZCA EL NUMERO DE MEMORIA PARA CADA UNO DE LOS VALORES\n",
    "columnas_booleanas = df_OH.select_dtypes(include=['bool']).columns\n",
    "df_OH[columnas_booleanas] = df_OH[columnas_booleanas].astype(np.uint8)"
   ],
   "metadata": {
    "id": "WY524vlB0oZO",
    "ExecuteTime": {
     "end_time": "2025-03-16T06:44:24.365996100Z",
     "start_time": "2025-03-07T00:25:31.909573Z"
    }
   },
   "outputs": [],
   "execution_count": 22
  },
  {
   "cell_type": "markdown",
   "source": [
    "## 2.4.8 División de los datos en entrenamiento y prueba"
   ],
   "metadata": {
    "id": "vU8DOS391JD-"
   }
  },
  {
   "cell_type": "code",
   "source": [
    "from sklearn.model_selection import train_test_split\n",
    "\n",
    "# Separar características y variable objetivo\n",
    "X = df_OH.drop(columns=['isFraud'])\n",
    "y = df_OH['isFraud']\n",
    "\n",
    "\n",
    "# Dividir en conjunto de entrenamiento (90%) y prueba (10%)\n",
    "# con estratificación: AYUDA A QUE LOS DATOS DE ENTRENAMIENTO SEAN VARIADOS SIN SOBRE ENTRENARSE, QUE LO HAGA EN PROPORCION DE LOS DATOS DE CADA CONJUNTO,\n",
    "X_train, X_test, y_train, y_test = train_test_split(X, y, test_size=0.1,)"
   ],
   "metadata": {
    "id": "MVy2WGIK1JZO",
    "ExecuteTime": {
     "end_time": "2025-03-16T06:44:24.367997500Z",
     "start_time": "2025-03-07T00:25:32.224977Z"
    }
   },
   "outputs": [],
   "execution_count": 23
  },
  {
   "cell_type": "code",
   "source": [
    "# COMPROBACION DE LA ESTRATIFICACION\n",
    "\n",
    "\n",
    "# Ver la relación entre fraudes y NO fraudes para el conjunto de prueba\n",
    "cant_fraudes_test = sum(y_test)\n",
    "cant_NO_fraudes_test = len(y_test)-sum(y_test)\n",
    "proporcion_test = sum(y_test)/(len(y_test)-sum(y_test))\n",
    "print(f\"Cantidad de fraudes en el conjunto de prueba: \\\n",
    "{cant_fraudes_test}\")\n",
    "print(f\"Cantidad de NO fraudes en el conjunto de prueba: \\\n",
    "{cant_NO_fraudes_test}\")\n",
    "print(f\"Proporción (fraudes)/(NO fraudes) en el conjunto de prueba: \\\n",
    "{proporcion_test:.6f}\")\n",
    "# Ver la relación entre fraudes y NO fraudes para el\n",
    "# conjunto de entrenamiento\n",
    "cant_fraudes_train = sum(y_train)\n",
    "cant_NO_fraudes_train = len(y_train)-sum(y_train)\n",
    "\n",
    "# SUMA-CANTIDAD DE LA PROPORCION ENTRE FRAUDES Y NO FRAUDES EN EL CONJUNTO COMPLETO,\n",
    "proporcion_train = sum(y_train)/(len(y_train)-sum(y_train))\n",
    "\n",
    "\n",
    "print(f\"Cantidad de fraudes en el conjunto de entrenamiento: \\\n",
    "{cant_fraudes_train}\")\n",
    "print(f\"Cantidad de NO fraudes en el conjunto de entrenamiento: \\\n",
    "{cant_NO_fraudes_train}\")\n",
    "print(f\"Proporción (fraudes)/(NO fraudes) en el conjunto de entrenamiento: \\\n",
    "{proporcion_train:.6f}\")\n",
    "\n",
    "\n",
    "#"
   ],
   "metadata": {
    "collapsed": true,
    "id": "rySL4lND16ku",
    "ExecuteTime": {
     "end_time": "2025-03-16T06:44:24.369987900Z",
     "start_time": "2025-03-07T00:25:35.929115Z"
    }
   },
   "outputs": [
    {
     "name": "stdout",
     "output_type": "stream",
     "text": [
      "Cantidad de fraudes en el conjunto de prueba: 820\n",
      "Cantidad de NO fraudes en el conjunto de prueba: 625654\n",
      "Proporción (fraudes)/(NO fraudes) en el conjunto de prueba: 0.001311\n",
      "Cantidad de fraudes en el conjunto de entrenamiento: 7332\n",
      "Cantidad de NO fraudes en el conjunto de entrenamiento: 5630934\n",
      "Proporción (fraudes)/(NO fraudes) en el conjunto de entrenamiento: 0.001302\n"
     ]
    }
   ],
   "execution_count": 24
  },
  {
   "cell_type": "markdown",
   "source": [
    "## 2.4.9 Estandarizar variables numéricas"
   ],
   "metadata": {
    "id": "gzhPa9R12Zt_"
   }
  },
  {
   "cell_type": "code",
   "source": [
    "from sklearn.preprocessing import StandardScaler\n",
    "# Identificar columnas numéricas\n",
    "columnas_numericas = X_train.select_dtypes(include=['float64']).columns\n",
    "columnas_categoricas = X_train.select_dtypes(exclude=['float64']).columns\n",
    "# Ajustar el escalador solo en las columnas numéricas\n",
    "# El scaler se ajusta sólo con el conjunto de entrenamiento\n",
    "scaler = StandardScaler()\n",
    "# Solo transformar numéricas\n",
    "X_train_numericas = scaler.fit_transform(X_train[columnas_numericas])\n",
    "# Aplicar el mismo escalado en prueba\n",
    "X_test_numericas = scaler.transform(X_test[columnas_numericas])\n",
    "\n",
    "#LA MEDIA Y LA ESTANDAR, DE LA ESTANDARIZACION: RESTA LA MEDIA Y LO DIVIDE ENTRE LA DESVIACION ESTANDAR. SE MUESTRA UN ARRAY"
   ],
   "metadata": {
    "id": "qCzgel2R2bp2",
    "ExecuteTime": {
     "end_time": "2025-03-16T06:44:24.372989200Z",
     "start_time": "2025-03-07T00:25:37.700121Z"
    }
   },
   "outputs": [],
   "execution_count": 25
  },
  {
   "cell_type": "code",
   "source": [
    "# Convertir de nuevo a DataFrame incluyendo las categóricas sin modificar\n",
    "X_train_scaled = pd.DataFrame(X_train_numericas,\n",
    "\n",
    "columns=columnas_numericas,\n",
    "index=X_train.index)\n",
    "X_test_scaled = pd.DataFrame(X_test_numericas,\n",
    "\n",
    "columns=columnas_numericas,\n",
    "index=X_test.index)\n",
    "# Añadir columnas categóricas de nuevo sin modificar\n",
    "X_train_scaled[columnas_categoricas] = X_train[columnas_categoricas].values\n",
    "X_test_scaled[columnas_categoricas] = X_test[columnas_categoricas].values\n",
    "\n",
    "X_train_scaled"
   ],
   "metadata": {
    "collapsed": true,
    "id": "5f6vRl_z3cPG",
    "ExecuteTime": {
     "end_time": "2025-03-16T06:44:24.373998900Z",
     "start_time": "2025-03-07T00:25:38.742298Z"
    }
   },
   "outputs": [
    {
     "data": {
      "text/plain": [
       "           amount  oldbalanceOrg  newbalanceOrig  oldbalanceDest  \\\n",
       "3926808  0.279670      -0.291233       -0.295008       -0.124506   \n",
       "3729845 -0.001517      -0.277855       -0.295008        1.107552   \n",
       "489883  -0.200479      -0.275216       -0.295008       -0.136019   \n",
       "415579  -0.121554      -0.291233       -0.295008        0.132224   \n",
       "1653735 -0.282703      -0.185256       -0.193922       -0.326650   \n",
       "...           ...            ...             ...             ...   \n",
       "4277176  0.229985       0.971266        1.061333        0.389688   \n",
       "2556291  0.039557      -0.291233       -0.295008       -0.181108   \n",
       "1468542 -0.250621      -0.291233       -0.295008       -0.326650   \n",
       "3088165 -0.290763      -0.266822       -0.272822       -0.326650   \n",
       "4675688 -0.287819      -0.274123       -0.280641       -0.326650   \n",
       "\n",
       "         newbalanceDest  isFlaggedFraud  amount_outlier  \\\n",
       "3926808        0.025651               0               0   \n",
       "3729845        1.039394               0               0   \n",
       "489883        -0.088694               0               0   \n",
       "415579         0.117543               0               0   \n",
       "1653735       -0.336221               0               0   \n",
       "...                 ...             ...             ...   \n",
       "4277176        0.239287               0               0   \n",
       "2556291       -0.145810               0               0   \n",
       "1468542       -0.336221               0               0   \n",
       "3088165       -0.336221               0               0   \n",
       "4675688       -0.336221               0               0   \n",
       "\n",
       "         oldbalanceOrg_outlier  type_CASH_IN  type_CASH_OUT  type_DEBIT  \\\n",
       "3926808                      0             0              1           0   \n",
       "3729845                      0             0              1           0   \n",
       "489883                       0             0              1           0   \n",
       "415579                       0             0              1           0   \n",
       "1653735                      1             0              0           0   \n",
       "...                        ...           ...            ...         ...   \n",
       "4277176                      1             1              0           0   \n",
       "2556291                      0             0              1           0   \n",
       "1468542                      0             0              0           0   \n",
       "3088165                      0             0              0           0   \n",
       "4675688                      0             0              0           0   \n",
       "\n",
       "         type_PAYMENT  type_TRANSFER  \n",
       "3926808             0              0  \n",
       "3729845             0              0  \n",
       "489883              0              0  \n",
       "415579              0              0  \n",
       "1653735             1              0  \n",
       "...               ...            ...  \n",
       "4277176             0              0  \n",
       "2556291             0              0  \n",
       "1468542             1              0  \n",
       "3088165             1              0  \n",
       "4675688             1              0  \n",
       "\n",
       "[5638266 rows x 13 columns]"
      ],
      "text/html": [
       "<div>\n",
       "<style scoped>\n",
       "    .dataframe tbody tr th:only-of-type {\n",
       "        vertical-align: middle;\n",
       "    }\n",
       "\n",
       "    .dataframe tbody tr th {\n",
       "        vertical-align: top;\n",
       "    }\n",
       "\n",
       "    .dataframe thead th {\n",
       "        text-align: right;\n",
       "    }\n",
       "</style>\n",
       "<table border=\"1\" class=\"dataframe\">\n",
       "  <thead>\n",
       "    <tr style=\"text-align: right;\">\n",
       "      <th></th>\n",
       "      <th>amount</th>\n",
       "      <th>oldbalanceOrg</th>\n",
       "      <th>newbalanceOrig</th>\n",
       "      <th>oldbalanceDest</th>\n",
       "      <th>newbalanceDest</th>\n",
       "      <th>isFlaggedFraud</th>\n",
       "      <th>amount_outlier</th>\n",
       "      <th>oldbalanceOrg_outlier</th>\n",
       "      <th>type_CASH_IN</th>\n",
       "      <th>type_CASH_OUT</th>\n",
       "      <th>type_DEBIT</th>\n",
       "      <th>type_PAYMENT</th>\n",
       "      <th>type_TRANSFER</th>\n",
       "    </tr>\n",
       "  </thead>\n",
       "  <tbody>\n",
       "    <tr>\n",
       "      <th>3926808</th>\n",
       "      <td>0.279670</td>\n",
       "      <td>-0.291233</td>\n",
       "      <td>-0.295008</td>\n",
       "      <td>-0.124506</td>\n",
       "      <td>0.025651</td>\n",
       "      <td>0</td>\n",
       "      <td>0</td>\n",
       "      <td>0</td>\n",
       "      <td>0</td>\n",
       "      <td>1</td>\n",
       "      <td>0</td>\n",
       "      <td>0</td>\n",
       "      <td>0</td>\n",
       "    </tr>\n",
       "    <tr>\n",
       "      <th>3729845</th>\n",
       "      <td>-0.001517</td>\n",
       "      <td>-0.277855</td>\n",
       "      <td>-0.295008</td>\n",
       "      <td>1.107552</td>\n",
       "      <td>1.039394</td>\n",
       "      <td>0</td>\n",
       "      <td>0</td>\n",
       "      <td>0</td>\n",
       "      <td>0</td>\n",
       "      <td>1</td>\n",
       "      <td>0</td>\n",
       "      <td>0</td>\n",
       "      <td>0</td>\n",
       "    </tr>\n",
       "    <tr>\n",
       "      <th>489883</th>\n",
       "      <td>-0.200479</td>\n",
       "      <td>-0.275216</td>\n",
       "      <td>-0.295008</td>\n",
       "      <td>-0.136019</td>\n",
       "      <td>-0.088694</td>\n",
       "      <td>0</td>\n",
       "      <td>0</td>\n",
       "      <td>0</td>\n",
       "      <td>0</td>\n",
       "      <td>1</td>\n",
       "      <td>0</td>\n",
       "      <td>0</td>\n",
       "      <td>0</td>\n",
       "    </tr>\n",
       "    <tr>\n",
       "      <th>415579</th>\n",
       "      <td>-0.121554</td>\n",
       "      <td>-0.291233</td>\n",
       "      <td>-0.295008</td>\n",
       "      <td>0.132224</td>\n",
       "      <td>0.117543</td>\n",
       "      <td>0</td>\n",
       "      <td>0</td>\n",
       "      <td>0</td>\n",
       "      <td>0</td>\n",
       "      <td>1</td>\n",
       "      <td>0</td>\n",
       "      <td>0</td>\n",
       "      <td>0</td>\n",
       "    </tr>\n",
       "    <tr>\n",
       "      <th>1653735</th>\n",
       "      <td>-0.282703</td>\n",
       "      <td>-0.185256</td>\n",
       "      <td>-0.193922</td>\n",
       "      <td>-0.326650</td>\n",
       "      <td>-0.336221</td>\n",
       "      <td>0</td>\n",
       "      <td>0</td>\n",
       "      <td>1</td>\n",
       "      <td>0</td>\n",
       "      <td>0</td>\n",
       "      <td>0</td>\n",
       "      <td>1</td>\n",
       "      <td>0</td>\n",
       "    </tr>\n",
       "    <tr>\n",
       "      <th>...</th>\n",
       "      <td>...</td>\n",
       "      <td>...</td>\n",
       "      <td>...</td>\n",
       "      <td>...</td>\n",
       "      <td>...</td>\n",
       "      <td>...</td>\n",
       "      <td>...</td>\n",
       "      <td>...</td>\n",
       "      <td>...</td>\n",
       "      <td>...</td>\n",
       "      <td>...</td>\n",
       "      <td>...</td>\n",
       "      <td>...</td>\n",
       "    </tr>\n",
       "    <tr>\n",
       "      <th>4277176</th>\n",
       "      <td>0.229985</td>\n",
       "      <td>0.971266</td>\n",
       "      <td>1.061333</td>\n",
       "      <td>0.389688</td>\n",
       "      <td>0.239287</td>\n",
       "      <td>0</td>\n",
       "      <td>0</td>\n",
       "      <td>1</td>\n",
       "      <td>1</td>\n",
       "      <td>0</td>\n",
       "      <td>0</td>\n",
       "      <td>0</td>\n",
       "      <td>0</td>\n",
       "    </tr>\n",
       "    <tr>\n",
       "      <th>2556291</th>\n",
       "      <td>0.039557</td>\n",
       "      <td>-0.291233</td>\n",
       "      <td>-0.295008</td>\n",
       "      <td>-0.181108</td>\n",
       "      <td>-0.145810</td>\n",
       "      <td>0</td>\n",
       "      <td>0</td>\n",
       "      <td>0</td>\n",
       "      <td>0</td>\n",
       "      <td>1</td>\n",
       "      <td>0</td>\n",
       "      <td>0</td>\n",
       "      <td>0</td>\n",
       "    </tr>\n",
       "    <tr>\n",
       "      <th>1468542</th>\n",
       "      <td>-0.250621</td>\n",
       "      <td>-0.291233</td>\n",
       "      <td>-0.295008</td>\n",
       "      <td>-0.326650</td>\n",
       "      <td>-0.336221</td>\n",
       "      <td>0</td>\n",
       "      <td>0</td>\n",
       "      <td>0</td>\n",
       "      <td>0</td>\n",
       "      <td>0</td>\n",
       "      <td>0</td>\n",
       "      <td>1</td>\n",
       "      <td>0</td>\n",
       "    </tr>\n",
       "    <tr>\n",
       "      <th>3088165</th>\n",
       "      <td>-0.290763</td>\n",
       "      <td>-0.266822</td>\n",
       "      <td>-0.272822</td>\n",
       "      <td>-0.326650</td>\n",
       "      <td>-0.336221</td>\n",
       "      <td>0</td>\n",
       "      <td>0</td>\n",
       "      <td>0</td>\n",
       "      <td>0</td>\n",
       "      <td>0</td>\n",
       "      <td>0</td>\n",
       "      <td>1</td>\n",
       "      <td>0</td>\n",
       "    </tr>\n",
       "    <tr>\n",
       "      <th>4675688</th>\n",
       "      <td>-0.287819</td>\n",
       "      <td>-0.274123</td>\n",
       "      <td>-0.280641</td>\n",
       "      <td>-0.326650</td>\n",
       "      <td>-0.336221</td>\n",
       "      <td>0</td>\n",
       "      <td>0</td>\n",
       "      <td>0</td>\n",
       "      <td>0</td>\n",
       "      <td>0</td>\n",
       "      <td>0</td>\n",
       "      <td>1</td>\n",
       "      <td>0</td>\n",
       "    </tr>\n",
       "  </tbody>\n",
       "</table>\n",
       "<p>5638266 rows × 13 columns</p>\n",
       "</div>"
      ]
     },
     "execution_count": 26,
     "metadata": {},
     "output_type": "execute_result"
    }
   ],
   "execution_count": 26
  },
  {
   "cell_type": "markdown",
   "source": [
    "## 2.4.10 Balanceo de clases"
   ],
   "metadata": {
    "id": "Nz2ti_zE27xe"
   }
  },
  {
   "cell_type": "code",
   "source": [
    "from imblearn.over_sampling import SMOTE\n",
    "# Aplicar SMOTE en el conjunto de entrenamiento\n",
    "# (sin afectar el conjunto de prueba)\n",
    "smote = SMOTE(sampling_strategy=0.3, random_state=42) # Genera más de fraudes\n",
    "X_train_resampled, y_train_resampled = smote.fit_resample(X_train, y_train)\n",
    "\n",
    "\n",
    "# Verificar la nueva distribución de clases después de SMOTE\n",
    "print(\"Distribución de clases después de SMOTE en entrenamiento:\")\n",
    "print(y_train_resampled.value_counts())\n",
    "\n",
    "# Ver la relación entre fraudes y NO fraudes para el conjunto de pruebA\n",
    "cant_fraudes_test = y_train_resampled.value_counts()[1]\n",
    "cant_NO_fraudes_test = y_train_resampled.value_counts()[0]\n",
    "proporcion_test = sum(y_test)/(len(y_test)-sum(y_test))\n",
    "print(f\"Cantidad de fraudes en el conjunto de prueba: \\\n",
    "{cant_fraudes_test}\")\n",
    "print(f\"Cantidad de NO fraudes en el conjunto de prueba: \\\n",
    "{cant_NO_fraudes_test}\")\n",
    "print(f\"Proporción (fraudes)/(NO fraudes) después de usar SMOTE: \\\n",
    "{cant_fraudes_test/cant_NO_fraudes_test:.4f}\")\n",
    "\n",
    "# PASA MINORISTA QUE TENGA EL 30% DE LOS DATOS DE L MAYORIA PARA TENER UN EQUILIBRIO\n",
    "# AUMENTA LA CANTIDAD DE DATOS EN FRAUDE PARA COMPENSAR UN BALANCEO\n",
    "# ANADIR MAS PESO A UNA VARIABLE QUE A OTRAS\n",
    "\n",
    "# INDICA LA CANTIDAD MINIMA A LA CANTIDAD MAYORITARIA\n",
    "# INDICA QUE LA PROPORCION DEL MODELO DE LA FUNCION SMOKE QUE HIZO BIEN"
   ],
   "metadata": {
    "collapsed": true,
    "id": "__-dmF6Y29k2",
    "ExecuteTime": {
     "end_time": "2025-03-16T06:44:24.383000200Z",
     "start_time": "2025-03-16T06:43:43.874677Z"
    }
   },
   "outputs": [
    {
     "ename": "NameError",
     "evalue": "name 'X_train' is not defined",
     "output_type": "error",
     "traceback": [
      "\u001B[31m---------------------------------------------------------------------------\u001B[39m",
      "\u001B[31mNameError\u001B[39m                                 Traceback (most recent call last)",
      "\u001B[36mCell\u001B[39m\u001B[36m \u001B[39m\u001B[32mIn[14]\u001B[39m\u001B[32m, line 5\u001B[39m\n\u001B[32m      2\u001B[39m \u001B[38;5;66;03m# Aplicar SMOTE en el conjunto de entrenamiento\u001B[39;00m\n\u001B[32m      3\u001B[39m \u001B[38;5;66;03m# (sin afectar el conjunto de prueba)\u001B[39;00m\n\u001B[32m      4\u001B[39m smote = SMOTE(sampling_strategy=\u001B[32m0.3\u001B[39m, random_state=\u001B[32m42\u001B[39m) \u001B[38;5;66;03m# Genera más de fraudes\u001B[39;00m\n\u001B[32m----> \u001B[39m\u001B[32m5\u001B[39m X_train_resampled, y_train_resampled = smote.fit_resample(\u001B[43mX_train\u001B[49m, y_train)\n\u001B[32m      8\u001B[39m \u001B[38;5;66;03m# Verificar la nueva distribución de clases después de SMOTE\u001B[39;00m\n\u001B[32m      9\u001B[39m \u001B[38;5;28mprint\u001B[39m(\u001B[33m\"\u001B[39m\u001B[33mDistribución de clases después de SMOTE en entrenamiento:\u001B[39m\u001B[33m\"\u001B[39m)\n",
      "\u001B[31mNameError\u001B[39m: name 'X_train' is not defined"
     ]
    }
   ],
   "execution_count": 14
  },
  {
   "cell_type": "code",
   "source": [
    "# vamos a visualizar el conjunto final:\n",
    "X_train_resampled"
   ],
   "metadata": {
    "collapsed": true,
    "id": "XS_8SP_L3T2G",
    "ExecuteTime": {
     "end_time": "2025-03-16T06:44:24.412774100Z",
     "start_time": "2025-03-07T00:25:49.294052Z"
    }
   },
   "outputs": [
    {
     "data": {
      "text/plain": [
       "               amount  oldbalanceOrg  newbalanceOrig  oldbalanceDest  \\\n",
       "0        3.524855e+05   0.000000e+00            0.00    6.920457e+05   \n",
       "1        1.815301e+05   3.893800e+04            0.00    4.910031e+06   \n",
       "2        6.056599e+04   4.661871e+04            0.00    6.526285e+05   \n",
       "3        1.085508e+05   0.000000e+00            0.00    1.570967e+06   \n",
       "4        1.057601e+04   3.084578e+05       297881.81    0.000000e+00   \n",
       "...               ...            ...             ...             ...   \n",
       "7320209  6.670568e+05   6.670568e+05            0.00    0.000000e+00   \n",
       "7320210  1.057549e+05   1.057549e+05            0.00    0.000000e+00   \n",
       "7320211  1.116930e+06   1.116930e+06            0.00    1.756113e+05   \n",
       "7320212  4.716325e+06   4.716325e+06            0.00    0.000000e+00   \n",
       "7320213  6.654357e+04   6.654357e+04            0.00    0.000000e+00   \n",
       "\n",
       "         newbalanceDest  isFlaggedFraud  amount_outlier  \\\n",
       "0          1.339397e+06               0               0   \n",
       "1          5.091561e+06               0               0   \n",
       "2          9.161714e+05               0               0   \n",
       "3          1.679518e+06               0               0   \n",
       "4          0.000000e+00               0               0   \n",
       "...                 ...             ...             ...   \n",
       "7320209    0.000000e+00               0               1   \n",
       "7320210    0.000000e+00               0               0   \n",
       "7320211    1.292541e+06               0               1   \n",
       "7320212    4.716325e+06               0               1   \n",
       "7320213    0.000000e+00               0               0   \n",
       "\n",
       "         oldbalanceOrg_outlier  type_CASH_IN  type_CASH_OUT  type_DEBIT  \\\n",
       "0                            0             0              1           0   \n",
       "1                            0             0              1           0   \n",
       "2                            0             0              1           0   \n",
       "3                            0             0              1           0   \n",
       "4                            1             0              0           0   \n",
       "...                        ...           ...            ...         ...   \n",
       "7320209                      1             0              0           0   \n",
       "7320210                      0             0              0           0   \n",
       "7320211                      1             0              1           0   \n",
       "7320212                      1             0              1           0   \n",
       "7320213                      0             0              0           0   \n",
       "\n",
       "         type_PAYMENT  type_TRANSFER  \n",
       "0                   0              0  \n",
       "1                   0              0  \n",
       "2                   0              0  \n",
       "3                   0              0  \n",
       "4                   1              0  \n",
       "...               ...            ...  \n",
       "7320209             0              1  \n",
       "7320210             0              1  \n",
       "7320211             0              0  \n",
       "7320212             0              0  \n",
       "7320213             0              1  \n",
       "\n",
       "[7320214 rows x 13 columns]"
      ],
      "text/html": [
       "<div>\n",
       "<style scoped>\n",
       "    .dataframe tbody tr th:only-of-type {\n",
       "        vertical-align: middle;\n",
       "    }\n",
       "\n",
       "    .dataframe tbody tr th {\n",
       "        vertical-align: top;\n",
       "    }\n",
       "\n",
       "    .dataframe thead th {\n",
       "        text-align: right;\n",
       "    }\n",
       "</style>\n",
       "<table border=\"1\" class=\"dataframe\">\n",
       "  <thead>\n",
       "    <tr style=\"text-align: right;\">\n",
       "      <th></th>\n",
       "      <th>amount</th>\n",
       "      <th>oldbalanceOrg</th>\n",
       "      <th>newbalanceOrig</th>\n",
       "      <th>oldbalanceDest</th>\n",
       "      <th>newbalanceDest</th>\n",
       "      <th>isFlaggedFraud</th>\n",
       "      <th>amount_outlier</th>\n",
       "      <th>oldbalanceOrg_outlier</th>\n",
       "      <th>type_CASH_IN</th>\n",
       "      <th>type_CASH_OUT</th>\n",
       "      <th>type_DEBIT</th>\n",
       "      <th>type_PAYMENT</th>\n",
       "      <th>type_TRANSFER</th>\n",
       "    </tr>\n",
       "  </thead>\n",
       "  <tbody>\n",
       "    <tr>\n",
       "      <th>0</th>\n",
       "      <td>3.524855e+05</td>\n",
       "      <td>0.000000e+00</td>\n",
       "      <td>0.00</td>\n",
       "      <td>6.920457e+05</td>\n",
       "      <td>1.339397e+06</td>\n",
       "      <td>0</td>\n",
       "      <td>0</td>\n",
       "      <td>0</td>\n",
       "      <td>0</td>\n",
       "      <td>1</td>\n",
       "      <td>0</td>\n",
       "      <td>0</td>\n",
       "      <td>0</td>\n",
       "    </tr>\n",
       "    <tr>\n",
       "      <th>1</th>\n",
       "      <td>1.815301e+05</td>\n",
       "      <td>3.893800e+04</td>\n",
       "      <td>0.00</td>\n",
       "      <td>4.910031e+06</td>\n",
       "      <td>5.091561e+06</td>\n",
       "      <td>0</td>\n",
       "      <td>0</td>\n",
       "      <td>0</td>\n",
       "      <td>0</td>\n",
       "      <td>1</td>\n",
       "      <td>0</td>\n",
       "      <td>0</td>\n",
       "      <td>0</td>\n",
       "    </tr>\n",
       "    <tr>\n",
       "      <th>2</th>\n",
       "      <td>6.056599e+04</td>\n",
       "      <td>4.661871e+04</td>\n",
       "      <td>0.00</td>\n",
       "      <td>6.526285e+05</td>\n",
       "      <td>9.161714e+05</td>\n",
       "      <td>0</td>\n",
       "      <td>0</td>\n",
       "      <td>0</td>\n",
       "      <td>0</td>\n",
       "      <td>1</td>\n",
       "      <td>0</td>\n",
       "      <td>0</td>\n",
       "      <td>0</td>\n",
       "    </tr>\n",
       "    <tr>\n",
       "      <th>3</th>\n",
       "      <td>1.085508e+05</td>\n",
       "      <td>0.000000e+00</td>\n",
       "      <td>0.00</td>\n",
       "      <td>1.570967e+06</td>\n",
       "      <td>1.679518e+06</td>\n",
       "      <td>0</td>\n",
       "      <td>0</td>\n",
       "      <td>0</td>\n",
       "      <td>0</td>\n",
       "      <td>1</td>\n",
       "      <td>0</td>\n",
       "      <td>0</td>\n",
       "      <td>0</td>\n",
       "    </tr>\n",
       "    <tr>\n",
       "      <th>4</th>\n",
       "      <td>1.057601e+04</td>\n",
       "      <td>3.084578e+05</td>\n",
       "      <td>297881.81</td>\n",
       "      <td>0.000000e+00</td>\n",
       "      <td>0.000000e+00</td>\n",
       "      <td>0</td>\n",
       "      <td>0</td>\n",
       "      <td>1</td>\n",
       "      <td>0</td>\n",
       "      <td>0</td>\n",
       "      <td>0</td>\n",
       "      <td>1</td>\n",
       "      <td>0</td>\n",
       "    </tr>\n",
       "    <tr>\n",
       "      <th>...</th>\n",
       "      <td>...</td>\n",
       "      <td>...</td>\n",
       "      <td>...</td>\n",
       "      <td>...</td>\n",
       "      <td>...</td>\n",
       "      <td>...</td>\n",
       "      <td>...</td>\n",
       "      <td>...</td>\n",
       "      <td>...</td>\n",
       "      <td>...</td>\n",
       "      <td>...</td>\n",
       "      <td>...</td>\n",
       "      <td>...</td>\n",
       "    </tr>\n",
       "    <tr>\n",
       "      <th>7320209</th>\n",
       "      <td>6.670568e+05</td>\n",
       "      <td>6.670568e+05</td>\n",
       "      <td>0.00</td>\n",
       "      <td>0.000000e+00</td>\n",
       "      <td>0.000000e+00</td>\n",
       "      <td>0</td>\n",
       "      <td>1</td>\n",
       "      <td>1</td>\n",
       "      <td>0</td>\n",
       "      <td>0</td>\n",
       "      <td>0</td>\n",
       "      <td>0</td>\n",
       "      <td>1</td>\n",
       "    </tr>\n",
       "    <tr>\n",
       "      <th>7320210</th>\n",
       "      <td>1.057549e+05</td>\n",
       "      <td>1.057549e+05</td>\n",
       "      <td>0.00</td>\n",
       "      <td>0.000000e+00</td>\n",
       "      <td>0.000000e+00</td>\n",
       "      <td>0</td>\n",
       "      <td>0</td>\n",
       "      <td>0</td>\n",
       "      <td>0</td>\n",
       "      <td>0</td>\n",
       "      <td>0</td>\n",
       "      <td>0</td>\n",
       "      <td>1</td>\n",
       "    </tr>\n",
       "    <tr>\n",
       "      <th>7320211</th>\n",
       "      <td>1.116930e+06</td>\n",
       "      <td>1.116930e+06</td>\n",
       "      <td>0.00</td>\n",
       "      <td>1.756113e+05</td>\n",
       "      <td>1.292541e+06</td>\n",
       "      <td>0</td>\n",
       "      <td>1</td>\n",
       "      <td>1</td>\n",
       "      <td>0</td>\n",
       "      <td>1</td>\n",
       "      <td>0</td>\n",
       "      <td>0</td>\n",
       "      <td>0</td>\n",
       "    </tr>\n",
       "    <tr>\n",
       "      <th>7320212</th>\n",
       "      <td>4.716325e+06</td>\n",
       "      <td>4.716325e+06</td>\n",
       "      <td>0.00</td>\n",
       "      <td>0.000000e+00</td>\n",
       "      <td>4.716325e+06</td>\n",
       "      <td>0</td>\n",
       "      <td>1</td>\n",
       "      <td>1</td>\n",
       "      <td>0</td>\n",
       "      <td>1</td>\n",
       "      <td>0</td>\n",
       "      <td>0</td>\n",
       "      <td>0</td>\n",
       "    </tr>\n",
       "    <tr>\n",
       "      <th>7320213</th>\n",
       "      <td>6.654357e+04</td>\n",
       "      <td>6.654357e+04</td>\n",
       "      <td>0.00</td>\n",
       "      <td>0.000000e+00</td>\n",
       "      <td>0.000000e+00</td>\n",
       "      <td>0</td>\n",
       "      <td>0</td>\n",
       "      <td>0</td>\n",
       "      <td>0</td>\n",
       "      <td>0</td>\n",
       "      <td>0</td>\n",
       "      <td>0</td>\n",
       "      <td>1</td>\n",
       "    </tr>\n",
       "  </tbody>\n",
       "</table>\n",
       "<p>7320214 rows × 13 columns</p>\n",
       "</div>"
      ]
     },
     "execution_count": 28,
     "metadata": {},
     "output_type": "execute_result"
    }
   ],
   "execution_count": 28
  }
 ]
}
