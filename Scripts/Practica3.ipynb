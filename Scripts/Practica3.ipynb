{
 "cells": [
  {
   "metadata": {},
   "cell_type": "markdown",
   "source": "# 1.- Carga de datos",
   "id": "3782fe5373a40995"
  },
  {
   "cell_type": "code",
   "id": "initial_id",
   "metadata": {
    "collapsed": true,
    "ExecuteTime": {
     "end_time": "2025-04-21T05:33:35.994260Z",
     "start_time": "2025-04-21T05:33:35.918499Z"
    }
   },
   "source": [
    "import pandas as pd\n",
    "\n",
    "df = pd.read_csv('C:/Users/abelc/PycharmProjects/Ciencia De Datos/BD/train.csv')\n",
    "print(df)"
   ],
   "outputs": [
    {
     "name": "stdout",
     "output_type": "stream",
     "text": [
      "      Row ID        Order ID  Order Date   Ship Date       Ship Mode  \\\n",
      "0          1  CA-2017-152156  08/11/2017  11/11/2017    Second Class   \n",
      "1          2  CA-2017-152156  08/11/2017  11/11/2017    Second Class   \n",
      "2          3  CA-2017-138688  12/06/2017  16/06/2017    Second Class   \n",
      "3          4  US-2016-108966  11/10/2016  18/10/2016  Standard Class   \n",
      "4          5  US-2016-108966  11/10/2016  18/10/2016  Standard Class   \n",
      "...      ...             ...         ...         ...             ...   \n",
      "9795    9796  CA-2017-125920  21/05/2017  28/05/2017  Standard Class   \n",
      "9796    9797  CA-2016-128608  12/01/2016  17/01/2016  Standard Class   \n",
      "9797    9798  CA-2016-128608  12/01/2016  17/01/2016  Standard Class   \n",
      "9798    9799  CA-2016-128608  12/01/2016  17/01/2016  Standard Class   \n",
      "9799    9800  CA-2016-128608  12/01/2016  17/01/2016  Standard Class   \n",
      "\n",
      "     Customer ID     Customer Name    Segment        Country             City  \\\n",
      "0       CG-12520       Claire Gute   Consumer  United States        Henderson   \n",
      "1       CG-12520       Claire Gute   Consumer  United States        Henderson   \n",
      "2       DV-13045   Darrin Van Huff  Corporate  United States      Los Angeles   \n",
      "3       SO-20335    Sean O'Donnell   Consumer  United States  Fort Lauderdale   \n",
      "4       SO-20335    Sean O'Donnell   Consumer  United States  Fort Lauderdale   \n",
      "...          ...               ...        ...            ...              ...   \n",
      "9795    SH-19975     Sally Hughsby  Corporate  United States          Chicago   \n",
      "9796    CS-12490  Cindy Schnelling  Corporate  United States           Toledo   \n",
      "9797    CS-12490  Cindy Schnelling  Corporate  United States           Toledo   \n",
      "9798    CS-12490  Cindy Schnelling  Corporate  United States           Toledo   \n",
      "9799    CS-12490  Cindy Schnelling  Corporate  United States           Toledo   \n",
      "\n",
      "           State  Postal Code   Region       Product ID         Category  \\\n",
      "0       Kentucky      42420.0    South  FUR-BO-10001798        Furniture   \n",
      "1       Kentucky      42420.0    South  FUR-CH-10000454        Furniture   \n",
      "2     California      90036.0     West  OFF-LA-10000240  Office Supplies   \n",
      "3        Florida      33311.0    South  FUR-TA-10000577        Furniture   \n",
      "4        Florida      33311.0    South  OFF-ST-10000760  Office Supplies   \n",
      "...          ...          ...      ...              ...              ...   \n",
      "9795    Illinois      60610.0  Central  OFF-BI-10003429  Office Supplies   \n",
      "9796        Ohio      43615.0     East  OFF-AR-10001374  Office Supplies   \n",
      "9797        Ohio      43615.0     East  TEC-PH-10004977       Technology   \n",
      "9798        Ohio      43615.0     East  TEC-PH-10000912       Technology   \n",
      "9799        Ohio      43615.0     East  TEC-AC-10000487       Technology   \n",
      "\n",
      "     Sub-Category                                       Product Name     Sales  \n",
      "0       Bookcases                  Bush Somerset Collection Bookcase  261.9600  \n",
      "1          Chairs  Hon Deluxe Fabric Upholstered Stacking Chairs,...  731.9400  \n",
      "2          Labels  Self-Adhesive Address Labels for Typewriters b...   14.6200  \n",
      "3          Tables      Bretford CR4500 Series Slim Rectangular Table  957.5775  \n",
      "4         Storage                     Eldon Fold 'N Roll Cart System   22.3680  \n",
      "...           ...                                                ...       ...  \n",
      "9795      Binders  Cardinal HOLDit! Binder Insert Strips,Extra St...    3.7980  \n",
      "9796          Art           BIC Brite Liner Highlighters, Chisel Tip   10.3680  \n",
      "9797       Phones                                        GE 30524EE4  235.1880  \n",
      "9798       Phones           Anker 24W Portable Micro USB Car Charger   26.3760  \n",
      "9799  Accessories                SanDisk Cruzer 4 GB USB Flash Drive   10.3840  \n",
      "\n",
      "[9800 rows x 18 columns]\n"
     ]
    }
   ],
   "execution_count": 1
  },
  {
   "metadata": {},
   "cell_type": "markdown",
   "source": "# 2.- Deteccion de outliers",
   "id": "eb2a257defbab8f0"
  },
  {
   "metadata": {
    "ExecuteTime": {
     "end_time": "2025-04-21T05:33:36.058893Z",
     "start_time": "2025-04-21T05:33:36.040884Z"
    }
   },
   "cell_type": "code",
   "source": [
    "# Paso 2: Verificación de valores faltantes\n",
    "missing_values = df.isnull().sum()  # Cuenta los valores nulos por columna\n",
    "total_rows = len(df)  # Número total de filas\n",
    "\n",
    "# Mostrar el número de valores faltantes por columna\n",
    "print(\"Valores faltantes por columna:\")\n",
    "print(missing_values[missing_values > 0])"
   ],
   "id": "5c08fdd028fe9a02",
   "outputs": [
    {
     "name": "stdout",
     "output_type": "stream",
     "text": [
      "Valores faltantes por columna:\n",
      "Postal Code    11\n",
      "dtype: int64\n"
     ]
    }
   ],
   "execution_count": 2
  },
  {
   "metadata": {},
   "cell_type": "markdown",
   "source": "# 2.1.- Verificar si son mayores al 1%",
   "id": "87c05d12ac081e18"
  },
  {
   "metadata": {
    "ExecuteTime": {
     "end_time": "2025-04-21T05:33:36.797199Z",
     "start_time": "2025-04-21T05:33:36.769730Z"
    }
   },
   "cell_type": "code",
   "source": [
    "# Decisión sobre los valores faltantes\n",
    "threshold = 0.01 * total_rows  # 1% del total de filas\n",
    "\n",
    "for col in missing_values[missing_values > 0].index:\n",
    "    missing_count = missing_values[col]\n",
    "\n",
    "    if missing_count <= threshold:\n",
    "        # Si son menos del 1%, eliminamos las filas con valores faltantes\n",
    "        df = df.dropna(subset=[col])\n",
    "        print(f\"Se eliminaron {missing_count} filas en la columna '{col}' (menos del 1%)\")\n",
    "    else:\n",
    "        # Si son muchos, sugerimos estrategias de imputación\n",
    "        print(f\"La columna '{col}' tiene {missing_count} valores faltantes ({(missing_count/total_rows)*100:.2f}%).\")\n",
    "        print(\"Sugerencias de imputación:\")\n",
    "\n",
    "        if df[col].dtype == 'object':  # Si es categórica\n",
    "            print(f\" - Imputar con la moda: '{df[col].mode()[0]}'\")\n",
    "        else:  # Si es numérica\n",
    "            print(f\" - Imputar con la media: {df[col].mean():.2f} o la mediana: {df[col].median():.2f}\")\n",
    "\n",
    "# Mostrar la cantidad de filas después del procesamiento\n",
    "print(f\"\\nTotal de filas después del manejo de valores faltantes: {len(df)}\")"
   ],
   "id": "e6311b32e12a326a",
   "outputs": [
    {
     "name": "stdout",
     "output_type": "stream",
     "text": [
      "Se eliminaron 11 filas en la columna 'Postal Code' (menos del 1%)\n",
      "\n",
      "Total de filas después del manejo de valores faltantes: 9789\n"
     ]
    }
   ],
   "execution_count": 3
  },
  {
   "metadata": {},
   "cell_type": "markdown",
   "source": "# 3.- Estadisticos de la variable \"sale\"",
   "id": "d3c109d79a5c7b79"
  },
  {
   "metadata": {},
   "cell_type": "markdown",
   "source": "# 3.1.- Medidas de centralidad",
   "id": "4115519ab7f5b733"
  },
  {
   "metadata": {
    "ExecuteTime": {
     "end_time": "2025-04-21T05:33:36.834253Z",
     "start_time": "2025-04-21T05:33:36.817020Z"
    }
   },
   "cell_type": "code",
   "source": [
    "sales_mean = df['Sales'].mean()\n",
    "sales_median = df['Sales'].median()\n",
    "sales_mode = df['Sales'].mode()[0]\n",
    "print(f\"Media: {sales_mean}\")\n",
    "print(f\"Mediana: {sales_median}\")\n",
    "print(f\"Moda: {sales_mode}\")"
   ],
   "id": "3d6ade26f9b353b",
   "outputs": [
    {
     "name": "stdout",
     "output_type": "stream",
     "text": [
      "Media: 230.1161929410563\n",
      "Mediana: 54.384\n",
      "Moda: 12.96\n"
     ]
    }
   ],
   "execution_count": 4
  },
  {
   "metadata": {},
   "cell_type": "markdown",
   "source": "# 3.2.- Medidas de posición",
   "id": "8aaf0c2285d93ba8"
  },
  {
   "metadata": {
    "ExecuteTime": {
     "end_time": "2025-04-21T05:33:36.952066Z",
     "start_time": "2025-04-21T05:33:36.939375Z"
    }
   },
   "cell_type": "code",
   "source": [
    "sales_min = df['Sales'].min()\n",
    "sales_max = df['Sales'].max()\n",
    "sales_range = sales_max - sales_min\n",
    "sales_quartiles = df['Sales'].quantile([0.25, 0.5, 0.75])\n",
    "sales_iqr = sales_quartiles[0.75] - sales_quartiles[0.25]\n",
    "print(f\"Mínimo: {sales_min}, Máximo: {sales_max}, Rango: {sales_range}\")\n",
    "print(f\"Cuartiles: {sales_quartiles}\")\n",
    "print(f\"Rango intercuartílico: {sales_iqr}\")"
   ],
   "id": "b36669a50b04bd48",
   "outputs": [
    {
     "name": "stdout",
     "output_type": "stream",
     "text": [
      "Mínimo: 0.444, Máximo: 22638.48, Rango: 22638.036\n",
      "Cuartiles: 0.25     17.248\n",
      "0.50     54.384\n",
      "0.75    210.392\n",
      "Name: Sales, dtype: float64\n",
      "Rango intercuartílico: 193.144\n"
     ]
    }
   ],
   "execution_count": 5
  },
  {
   "metadata": {},
   "cell_type": "markdown",
   "source": "# 3.3.- Medidas de dispersión",
   "id": "2319370320021bce"
  },
  {
   "metadata": {
    "ExecuteTime": {
     "end_time": "2025-04-21T05:33:37.017167Z",
     "start_time": "2025-04-21T05:33:37.011239Z"
    }
   },
   "cell_type": "code",
   "source": [
    "sales_variance = df['Sales'].var()\n",
    "sales_std = df['Sales'].std()\n",
    "sales_cv = sales_std / sales_mean\n",
    "print(f\"Varianza: {sales_variance}, Desviación estándar: {sales_std}, Coeficiente de variación: {sales_cv}\")"
   ],
   "id": "bdcc519c16fb5519",
   "outputs": [
    {
     "name": "stdout",
     "output_type": "stream",
     "text": [
      "Varianza: 391002.6900158407, Desviación estándar: 625.3020790112893, Coeficiente de variación: 2.717331931401537\n"
     ]
    }
   ],
   "execution_count": 6
  },
  {
   "metadata": {},
   "cell_type": "markdown",
   "source": "# 3.4.- Medidas de forma",
   "id": "c743f42014f7bfa9"
  },
  {
   "metadata": {
    "ExecuteTime": {
     "end_time": "2025-04-21T05:33:37.083086Z",
     "start_time": "2025-04-21T05:33:37.069755Z"
    }
   },
   "cell_type": "code",
   "source": [
    "from scipy.stats import stats\n",
    "\n",
    "sales_skewness = stats.skew(df['Sales'])\n",
    "sales_kurtosis = stats.kurtosis(df['Sales'])\n",
    "print(f\"Asimetría: {sales_skewness}, Curtosis: {sales_kurtosis}\")"
   ],
   "id": "e5880e5319b6d7c",
   "outputs": [
    {
     "name": "stdout",
     "output_type": "stream",
     "text": [
      "Asimetría: 13.051630620138322, Curtosis: 307.14803167918313\n"
     ]
    },
    {
     "name": "stderr",
     "output_type": "stream",
     "text": [
      "C:\\Users\\abelc\\AppData\\Local\\Temp\\ipykernel_27160\\2067794462.py:3: DeprecationWarning: Please import `skew` from the `scipy.stats` namespace; the `scipy.stats.stats` namespace is deprecated and will be removed in SciPy 2.0.0.\n",
      "  sales_skewness = stats.skew(df['Sales'])\n",
      "C:\\Users\\abelc\\AppData\\Local\\Temp\\ipykernel_27160\\2067794462.py:4: DeprecationWarning: Please import `kurtosis` from the `scipy.stats` namespace; the `scipy.stats.stats` namespace is deprecated and will be removed in SciPy 2.0.0.\n",
      "  sales_kurtosis = stats.kurtosis(df['Sales'])\n"
     ]
    }
   ],
   "execution_count": 7
  },
  {
   "metadata": {},
   "cell_type": "markdown",
   "source": "# 4.- Comparación por grupos",
   "id": "c0f9a5c45b9489cb"
  },
  {
   "metadata": {},
   "cell_type": "markdown",
   "source": "# 4.1- Agrupar por Category y calcular el promedio de Sales",
   "id": "f994e50b18537b6f"
  },
  {
   "metadata": {
    "ExecuteTime": {
     "end_time": "2025-04-21T05:33:37.166450Z",
     "start_time": "2025-04-21T05:33:37.150550Z"
    }
   },
   "cell_type": "code",
   "source": [
    "df_category = df.groupby('Category')['Sales'].mean().sort_values(ascending=False)\n",
    "print(df_category)"
   ],
   "id": "71224ec1d79ddf59",
   "outputs": [
    {
     "name": "stdout",
     "output_type": "stream",
     "text": [
      "Category\n",
      "Technology         456.274096\n",
      "Furniture          348.525277\n",
      "Office Supplies    119.128041\n",
      "Name: Sales, dtype: float64\n"
     ]
    }
   ],
   "execution_count": 8
  },
  {
   "metadata": {},
   "cell_type": "markdown",
   "source": "# 4.2- Agrupar por Segment y calcular el promedio de Sales",
   "id": "f21866c48c60d760"
  },
  {
   "metadata": {
    "ExecuteTime": {
     "end_time": "2025-04-21T05:33:37.279640Z",
     "start_time": "2025-04-21T05:33:37.270991Z"
    }
   },
   "cell_type": "code",
   "source": [
    "df_segment = df.groupby('Segment')['Sales'].mean().sort_values(ascending=False)\n",
    "print(df_segment)"
   ],
   "id": "1f5188293ed5ac12",
   "outputs": [
    {
     "name": "stdout",
     "output_type": "stream",
     "text": [
      "Segment\n",
      "Home Office    242.800818\n",
      "Corporate      231.415141\n",
      "Consumer       225.021223\n",
      "Name: Sales, dtype: float64\n"
     ]
    }
   ],
   "execution_count": 9
  },
  {
   "metadata": {},
   "cell_type": "markdown",
   "source": "# 4.3- Agrupar por Region y calcular el promedio de Sales",
   "id": "2f2123744194eb1b"
  },
  {
   "metadata": {
    "ExecuteTime": {
     "end_time": "2025-04-21T05:33:37.379999Z",
     "start_time": "2025-04-21T05:33:37.369783Z"
    }
   },
   "cell_type": "code",
   "source": [
    "df_region = df.groupby('Region')['Sales'].mean().sort_values(ascending=False)\n",
    "print(df_region)"
   ],
   "id": "98149506413536bd",
   "outputs": [
    {
     "name": "stdout",
     "output_type": "stream",
     "text": [
      "Region\n",
      "South      243.524067\n",
      "East       238.136033\n",
      "West       226.184613\n",
      "Central    216.357889\n",
      "Name: Sales, dtype: float64\n"
     ]
    }
   ],
   "execution_count": 10
  },
  {
   "metadata": {},
   "cell_type": "markdown",
   "source": "# 5 Visualización de la distribución de ventas",
   "id": "2723e83386dd29b7"
  },
  {
   "metadata": {},
   "cell_type": "markdown",
   "source": "# 5.1- Histograma con curva de densidad (KDE)",
   "id": "bf73fa0b42d3d593"
  },
  {
   "metadata": {
    "ExecuteTime": {
     "end_time": "2025-04-21T05:33:37.790508Z",
     "start_time": "2025-04-21T05:33:37.456909Z"
    }
   },
   "cell_type": "code",
   "source": [
    "import pandas as pd\n",
    "import matplotlib.pyplot as plt\n",
    "import seaborn as sns\n",
    "\n",
    "plt.figure(figsize=(8,5))\n",
    "sns.histplot(df['Sales'], bins=30, kde=True, color='skyblue')\n",
    "plt.xlabel('Sales')\n",
    "plt.ylabel('Frecuencia')\n",
    "plt.title('Distribución de Sales con KDE')\n",
    "plt.show()"
   ],
   "id": "3096578f7b0e7c58",
   "outputs": [
    {
     "data": {
      "text/plain": [
       "<Figure size 800x500 with 1 Axes>"
      ],
      "image/png": "[encoded data removed]"
     },
     "metadata": {},
     "output_type": "display_data"
    }
   ],
   "execution_count": 11
  },
  {
   "metadata": {},
   "cell_type": "markdown",
   "source": "# 5.2- Boxplot de la variable Sales",
   "id": "8ae55f6efe50f6d6"
  },
  {
   "metadata": {
    "ExecuteTime": {
     "end_time": "2025-04-21T05:33:37.947833Z",
     "start_time": "2025-04-21T05:33:37.811821Z"
    }
   },
   "cell_type": "code",
   "source": [
    "plt.figure(figsize=(6,4))\n",
    "sns.boxplot(x=df['Sales'], color='red')\n",
    "plt.xlabel('Sales')\n",
    "plt.title('Boxplot de Sales')\n",
    "plt.show()"
   ],
   "id": "905d369ff7f9b5d",
   "outputs": [
    {
     "data": {
      "text/plain": [
       "<Figure size 600x400 with 1 Axes>"
      ],
      "image/png": "[encoded data removed]"
     },
     "metadata": {},
     "output_type": "display_data"
    }
   ],
   "execution_count": 12
  },
  {
   "metadata": {},
   "cell_type": "markdown",
   "source": "# 6- Detección y tratamiento de outliers",
   "id": "6f3df03dd2c2d80c"
  },
  {
   "metadata": {},
   "cell_type": "markdown",
   "source": "# 6.1- Calcular los límites de outliers usando la regla IQR",
   "id": "496d4a5f8a0c37e8"
  },
  {
   "metadata": {
    "ExecuteTime": {
     "end_time": "2025-04-21T05:33:37.978760Z",
     "start_time": "2025-04-21T05:33:37.967387Z"
    }
   },
   "cell_type": "code",
   "source": [
    "Q1 = df['Sales'].quantile(0.25)\n",
    "Q3 = df['Sales'].quantile(0.75)\n",
    "IQR = Q3 - Q1\n",
    "\n",
    "limite_inferior = Q1 - 1.5 * IQR\n",
    "limite_superior = Q3 + 1.5 * IQR\n",
    "\n",
    "print(f\"Límite inferior: {limite_inferior}\")\n",
    "print(f\"Límite superior: {limite_superior}\")\n"
   ],
   "id": "1756bb92fe51402f",
   "outputs": [
    {
     "name": "stdout",
     "output_type": "stream",
     "text": [
      "Límite inferior: -272.468\n",
      "Límite superior: 500.108\n"
     ]
    }
   ],
   "execution_count": 13
  },
  {
   "metadata": {},
   "cell_type": "markdown",
   "source": "# 6.2- Contar cuántos valores están fuera de los límites",
   "id": "9e7ccae2a37d7efb"
  },
  {
   "metadata": {
    "ExecuteTime": {
     "end_time": "2025-04-21T05:33:38.039707Z",
     "start_time": "2025-04-21T05:33:38.033192Z"
    }
   },
   "cell_type": "code",
   "source": [
    "outliers = df[(df['Sales'] < limite_inferior) | (df['Sales'] > limite_superior)]\n",
    "print(f\"Número de outliers detectados: {len(outliers)}\")"
   ],
   "id": "9810660a81fd8113",
   "outputs": [
    {
     "name": "stdout",
     "output_type": "stream",
     "text": [
      "Número de outliers detectados: 1141\n"
     ]
    }
   ],
   "execution_count": 14
  },
  {
   "metadata": {},
   "cell_type": "markdown",
   "source": "# 6.3- Eliminar los outliers",
   "id": "dcb7e9ec00301bb1"
  },
  {
   "metadata": {
    "ExecuteTime": {
     "end_time": "2025-04-21T05:33:38.094133Z",
     "start_time": "2025-04-21T05:33:38.083651Z"
    }
   },
   "cell_type": "code",
   "source": [
    "# Eliminar los outliers\n",
    "df_sin_outliers = df[(df['Sales'] >= limite_inferior) & (df['Sales'] <= limite_superior)]\n",
    "\n",
    "print(f\"Total de filas después de eliminar outliers: {len(df_sin_outliers)}\")"
   ],
   "id": "bbf575a692a22b5e",
   "outputs": [
    {
     "name": "stdout",
     "output_type": "stream",
     "text": [
      "Total de filas después de eliminar outliers: 8648\n"
     ]
    }
   ],
   "execution_count": 15
  },
  {
   "metadata": {},
   "cell_type": "markdown",
   "source": "# 7- Boxplots por categorías",
   "id": "42a6b43192c31db"
  },
  {
   "metadata": {
    "ExecuteTime": {
     "end_time": "2025-04-21T05:33:38.299310Z",
     "start_time": "2025-04-21T05:33:38.125148Z"
    }
   },
   "cell_type": "code",
   "source": [
    "import seaborn as sns\n",
    "import matplotlib.pyplot as plt\n",
    "\n",
    "plt.figure(figsize=(8,5))\n",
    "sns.boxplot(x='Category', y='Sales', data=df, palette='Set2')\n",
    "plt.xlabel('Category')\n",
    "plt.ylabel('Sales')\n",
    "plt.title('Boxplot de Sales por Category')\n",
    "plt.xticks(rotation=15)  # Rotar etiquetas si son largas\n",
    "plt.show()\n"
   ],
   "id": "62b886d548146c9",
   "outputs": [
    {
     "name": "stderr",
     "output_type": "stream",
     "text": [
      "C:\\Users\\abelc\\AppData\\Local\\Temp\\ipykernel_27160\\765056400.py:5: FutureWarning: \n",
      "\n",
      "Passing `palette` without assigning `hue` is deprecated and will be removed in v0.14.0. Assign the `x` variable to `hue` and set `legend=False` for the same effect.\n",
      "\n",
      "  sns.boxplot(x='Category', y='Sales', data=df, palette='Set2')\n"
     ]
    },
    {
     "data": {
      "text/plain": [
       "<Figure size 800x500 with 1 Axes>"
      ],
      "image/png": "[encoded data removed]"
     },
     "metadata": {},
     "output_type": "display_data"
    }
   ],
   "execution_count": 16
  },
  {
   "metadata": {},
   "cell_type": "markdown",
   "source": "# 8- Pruebas de normalidad",
   "id": "bf9a29531b964e87"
  },
  {
   "metadata": {},
   "cell_type": "markdown",
   "source": "# 8.1- Shapiro-Wilk",
   "id": "4594c472f2dedad"
  },
  {
   "metadata": {
    "ExecuteTime": {
     "end_time": "2025-04-21T05:33:38.341053Z",
     "start_time": "2025-04-21T05:33:38.328536Z"
    }
   },
   "cell_type": "code",
   "source": [
    "import pandas as pd\n",
    "import numpy as np\n",
    "import scipy.stats as stats\n",
    "stat, p_value = stats.shapiro(df['Sales'].dropna())  # Eliminar valores nulos si existen\n",
    "print(f\"Shapiro-Wilk Test: Estadístico={stat:.4f}, p-valor={p_value:.4f}\")\n",
    "\n",
    "if p_value > 0.05:\n",
    "    print(\"No se rechaza la hipótesis nula: La distribución parece normal.\")\n",
    "else:\n",
    "    print(\"Se rechaza la hipótesis nula: La distribución no es normal.\")\n"
   ],
   "id": "fe8f5dfc74308bff",
   "outputs": [
    {
     "name": "stdout",
     "output_type": "stream",
     "text": [
      "Shapiro-Wilk Test: Estadístico=0.3219, p-valor=0.0000\n",
      "Se rechaza la hipótesis nula: La distribución no es normal.\n"
     ]
    },
    {
     "name": "stderr",
     "output_type": "stream",
     "text": [
      "C:\\Users\\abelc\\PycharmProjects\\Ciencia De Datos\\.venv\\Lib\\site-packages\\scipy\\stats\\_axis_nan_policy.py:586: UserWarning: scipy.stats.shapiro: For N > 5000, computed p-value may not be accurate. Current N is 9789.\n",
      "  res = hypotest_fun_out(*samples, **kwds)\n"
     ]
    }
   ],
   "execution_count": 17
  },
  {
   "metadata": {},
   "cell_type": "markdown",
   "source": "# 8.2- Kolmogorov-Smirnov",
   "id": "79a0f67e2b638dea"
  },
  {
   "metadata": {
    "ExecuteTime": {
     "end_time": "2025-04-21T05:33:38.410029Z",
     "start_time": "2025-04-21T05:33:38.395699Z"
    }
   },
   "cell_type": "code",
   "source": [
    "import pandas as pd\n",
    "import numpy as np\n",
    "import scipy.stats as stats\n",
    "\n",
    "stat, p_value = stats.kstest(df['Sales'], 'norm', args=(df['Sales'].mean(), df['Sales'].std()))\n",
    "print(f\"Kolmogorov-Smirnov Test: Estadístico={stat:.4f}, p-valor={p_value:.4f}\")\n",
    "\n",
    "if p_value > 0.05:\n",
    "    print(\"No se rechaza la hipótesis nula: La distribución parece normal.\")\n",
    "else:\n",
    "    print(\"Se rechaza la hipótesis nula: La distribución no es normal.\")\n"
   ],
   "id": "cb7010fc5d9638b8",
   "outputs": [
    {
     "name": "stdout",
     "output_type": "stream",
     "text": [
      "Kolmogorov-Smirnov Test: Estadístico=0.3567, p-valor=0.0000\n",
      "Se rechaza la hipótesis nula: La distribución no es normal.\n"
     ]
    }
   ],
   "execution_count": 18
  },
  {
   "metadata": {},
   "cell_type": "markdown",
   "source": "# 8.3- Anderson-Darling",
   "id": "5772d01134bb6785"
  },
  {
   "metadata": {
    "ExecuteTime": {
     "end_time": "2025-04-21T05:33:38.479315Z",
     "start_time": "2025-04-21T05:33:38.464970Z"
    }
   },
   "cell_type": "code",
   "source": [
    "import pandas as pd\n",
    "import numpy as np\n",
    "import scipy.stats as stats\n",
    "\n",
    "result = stats.anderson(df['Sales'].dropna(), dist='norm')\n",
    "print(f\"Anderson-Darling Test: Estadístico={result.statistic:.4f}\")\n",
    "\n",
    "for i in range(len(result.critical_values)):\n",
    "    significance_level = result.significance_level[i]\n",
    "    critical_value = result.critical_values[i]\n",
    "    print(f\"Nivel de significancia: {significance_level}% - Valor crítico: {critical_value:.4f}\")\n",
    "\n",
    "if result.statistic < result.critical_values[2]:  # Usando el umbral del 5%\n",
    "    print(\"No se rechaza la hipótesis nula: La distribución parece normal.\")\n",
    "else:\n",
    "    print(\"Se rechaza la hipótesis nula: La distribución no es normal.\")\n"
   ],
   "id": "9c058d6662fd9970",
   "outputs": [
    {
     "name": "stdout",
     "output_type": "stream",
     "text": [
      "Anderson-Darling Test: Estadístico=1804.9416\n",
      "Nivel de significancia: 15.0% - Valor crítico: 0.5760\n",
      "Nivel de significancia: 10.0% - Valor crítico: 0.6560\n",
      "Nivel de significancia: 5.0% - Valor crítico: 0.7870\n",
      "Nivel de significancia: 2.5% - Valor crítico: 0.9180\n",
      "Nivel de significancia: 1.0% - Valor crítico: 1.0920\n",
      "Se rechaza la hipótesis nula: La distribución no es normal.\n"
     ]
    }
   ],
   "execution_count": 19
  },
  {
   "metadata": {},
   "cell_type": "markdown",
   "source": "# 9- Intervalo de confianza para la media de Sales",
   "id": "c359a407bbe0a2fc"
  },
  {
   "metadata": {
    "ExecuteTime": {
     "end_time": "2025-04-21T05:33:38.558259Z",
     "start_time": "2025-04-21T05:33:38.547392Z"
    }
   },
   "cell_type": "code",
   "source": [
    "# Definir la confianza y los datos\n",
    "sales = df['Sales'].dropna()  # Eliminar valores nulos si existen\n",
    "n = len(sales)  # Tamaño de la muestra\n",
    "media = np.mean(sales)  # Media muestral\n",
    "std_error = stats.sem(sales)  # Error estándar de la media\n",
    "\n",
    "# Intervalo de confianza del 95%\n",
    "ic_95 = stats.t.interval(0.95, df=n-1, loc=media, scale=std_error)\n",
    "print(f\"Intervalo de confianza del 95%: {ic_95}\")\n",
    "\n",
    "# Intervalo de confianza del 99%\n",
    "ic_99 = stats.t.interval(0.99, df=n-1, loc=media, scale=std_error)\n",
    "print(f\"Intervalo de confianza del 99%: {ic_99}\")"
   ],
   "id": "eaa5de100786c188",
   "outputs": [
    {
     "name": "stdout",
     "output_type": "stream",
     "text": [
      "Intervalo de confianza del 95%: (np.float64(217.72758507307788), np.float64(242.50480080903475))\n",
      "Intervalo de confianza del 99%: (np.float64(213.83364050223165), np.float64(246.39874537988098))\n"
     ]
    }
   ],
   "execution_count": 20
  },
  {
   "metadata": {},
   "cell_type": "markdown",
   "source": "# 10- Prueba de hipótesis: Comparación entre segmentos",
   "id": "93c38d52a4d9b558"
  },
  {
   "metadata": {},
   "cell_type": "markdown",
   "source": "# 10.1- Filtrar los datos de los segmentos Consumer y Corporate",
   "id": "96a27b5a03ccf8d8"
  },
  {
   "metadata": {
    "ExecuteTime": {
     "end_time": "2025-04-21T05:33:38.612683Z",
     "start_time": "2025-04-21T05:33:38.596642Z"
    }
   },
   "cell_type": "code",
   "source": [
    "import scipy.stats as stats\n",
    "\n",
    "consumer_sales = df[df['Segment'] == 'Consumer']['Sales']\n",
    "corporate_sales = df[df['Segment'] == 'Corporate']['Sales']\n",
    "print(consumer_sales)"
   ],
   "id": "786cdc6bf1af3bea",
   "outputs": [
    {
     "name": "stdout",
     "output_type": "stream",
     "text": [
      "0       261.9600\n",
      "1       731.9400\n",
      "3       957.5775\n",
      "4        22.3680\n",
      "5        48.8600\n",
      "          ...   \n",
      "9790    211.2460\n",
      "9791     56.0640\n",
      "9792    107.7720\n",
      "9793      4.8320\n",
      "9794     18.2400\n",
      "Name: Sales, Length: 5096, dtype: float64\n"
     ]
    }
   ],
   "execution_count": 21
  },
  {
   "metadata": {},
   "cell_type": "markdown",
   "source": "# 10.2- Verificar normalidad en ambos grupos (Shapiro-Wilk)",
   "id": "b8e92fcdc38f9aee"
  },
  {
   "metadata": {
    "ExecuteTime": {
     "end_time": "2025-04-21T05:33:38.692063Z",
     "start_time": "2025-04-21T05:33:38.681045Z"
    }
   },
   "cell_type": "code",
   "source": [
    "# Realizar la prueba de Mann-Whitney U\n",
    "stat, p_value = stats.mannwhitneyu(consumer_sales, corporate_sales, alternative='two-sided')\n",
    "\n",
    "print(f\"Estadístico de la prueba: {stat:.4f}\")\n",
    "print(f\"p-valor: {p_value:.4f}\")\n",
    "\n",
    "# Interpretar el p-valor con un nivel de significancia de α = 0.05\n",
    "alpha = 0.05\n",
    "if p_value < alpha:\n",
    "    print(\"Rechazamos H0: Hay una diferencia significativa en las ventas entre los segmentos.\")\n",
    "else:\n",
    "    print(\"No rechazamos H0: No hay una diferencia significativa en las ventas entre los segmentos.\")"
   ],
   "id": "409ff2bc26e7c2b2",
   "outputs": [
    {
     "name": "stdout",
     "output_type": "stream",
     "text": [
      "Estadístico de la prueba: 7458762.5000\n",
      "p-valor: 0.5992\n",
      "No rechazamos H0: No hay una diferencia significativa en las ventas entre los segmentos.\n"
     ]
    }
   ],
   "execution_count": 22
  },
  {
   "metadata": {},
   "cell_type": "markdown",
   "source": "# 11- Prueba de independencia",
   "id": "a80b8f8e861b473"
  },
  {
   "metadata": {},
   "cell_type": "markdown",
   "source": "# 11.1- Construir la tabla de contingencia entre las variables Region y Category",
   "id": "509d4c5c3d28f05"
  },
  {
   "metadata": {
    "ExecuteTime": {
     "end_time": "2025-04-21T05:33:38.786834Z",
     "start_time": "2025-04-21T05:33:38.754655Z"
    }
   },
   "cell_type": "code",
   "source": [
    "# Construir la tabla de contingencia\n",
    "contingency_table = pd.crosstab(df['Region'], df['Category'])\n",
    "print(\"Tabla de contingencia entre Region y Category:\")\n",
    "print(contingency_table)\n"
   ],
   "id": "40c6448cff64ce8",
   "outputs": [
    {
     "name": "stdout",
     "output_type": "stream",
     "text": [
      "Tabla de contingencia entre Region y Category:\n",
      "Category  Furniture  Office Supplies  Technology\n",
      "Region                                          \n",
      "Central         470             1399         408\n",
      "East            589             1661         524\n",
      "South           326              983         289\n",
      "West            691             1860         589\n"
     ]
    }
   ],
   "execution_count": 23
  },
  {
   "metadata": {},
   "cell_type": "markdown",
   "source": "# 11.2- Aplicar la prueba Chi-cuadrada",
   "id": "cb89b8feb8cd4eb7"
  },
  {
   "metadata": {
    "ExecuteTime": {
     "end_time": "2025-04-21T05:33:38.809836Z",
     "start_time": "2025-04-21T05:33:38.801350Z"
    }
   },
   "cell_type": "code",
   "source": [
    "# Realizar la prueba Chi-cuadrada\n",
    "chi2_stat, p_value, dof, expected = stats.chi2_contingency(contingency_table)\n",
    "\n",
    "print(f\"Estadístico Chi-cuadrado: {chi2_stat:.4f}\")\n",
    "print(f\"p-valor: {p_value:.4f}\")\n",
    "print(f\"Grados de libertad: {dof}\")\n",
    "print(\"Frecuencia esperada:\")\n",
    "print(expected)\n"
   ],
   "id": "1afb3826c10b043f",
   "outputs": [
    {
     "name": "stdout",
     "output_type": "stream",
     "text": [
      "Estadístico Chi-cuadrado: 4.2405\n",
      "p-valor: 0.6442\n",
      "Grados de libertad: 6\n",
      "Frecuencia esperada:\n",
      "[[ 482.89426908 1373.08519767  421.02053325]\n",
      " [ 588.29543365 1672.78802738  512.91653897]\n",
      " [ 338.89549494  963.63203596  295.4724691 ]\n",
      " [ 665.91480233 1893.49473899  580.59045868]]\n"
     ]
    }
   ],
   "execution_count": 24
  },
  {
   "metadata": {},
   "cell_type": "markdown",
   "source": "# 11.3- Interpretar el p-valor",
   "id": "2e2e0ebce72d7a09"
  },
  {
   "metadata": {
    "ExecuteTime": {
     "end_time": "2025-04-21T05:33:38.862451Z",
     "start_time": "2025-04-21T05:33:38.856075Z"
    }
   },
   "cell_type": "code",
   "source": [
    "alpha = 0.05  # Nivel de significancia\n",
    "if p_value < alpha:\n",
    "    print(\"Rechazamos H0: Las variables Region y Category están asociadas (dependientes).\")\n",
    "else:\n",
    "    print(\"No rechazamos H0: Las variables Region y Category son independientes.\")\n"
   ],
   "id": "f6b1b946c3f17104",
   "outputs": [
    {
     "name": "stdout",
     "output_type": "stream",
     "text": [
      "No rechazamos H0: Las variables Region y Category son independientes.\n"
     ]
    }
   ],
   "execution_count": 25
  }
 ],
 "metadata": {
  "kernelspec": {
   "display_name": "Python 3",
   "language": "python",
   "name": "python3"
  },
  "language_info": {
   "codemirror_mode": {
    "name": "ipython",
    "version": 2
   },
   "file_extension": ".py",
   "mimetype": "text/x-python",
   "name": "python",
   "nbconvert_exporter": "python",
   "pygments_lexer": "ipython2",
   "version": "2.7.6"
  }
 },
 "nbformat": 4,
 "nbformat_minor": 5
}
