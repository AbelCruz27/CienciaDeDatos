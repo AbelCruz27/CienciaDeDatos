{
 "nbformat": 4,
 "nbformat_minor": 0,
 "metadata": {
  "colab": {
   "private_outputs": true,
   "provenance": []
  },
  "kernelspec": {
   "name": "python3",
   "display_name": "Python 3 (ipykernel)",
   "language": "python"
  },
  "language_info": {
   "name": "python"
  }
 },
 "cells": [
  {
   "cell_type": "markdown",
   "source": [
    "# 2.1 Instalación de las bibliotecas necesarias\n",
    "\n"
   ],
   "metadata": {
    "id": "nQL-JDyVuDut"
   }
  },
  {
   "cell_type": "code",
   "source": [
    "import sns\n",
    "\n",
    "'''pip install pandas matplotlib seaborn kagglehub\n",
    "update pip'''\n"
   ],
   "metadata": {
    "collapsed": true,
    "id": "G-tle3Oys_cl",
    "ExecuteTime": {
     "end_time": "2025-05-08T06:54:39.756476Z",
     "start_time": "2025-05-08T06:54:39.740436Z"
    }
   },
   "outputs": [
    {
     "data": {
      "text/plain": [
       "'pip install pandas matplotlib seaborn kagglehub\\nupdate pip'"
      ]
     },
     "execution_count": 1,
     "metadata": {},
     "output_type": "execute_result"
    }
   ],
   "execution_count": 1
  },
  {
   "cell_type": "markdown",
   "source": [
    "# 2.2 Descarga de la base de datos en formato .csv"
   ],
   "metadata": {
    "id": "DJ00ghnkuBA8"
   }
  },
  {
   "metadata": {},
   "cell_type": "markdown",
   "source": [
    "import kagglehub\n",
    "path = kagglehub.dataset_download(\"chitwanmanchanda/fraudulent-transactions-data\")\n",
    "print(\"Path to dataset files:\", path)"
   ]
  },
  {
   "metadata": {},
   "cell_type": "markdown",
   "source": [
    "import pandas as pd\n",
    "df = pd.read_csv('C:/Users/abelc/PycharmProjects/Ciencia De Datos/BD/Fraud.csv')"
   ]
  },
  {
   "cell_type": "markdown",
   "source": [
    "# 2.3 Carga y exploración inicial de los datos"
   ],
   "metadata": {
    "id": "vV-eX2WMt9XW"
   }
  },
  {
   "cell_type": "code",
   "source": [
    "import pandas as pd\n",
    "df = pd.read_csv('C:/Users/abelc/PycharmProjects/Ciencia De Datos/BD/Fraud.csv')\n",
    "\n",
    "# Muestra las primeras filas del DataFrame para verificar\n",
    "print(df.head())\n",
    "print(df.info)\n",
    "print(df.describe)"
   ],
   "metadata": {
    "collapsed": true,
    "id": "eB7lbeIJr0zk",
    "ExecuteTime": {
     "end_time": "2025-05-09T01:41:58.920382Z",
     "start_time": "2025-05-09T01:41:50.253401Z"
    }
   },
   "outputs": [
    {
     "name": "stdout",
     "output_type": "stream",
     "text": [
      "   step      type    amount     nameOrig  oldbalanceOrg  newbalanceOrig  \\\n",
      "0     1   PAYMENT   9839.64  C1231006815       170136.0       160296.36   \n",
      "1     1   PAYMENT   1864.28  C1666544295        21249.0        19384.72   \n",
      "2     1  TRANSFER    181.00  C1305486145          181.0            0.00   \n",
      "3     1  CASH_OUT    181.00   C840083671          181.0            0.00   \n",
      "4     1   PAYMENT  11668.14  C2048537720        41554.0        29885.86   \n",
      "\n",
      "      nameDest  oldbalanceDest  newbalanceDest  isFraud  isFlaggedFraud  \n",
      "0  M1979787155             0.0             0.0        0               0  \n",
      "1  M2044282225             0.0             0.0        0               0  \n",
      "2   C553264065             0.0             0.0        1               0  \n",
      "3    C38997010         21182.0             0.0        1               0  \n",
      "4  M1230701703             0.0             0.0        0               0  \n",
      "<bound method DataFrame.info of          step      type      amount     nameOrig  oldbalanceOrg  \\\n",
      "0           1   PAYMENT     9839.64  C1231006815      170136.00   \n",
      "1           1   PAYMENT     1864.28  C1666544295       21249.00   \n",
      "2           1  TRANSFER      181.00  C1305486145         181.00   \n",
      "3           1  CASH_OUT      181.00   C840083671         181.00   \n",
      "4           1   PAYMENT    11668.14  C2048537720       41554.00   \n",
      "...       ...       ...         ...          ...            ...   \n",
      "6362615   743  CASH_OUT   339682.13   C786484425      339682.13   \n",
      "6362616   743  TRANSFER  6311409.28  C1529008245     6311409.28   \n",
      "6362617   743  CASH_OUT  6311409.28  C1162922333     6311409.28   \n",
      "6362618   743  TRANSFER   850002.52  C1685995037      850002.52   \n",
      "6362619   743  CASH_OUT   850002.52  C1280323807      850002.52   \n",
      "\n",
      "         newbalanceOrig     nameDest  oldbalanceDest  newbalanceDest  isFraud  \\\n",
      "0             160296.36  M1979787155            0.00            0.00        0   \n",
      "1              19384.72  M2044282225            0.00            0.00        0   \n",
      "2                  0.00   C553264065            0.00            0.00        1   \n",
      "3                  0.00    C38997010        21182.00            0.00        1   \n",
      "4              29885.86  M1230701703            0.00            0.00        0   \n",
      "...                 ...          ...             ...             ...      ...   \n",
      "6362615            0.00   C776919290            0.00       339682.13        1   \n",
      "6362616            0.00  C1881841831            0.00            0.00        1   \n",
      "6362617            0.00  C1365125890        68488.84      6379898.11        1   \n",
      "6362618            0.00  C2080388513            0.00            0.00        1   \n",
      "6362619            0.00   C873221189      6510099.11      7360101.63        1   \n",
      "\n",
      "         isFlaggedFraud  \n",
      "0                     0  \n",
      "1                     0  \n",
      "2                     0  \n",
      "3                     0  \n",
      "4                     0  \n",
      "...                 ...  \n",
      "6362615               0  \n",
      "6362616               0  \n",
      "6362617               0  \n",
      "6362618               0  \n",
      "6362619               0  \n",
      "\n",
      "[6362620 rows x 11 columns]>\n",
      "<bound method NDFrame.describe of          step      type      amount     nameOrig  oldbalanceOrg  \\\n",
      "0           1   PAYMENT     9839.64  C1231006815      170136.00   \n",
      "1           1   PAYMENT     1864.28  C1666544295       21249.00   \n",
      "2           1  TRANSFER      181.00  C1305486145         181.00   \n",
      "3           1  CASH_OUT      181.00   C840083671         181.00   \n",
      "4           1   PAYMENT    11668.14  C2048537720       41554.00   \n",
      "...       ...       ...         ...          ...            ...   \n",
      "6362615   743  CASH_OUT   339682.13   C786484425      339682.13   \n",
      "6362616   743  TRANSFER  6311409.28  C1529008245     6311409.28   \n",
      "6362617   743  CASH_OUT  6311409.28  C1162922333     6311409.28   \n",
      "6362618   743  TRANSFER   850002.52  C1685995037      850002.52   \n",
      "6362619   743  CASH_OUT   850002.52  C1280323807      850002.52   \n",
      "\n",
      "         newbalanceOrig     nameDest  oldbalanceDest  newbalanceDest  isFraud  \\\n",
      "0             160296.36  M1979787155            0.00            0.00        0   \n",
      "1              19384.72  M2044282225            0.00            0.00        0   \n",
      "2                  0.00   C553264065            0.00            0.00        1   \n",
      "3                  0.00    C38997010        21182.00            0.00        1   \n",
      "4              29885.86  M1230701703            0.00            0.00        0   \n",
      "...                 ...          ...             ...             ...      ...   \n",
      "6362615            0.00   C776919290            0.00       339682.13        1   \n",
      "6362616            0.00  C1881841831            0.00            0.00        1   \n",
      "6362617            0.00  C1365125890        68488.84      6379898.11        1   \n",
      "6362618            0.00  C2080388513            0.00            0.00        1   \n",
      "6362619            0.00   C873221189      6510099.11      7360101.63        1   \n",
      "\n",
      "         isFlaggedFraud  \n",
      "0                     0  \n",
      "1                     0  \n",
      "2                     0  \n",
      "3                     0  \n",
      "4                     0  \n",
      "...                 ...  \n",
      "6362615               0  \n",
      "6362616               0  \n",
      "6362617               0  \n",
      "6362618               0  \n",
      "6362619               0  \n",
      "\n",
      "[6362620 rows x 11 columns]>\n"
     ]
    }
   ],
   "execution_count": 1
  },
  {
   "metadata": {},
   "cell_type": "markdown",
   "source": [
    "import pandas as pd\n",
    "import matplotlib.pyplot as plt\n",
    "import seaborn as sns\n",
    "\n",
    "# Mapa de calor de la correlación entre variables\n",
    "plt.figure(figsize=(10, 6))\n",
    "sns.heatmap(df.corr(), annot=True, cmap=\"coolwarm\", fmt=\".2f\", linewidths=0.5)\n",
    "plt.title(\"Mapa de calor de correlaciones\")\n",
    "plt.show()"
   ]
  },
  {
   "cell_type": "code",
   "source": [
    "# controlador de la cantidad de fraudes y transacciones no fraudulentas\n",
    "\n",
    "cant_fraudes = df['isFraud'].sum()\n",
    "print(f\"Cantidad de transacciones fraudulentas: {cant_fraudes}\" )\n",
    "\n",
    "cant_no_fraudes = len(df) - cant_fraudes\n",
    "print(f\"Cantidad de transacciones no fraudulentas:{cant_no_fraudes}\")"
   ],
   "metadata": {
    "id": "9IohzPEcsxiN",
    "ExecuteTime": {
     "end_time": "2025-05-09T01:42:26.225529Z",
     "start_time": "2025-05-09T01:42:26.193462Z"
    }
   },
   "outputs": [
    {
     "name": "stdout",
     "output_type": "stream",
     "text": [
      "Cantidad de transacciones fraudulentas: 8213\n",
      "Cantidad de transacciones no fraudulentas:6354407\n"
     ]
    }
   ],
   "execution_count": 2
  },
  {
   "metadata": {},
   "cell_type": "markdown",
   "source": [
    "plt.figure(figsize=(8, 5))\n",
    "sns.countplot(data=df, x=\"type\", hue=\"isFraud\")\n",
    "plt.title(\"Cantidad de fraudes por tipo de transacción\")\n",
    "plt.xlabel(\"Tipo de transacción\")\n",
    "plt.ylabel(\"Cantidad\")\n",
    "plt.legend(title=\"Fraude\", labels=[\"No\", \"Sí\"])\n",
    "plt.xticks(rotation=45)\n",
    "plt.show()\n"
   ]
  },
  {
   "cell_type": "markdown",
   "source": [
    "# 2.4 Preparación de los datos\n",
    "## 2.4.1 Eliminación de variables"
   ],
   "metadata": {
    "id": "hx2mEjUVuirE"
   }
  },
  {
   "cell_type": "code",
   "source": [
    "# Lista de columnas a eliminar\n",
    "columnas_a_eliminar = ['step', 'nameOrig', 'nameDest']\n",
    "# Eliminar las columnas del DataFrame\n",
    "df = df.drop(columns=columnas_a_eliminar)\n",
    "\n",
    "# Verificamos que las columnas se eliminaron\n",
    "df.head()\n",
    "\n",
    "#quedaron variables numericas y de tipo"
   ],
   "metadata": {
    "collapsed": true,
    "id": "0whfxE2Hu3v9",
    "ExecuteTime": {
     "end_time": "2025-05-09T01:42:26.517372Z",
     "start_time": "2025-05-09T01:42:26.254760Z"
    }
   },
   "outputs": [
    {
     "data": {
      "text/plain": [
       "       type    amount  oldbalanceOrg  newbalanceOrig  oldbalanceDest  \\\n",
       "0   PAYMENT   9839.64       170136.0       160296.36             0.0   \n",
       "1   PAYMENT   1864.28        21249.0        19384.72             0.0   \n",
       "2  TRANSFER    181.00          181.0            0.00             0.0   \n",
       "3  CASH_OUT    181.00          181.0            0.00         21182.0   \n",
       "4   PAYMENT  11668.14        41554.0        29885.86             0.0   \n",
       "\n",
       "   newbalanceDest  isFraud  isFlaggedFraud  \n",
       "0             0.0        0               0  \n",
       "1             0.0        0               0  \n",
       "2             0.0        1               0  \n",
       "3             0.0        1               0  \n",
       "4             0.0        0               0  "
      ],
      "text/html": [
       "<div>\n",
       "<style scoped>\n",
       "    .dataframe tbody tr th:only-of-type {\n",
       "        vertical-align: middle;\n",
       "    }\n",
       "\n",
       "    .dataframe tbody tr th {\n",
       "        vertical-align: top;\n",
       "    }\n",
       "\n",
       "    .dataframe thead th {\n",
       "        text-align: right;\n",
       "    }\n",
       "</style>\n",
       "<table border=\"1\" class=\"dataframe\">\n",
       "  <thead>\n",
       "    <tr style=\"text-align: right;\">\n",
       "      <th></th>\n",
       "      <th>type</th>\n",
       "      <th>amount</th>\n",
       "      <th>oldbalanceOrg</th>\n",
       "      <th>newbalanceOrig</th>\n",
       "      <th>oldbalanceDest</th>\n",
       "      <th>newbalanceDest</th>\n",
       "      <th>isFraud</th>\n",
       "      <th>isFlaggedFraud</th>\n",
       "    </tr>\n",
       "  </thead>\n",
       "  <tbody>\n",
       "    <tr>\n",
       "      <th>0</th>\n",
       "      <td>PAYMENT</td>\n",
       "      <td>9839.64</td>\n",
       "      <td>170136.0</td>\n",
       "      <td>160296.36</td>\n",
       "      <td>0.0</td>\n",
       "      <td>0.0</td>\n",
       "      <td>0</td>\n",
       "      <td>0</td>\n",
       "    </tr>\n",
       "    <tr>\n",
       "      <th>1</th>\n",
       "      <td>PAYMENT</td>\n",
       "      <td>1864.28</td>\n",
       "      <td>21249.0</td>\n",
       "      <td>19384.72</td>\n",
       "      <td>0.0</td>\n",
       "      <td>0.0</td>\n",
       "      <td>0</td>\n",
       "      <td>0</td>\n",
       "    </tr>\n",
       "    <tr>\n",
       "      <th>2</th>\n",
       "      <td>TRANSFER</td>\n",
       "      <td>181.00</td>\n",
       "      <td>181.0</td>\n",
       "      <td>0.00</td>\n",
       "      <td>0.0</td>\n",
       "      <td>0.0</td>\n",
       "      <td>1</td>\n",
       "      <td>0</td>\n",
       "    </tr>\n",
       "    <tr>\n",
       "      <th>3</th>\n",
       "      <td>CASH_OUT</td>\n",
       "      <td>181.00</td>\n",
       "      <td>181.0</td>\n",
       "      <td>0.00</td>\n",
       "      <td>21182.0</td>\n",
       "      <td>0.0</td>\n",
       "      <td>1</td>\n",
       "      <td>0</td>\n",
       "    </tr>\n",
       "    <tr>\n",
       "      <th>4</th>\n",
       "      <td>PAYMENT</td>\n",
       "      <td>11668.14</td>\n",
       "      <td>41554.0</td>\n",
       "      <td>29885.86</td>\n",
       "      <td>0.0</td>\n",
       "      <td>0.0</td>\n",
       "      <td>0</td>\n",
       "      <td>0</td>\n",
       "    </tr>\n",
       "  </tbody>\n",
       "</table>\n",
       "</div>"
      ]
     },
     "execution_count": 3,
     "metadata": {},
     "output_type": "execute_result"
    }
   ],
   "execution_count": 3
  },
  {
   "cell_type": "code",
   "source": [
    "# VALORES NULOS\n",
    "df.isnull().sum()\n",
    "\n",
    "# VALORES DUPLICADOS\n",
    "# SUMA DE LOS DUPLICADOS QUE EXISTAN\n",
    "num_duplicados = df.duplicated().sum()\n",
    "\n",
    "# MOSTRARA CUANTOS DUPLICADOS\n",
    "# DONDE SE GENERARON, \\\\\n",
    "# Ver ejemplos de filas duplicadas\n",
    "duplicados = df[df.duplicated()]\n",
    "# Contar cuántos de los duplicados son fraudes y cuántos no\n",
    "duplicados_fraude = duplicados['isFraud'].sum()\n",
    "duplicados_no_fraude = len(duplicados) - duplicados_fraude\n",
    "# Mostrar resultados\n",
    "{\n",
    "\"Total de duplicados\": num_duplicados,\n",
    "\"Duplicados que son fraude\": duplicados_fraude,\n",
    "\"Duplicados que no son fraude\": duplicados_no_fraude\n",
    "}"
   ],
   "metadata": {
    "id": "sycTW3uSvVHN",
    "ExecuteTime": {
     "end_time": "2025-05-09T01:42:44.308446Z",
     "start_time": "2025-05-09T01:42:26.576879Z"
    }
   },
   "outputs": [
    {
     "data": {
      "text/plain": [
       "{'Total de duplicados': np.int64(97880),\n",
       " 'Duplicados que son fraude': np.int64(61),\n",
       " 'Duplicados que no son fraude': np.int64(97819)}"
      ]
     },
     "execution_count": 4,
     "metadata": {},
     "output_type": "execute_result"
    }
   ],
   "execution_count": 4
  },
  {
   "cell_type": "code",
   "source": [
    "# ELIMINAR DATOS QUE NO APORTAN VALOR, EN ESTE CASO SON 61 DATOS DUPLICADOS QUE NO AFECTARIAN\n",
    "\n",
    "df = df.drop_duplicates()"
   ],
   "metadata": {
    "id": "6ePfFkJbvvF9",
    "ExecuteTime": {
     "end_time": "2025-05-09T01:42:53.045774Z",
     "start_time": "2025-05-09T01:42:44.382499Z"
    }
   },
   "outputs": [],
   "execution_count": 5
  },
  {
   "cell_type": "code",
   "source": [
    "# Podemos resetear los índices\n",
    "df = df.reset_index(drop=True)"
   ],
   "metadata": {
    "id": "Rbp1fxNaxGnV",
    "ExecuteTime": {
     "end_time": "2025-05-09T01:42:53.250415Z",
     "start_time": "2025-05-09T01:42:53.099260Z"
    }
   },
   "outputs": [],
   "execution_count": 6
  },
  {
   "cell_type": "markdown",
   "source": [
    "## 2.4.4 Tratamiento de valores atípicos"
   ],
   "metadata": {
    "id": "HBGYGhoBxJJN"
   }
  },
  {
   "cell_type": "code",
   "source": [
    "import numpy as np\n",
    "# pruebas de hipotesis (hip. nula o ) encontrar estadisticamente significativa, si dos variables estan altamente correlacionadas\n",
    "\n",
    "\n",
    "# Seleccionar las columnas numéricas\n",
    "columnas_numericas = ['amount', 'oldbalanceOrg', 'newbalanceOrig', 'oldbalanceDest', 'newbalanceDest']\n",
    "\n",
    "# Inicializar un diccionario para almacenar el conteo de valores atípicos\n",
    "conteo_outliers = {}\n",
    "\n",
    "# Iterar sobre cada columna numérica\n",
    "for columna in columnas_numericas:\n",
    "  # Calcular el primer y tercer cuartil (Q1 y Q3)\n",
    "  Q1 = df[columna].quantile(0.25)\n",
    "  Q3 = df[columna].quantile(0.75)\n",
    "\n",
    "  # Calcular el rango intercuartílico (IQR)\n",
    "  IQR = Q3 - Q1\n",
    "\n",
    "  # Definir los límites inferior y superior para los valores atípicos\n",
    "  limite_inferior = Q1 - 1.5 * IQR\n",
    "  limite_superior = Q3 + 1.5 * IQR\n",
    "\n",
    "  # Contar los valores atípicos\n",
    "  outliers = df[(df[columna] < limite_inferior) | \\\n",
    "  (df[columna] > limite_superior)]\n",
    "  conteo_outliers[columna] = outliers.shape[0]\n",
    "\n",
    "\n",
    "# Mostrar el conteo de valores atípicos por columna\n",
    "for columna, conteo in conteo_outliers.items():\n",
    "  print(f'Columna {columna}: {conteo} valores atípicos')\n",
    "  total_outliers = sum(conteo_outliers.values())\n",
    "  print(f\"\\nTotal de valores atípicos: {total_outliers}\")\n",
    "  print(f\"El {total_outliers/len(df)}% de los valores son atípicos\")"
   ],
   "metadata": {
    "collapsed": true,
    "id": "WbQEA18LxLd1",
    "ExecuteTime": {
     "end_time": "2025-05-09T01:42:54.578331Z",
     "start_time": "2025-05-09T01:42:53.341447Z"
    }
   },
   "outputs": [
    {
     "name": "stdout",
     "output_type": "stream",
     "text": [
      "Columna amount: 331341 valores atípicos\n",
      "\n",
      "Total de valores atípicos: 3949823\n",
      "El 0.6304847447779157% de los valores son atípicos\n",
      "Columna oldbalanceOrg: 1098406 valores atípicos\n",
      "\n",
      "Total de valores atípicos: 3949823\n",
      "El 0.6304847447779157% de los valores son atípicos\n",
      "Columna newbalanceOrig: 1031683 valores atípicos\n",
      "\n",
      "Total de valores atípicos: 3949823\n",
      "El 0.6304847447779157% de los valores son atípicos\n",
      "Columna oldbalanceDest: 767481 valores atípicos\n",
      "\n",
      "Total de valores atípicos: 3949823\n",
      "El 0.6304847447779157% de los valores son atípicos\n",
      "Columna newbalanceDest: 720912 valores atípicos\n",
      "\n",
      "Total de valores atípicos: 3949823\n",
      "El 0.6304847447779157% de los valores son atípicos\n"
     ]
    }
   ],
   "execution_count": 7
  },
  {
   "metadata": {
    "ExecuteTime": {
     "end_time": "2025-05-09T01:43:03.054880Z",
     "start_time": "2025-05-09T01:42:54.629930Z"
    }
   },
   "cell_type": "code",
   "source": [
    "import matplotlib.pyplot as plt\n",
    "import seaborn as sns\n",
    "\n",
    "plt.figure(figsize=(8, 6))\n",
    "sns.boxplot(data=df, y=\"amount\")\n",
    "plt.yscale(\"log\")  # Usamos escala logarítmica si hay valores extremos\n",
    "plt.title(\"Detección de outliers en 'amount'\")\n",
    "plt.ylabel(\"Monto de la transacción (log)\")\n",
    "plt.show()\n"
   ],
   "outputs": [
    {
     "data": {
      "text/plain": [
       "<Figure size 800x600 with 1 Axes>"
      ],
      "image/png": "[encoded data removed]"
     },
     "metadata": {},
     "output_type": "display_data"
    }
   ],
   "execution_count": 8
  },
  {
   "cell_type": "code",
   "source": [
    "# Diccionarios para almacenar los resultados\n",
    "proporcion_outliers_fraude = {}\n",
    "proporcion_outliers_no_fraude = {}\n",
    "# Iterar sobre cada columna numérica\n",
    "for columna in columnas_numericas:\n",
    "  # Calcular IQR y límites para valores atípicos\n",
    "  Q1 = df[columna].quantile(0.25)\n",
    "  Q3 = df[columna].quantile(0.75)\n",
    "  IQR = Q3 - Q1\n",
    "  limite_inferior = Q1 - 1.5 * IQR\n",
    "  limite_superior = Q3 + 1.5 * IQR\n",
    "  # Identificar valores atípicos\n",
    "  outliers = (df[columna] < limite_inferior) | \\\n",
    "  (df[columna] > limite_superior)\n",
    "\n",
    "  # Contar la proporción de valores atípicos en fraudes y no fraudes\n",
    "  proporcion_outliers_fraude[columna] = df[outliers & \\\n",
    "  (df['isFraud'] == 1)].shape[0] / df[df['isFraud'] == 1].shape[0]\n",
    "  proporcion_outliers_no_fraude[columna] = df[outliers & \\\n",
    "  (df['isFraud'] == 0)].shape[0] / df[df['isFraud'] == 0].shape[0]\n",
    "\n",
    "# Crear DataFrame con los resultados\n",
    "df_proporcion_outliers = pd.DataFrame({\n",
    "'Proporción en fraudes': proporcion_outliers_fraude,\n",
    "'Proporción en no fraudes': proporcion_outliers_no_fraude\n",
    "})\n",
    "df_proporcion_outliers"
   ],
   "metadata": {
    "collapsed": true,
    "id": "ZtM-zFFVyWQ-",
    "ExecuteTime": {
     "end_time": "2025-05-09T01:43:06.142354Z",
     "start_time": "2025-05-09T01:43:03.085447Z"
    }
   },
   "outputs": [
    {
     "data": {
      "text/plain": [
       "                Proporción en fraudes  Proporción en no fraudes\n",
       "amount                       0.463199                  0.052355\n",
       "oldbalanceOrg                0.594701                  0.174785\n",
       "newbalanceOrig               0.019014                  0.164871\n",
       "oldbalanceDest               0.054956                  0.122596\n",
       "newbalanceDest               0.126840                  0.115059"
      ],
      "text/html": [
       "<div>\n",
       "<style scoped>\n",
       "    .dataframe tbody tr th:only-of-type {\n",
       "        vertical-align: middle;\n",
       "    }\n",
       "\n",
       "    .dataframe tbody tr th {\n",
       "        vertical-align: top;\n",
       "    }\n",
       "\n",
       "    .dataframe thead th {\n",
       "        text-align: right;\n",
       "    }\n",
       "</style>\n",
       "<table border=\"1\" class=\"dataframe\">\n",
       "  <thead>\n",
       "    <tr style=\"text-align: right;\">\n",
       "      <th></th>\n",
       "      <th>Proporción en fraudes</th>\n",
       "      <th>Proporción en no fraudes</th>\n",
       "    </tr>\n",
       "  </thead>\n",
       "  <tbody>\n",
       "    <tr>\n",
       "      <th>amount</th>\n",
       "      <td>0.463199</td>\n",
       "      <td>0.052355</td>\n",
       "    </tr>\n",
       "    <tr>\n",
       "      <th>oldbalanceOrg</th>\n",
       "      <td>0.594701</td>\n",
       "      <td>0.174785</td>\n",
       "    </tr>\n",
       "    <tr>\n",
       "      <th>newbalanceOrig</th>\n",
       "      <td>0.019014</td>\n",
       "      <td>0.164871</td>\n",
       "    </tr>\n",
       "    <tr>\n",
       "      <th>oldbalanceDest</th>\n",
       "      <td>0.054956</td>\n",
       "      <td>0.122596</td>\n",
       "    </tr>\n",
       "    <tr>\n",
       "      <th>newbalanceDest</th>\n",
       "      <td>0.126840</td>\n",
       "      <td>0.115059</td>\n",
       "    </tr>\n",
       "  </tbody>\n",
       "</table>\n",
       "</div>"
      ]
     },
     "execution_count": 9,
     "metadata": {},
     "output_type": "execute_result"
    }
   ],
   "execution_count": 9
  },
  {
   "cell_type": "markdown",
   "source": [
    "# PRUEBA DE HIPOTESIS"
   ],
   "metadata": {
    "id": "O77Va7MRy5gd"
   }
  },
  {
   "cell_type": "code",
   "source": [
    "import scipy.stats as stats\n",
    "# Diccionario para almacenar los resultados de la prueba de Chi-cuadrado\n",
    "chi2_results = {}\n",
    "df_Hip = df.copy()\n",
    "# Iterar sobre cada columna numérica\n",
    "for columna in columnas_numericas:\n",
    "  # Calcular IQR y límites para valores atípicos\n",
    "  Q1 = df_Hip[columna].quantile(0.25)\n",
    "  Q3 = df_Hip[columna].quantile(0.75)\n",
    "  IQR = Q3 - Q1\n",
    "  limite_inferior = Q1 - 1.5 * IQR\n",
    "  limite_superior = Q3 + 1.5 * IQR\n",
    "  # Crear una columna binaria indicando si es un valor atípico o no\n",
    "  df_Hip[f\"{columna}_outlier\"] = (df_Hip[columna] < limite_inferior) | \\\n",
    "  (df_Hip[columna] > limite_superior)\n",
    "\n",
    "  # Construir tabla de contingencia\n",
    "  tabla_contingencia = pd.crosstab(df_Hip[f\"{columna}_outlier\"],\n",
    "\n",
    "  df_Hip[\"isFraud\"])\n",
    "\n",
    "  # Prueba de Chi-cuadrado\n",
    "  chi2_stat, p_valor, _, _ = stats.chi2_contingency(tabla_contingencia)\n",
    "  # Guardar los resultados\n",
    "  chi2_results[columna] = {'Chi2': chi2_stat, 'p-valor': p_valor}\n",
    "\n",
    "\n",
    "# Convertir los resultados a DataFrame y mostrarlos\n",
    "df_chi2_results = pd.DataFrame(chi2_results).T\n",
    "df_chi2_results\n",
    "\n",
    "# SI EL P-VALOR ES MENOR A 0.5 SE DESCARTA LA HIP. NULA. DE QUE NO HAY UNA RELACION ENTRE VALORES ATIPICOS Y QUE ES FRAUDE, PERO SI EXISTE RELACION CON ESOS DATOS. NO SE ELIMINAN, SE MANTIENEN, CREAR UNA NUEVA VARIABLE CON EL VALOR ATIPICO"
   ],
   "metadata": {
    "collapsed": true,
    "id": "u5w4kb4Dy8wV",
    "ExecuteTime": {
     "end_time": "2025-05-09T01:43:10.260897Z",
     "start_time": "2025-05-09T01:43:06.215164Z"
    }
   },
   "outputs": [
    {
     "data": {
      "text/plain": [
       "                        Chi2        p-valor\n",
       "amount          27425.218630   0.000000e+00\n",
       "oldbalanceOrg    9925.593149   0.000000e+00\n",
       "newbalanceOrig   1258.031500  1.491697e-275\n",
       "oldbalanceDest    345.869212   3.362733e-77\n",
       "newbalanceDest     10.980585   9.207136e-04"
      ],
      "text/html": [
       "<div>\n",
       "<style scoped>\n",
       "    .dataframe tbody tr th:only-of-type {\n",
       "        vertical-align: middle;\n",
       "    }\n",
       "\n",
       "    .dataframe tbody tr th {\n",
       "        vertical-align: top;\n",
       "    }\n",
       "\n",
       "    .dataframe thead th {\n",
       "        text-align: right;\n",
       "    }\n",
       "</style>\n",
       "<table border=\"1\" class=\"dataframe\">\n",
       "  <thead>\n",
       "    <tr style=\"text-align: right;\">\n",
       "      <th></th>\n",
       "      <th>Chi2</th>\n",
       "      <th>p-valor</th>\n",
       "    </tr>\n",
       "  </thead>\n",
       "  <tbody>\n",
       "    <tr>\n",
       "      <th>amount</th>\n",
       "      <td>27425.218630</td>\n",
       "      <td>0.000000e+00</td>\n",
       "    </tr>\n",
       "    <tr>\n",
       "      <th>oldbalanceOrg</th>\n",
       "      <td>9925.593149</td>\n",
       "      <td>0.000000e+00</td>\n",
       "    </tr>\n",
       "    <tr>\n",
       "      <th>newbalanceOrig</th>\n",
       "      <td>1258.031500</td>\n",
       "      <td>1.491697e-275</td>\n",
       "    </tr>\n",
       "    <tr>\n",
       "      <th>oldbalanceDest</th>\n",
       "      <td>345.869212</td>\n",
       "      <td>3.362733e-77</td>\n",
       "    </tr>\n",
       "    <tr>\n",
       "      <th>newbalanceDest</th>\n",
       "      <td>10.980585</td>\n",
       "      <td>9.207136e-04</td>\n",
       "    </tr>\n",
       "  </tbody>\n",
       "</table>\n",
       "</div>"
      ]
     },
     "execution_count": 10,
     "metadata": {},
     "output_type": "execute_result"
    }
   ],
   "execution_count": 10
  },
  {
   "cell_type": "markdown",
   "source": [
    "## 2.4.5 Creación de nuevas variables"
   ],
   "metadata": {
    "id": "OfHAnKfGzl9d"
   }
  },
  {
   "cell_type": "code",
   "source": [
    "# Crear nuevas variables binarias indicando si cada transacción es un valor\n",
    "# atípico en 'amount' y 'oldbalanceOrg'\n",
    "df_outliers = df.copy()\n",
    "# Definir los límites de valores atípicos usando el\n",
    "# método del Rango Intercuartílico (IQR)\n",
    "for columna in ['amount', 'oldbalanceOrg']:\n",
    "  Q1 = df_outliers[columna].quantile(0.25)\n",
    "  Q3 = df_outliers[columna].quantile(0.75)\n",
    "  IQR = Q3 - Q1\n",
    "  limite_inferior = Q1 - 1.5 * IQR\n",
    "  limite_superior = Q3 + 1.5 * IQR\n",
    "  # Crear una nueva columna indicando si el valor es atípico (1) o no (0)\n",
    "  df_outliers[f'{columna}_outlier'] = ((df_outliers[columna] < limite_inferior) | (df_outliers[columna] > limite_superior)).astype(int)\n",
    "\n",
    "# Verificar que las nuevas columnas fueron añadidas correctamente\n",
    "df_outliers.head()"
   ],
   "metadata": {
    "collapsed": true,
    "id": "KYELQpxizjke",
    "ExecuteTime": {
     "end_time": "2025-05-09T01:43:11.002763Z",
     "start_time": "2025-05-09T01:43:10.356101Z"
    }
   },
   "outputs": [
    {
     "data": {
      "text/plain": [
       "       type    amount  oldbalanceOrg  newbalanceOrig  oldbalanceDest  \\\n",
       "0   PAYMENT   9839.64       170136.0       160296.36             0.0   \n",
       "1   PAYMENT   1864.28        21249.0        19384.72             0.0   \n",
       "2  TRANSFER    181.00          181.0            0.00             0.0   \n",
       "3  CASH_OUT    181.00          181.0            0.00         21182.0   \n",
       "4   PAYMENT  11668.14        41554.0        29885.86             0.0   \n",
       "\n",
       "   newbalanceDest  isFraud  isFlaggedFraud  amount_outlier  \\\n",
       "0             0.0        0               0               0   \n",
       "1             0.0        0               0               0   \n",
       "2             0.0        1               0               0   \n",
       "3             0.0        1               0               0   \n",
       "4             0.0        0               0               0   \n",
       "\n",
       "   oldbalanceOrg_outlier  \n",
       "0                      0  \n",
       "1                      0  \n",
       "2                      0  \n",
       "3                      0  \n",
       "4                      0  "
      ],
      "text/html": [
       "<div>\n",
       "<style scoped>\n",
       "    .dataframe tbody tr th:only-of-type {\n",
       "        vertical-align: middle;\n",
       "    }\n",
       "\n",
       "    .dataframe tbody tr th {\n",
       "        vertical-align: top;\n",
       "    }\n",
       "\n",
       "    .dataframe thead th {\n",
       "        text-align: right;\n",
       "    }\n",
       "</style>\n",
       "<table border=\"1\" class=\"dataframe\">\n",
       "  <thead>\n",
       "    <tr style=\"text-align: right;\">\n",
       "      <th></th>\n",
       "      <th>type</th>\n",
       "      <th>amount</th>\n",
       "      <th>oldbalanceOrg</th>\n",
       "      <th>newbalanceOrig</th>\n",
       "      <th>oldbalanceDest</th>\n",
       "      <th>newbalanceDest</th>\n",
       "      <th>isFraud</th>\n",
       "      <th>isFlaggedFraud</th>\n",
       "      <th>amount_outlier</th>\n",
       "      <th>oldbalanceOrg_outlier</th>\n",
       "    </tr>\n",
       "  </thead>\n",
       "  <tbody>\n",
       "    <tr>\n",
       "      <th>0</th>\n",
       "      <td>PAYMENT</td>\n",
       "      <td>9839.64</td>\n",
       "      <td>170136.0</td>\n",
       "      <td>160296.36</td>\n",
       "      <td>0.0</td>\n",
       "      <td>0.0</td>\n",
       "      <td>0</td>\n",
       "      <td>0</td>\n",
       "      <td>0</td>\n",
       "      <td>0</td>\n",
       "    </tr>\n",
       "    <tr>\n",
       "      <th>1</th>\n",
       "      <td>PAYMENT</td>\n",
       "      <td>1864.28</td>\n",
       "      <td>21249.0</td>\n",
       "      <td>19384.72</td>\n",
       "      <td>0.0</td>\n",
       "      <td>0.0</td>\n",
       "      <td>0</td>\n",
       "      <td>0</td>\n",
       "      <td>0</td>\n",
       "      <td>0</td>\n",
       "    </tr>\n",
       "    <tr>\n",
       "      <th>2</th>\n",
       "      <td>TRANSFER</td>\n",
       "      <td>181.00</td>\n",
       "      <td>181.0</td>\n",
       "      <td>0.00</td>\n",
       "      <td>0.0</td>\n",
       "      <td>0.0</td>\n",
       "      <td>1</td>\n",
       "      <td>0</td>\n",
       "      <td>0</td>\n",
       "      <td>0</td>\n",
       "    </tr>\n",
       "    <tr>\n",
       "      <th>3</th>\n",
       "      <td>CASH_OUT</td>\n",
       "      <td>181.00</td>\n",
       "      <td>181.0</td>\n",
       "      <td>0.00</td>\n",
       "      <td>21182.0</td>\n",
       "      <td>0.0</td>\n",
       "      <td>1</td>\n",
       "      <td>0</td>\n",
       "      <td>0</td>\n",
       "      <td>0</td>\n",
       "    </tr>\n",
       "    <tr>\n",
       "      <th>4</th>\n",
       "      <td>PAYMENT</td>\n",
       "      <td>11668.14</td>\n",
       "      <td>41554.0</td>\n",
       "      <td>29885.86</td>\n",
       "      <td>0.0</td>\n",
       "      <td>0.0</td>\n",
       "      <td>0</td>\n",
       "      <td>0</td>\n",
       "      <td>0</td>\n",
       "      <td>0</td>\n",
       "    </tr>\n",
       "  </tbody>\n",
       "</table>\n",
       "</div>"
      ]
     },
     "execution_count": 11,
     "metadata": {},
     "output_type": "execute_result"
    }
   ],
   "execution_count": 11
  },
  {
   "cell_type": "markdown",
   "source": [
    "## 2.4.6 Codificación de Variables Categóricas"
   ],
   "metadata": {
    "id": "DZVHn4eM0Er-"
   }
  },
  {
   "cell_type": "code",
   "source": [
    "# CON OH, CREAR UNA ESCALADAS EN NUEVAS VARIABLES CATEGORICAS\n",
    "# NO HAY CATEGORIAS NO HAY UNA QUE NECESITE UNA DE OTRA\n",
    "df_OH = pd.get_dummies(df_outliers, columns=['type'])\n",
    "df_OH[[\"type_CASH_IN\", \"type_CASH_OUT\", \"type_DEBIT\",\n",
    "\"type_PAYMENT\", \"type_TRANSFER\"]].head()"
   ],
   "metadata": {
    "collapsed": true,
    "id": "nNUO5pI00G0-",
    "ExecuteTime": {
     "end_time": "2025-05-09T01:43:12.246978Z",
     "start_time": "2025-05-09T01:43:11.351228Z"
    }
   },
   "outputs": [
    {
     "data": {
      "text/plain": [
       "   type_CASH_IN  type_CASH_OUT  type_DEBIT  type_PAYMENT  type_TRANSFER\n",
       "0         False          False       False          True          False\n",
       "1         False          False       False          True          False\n",
       "2         False          False       False         False           True\n",
       "3         False           True       False         False          False\n",
       "4         False          False       False          True          False"
      ],
      "text/html": [
       "<div>\n",
       "<style scoped>\n",
       "    .dataframe tbody tr th:only-of-type {\n",
       "        vertical-align: middle;\n",
       "    }\n",
       "\n",
       "    .dataframe tbody tr th {\n",
       "        vertical-align: top;\n",
       "    }\n",
       "\n",
       "    .dataframe thead th {\n",
       "        text-align: right;\n",
       "    }\n",
       "</style>\n",
       "<table border=\"1\" class=\"dataframe\">\n",
       "  <thead>\n",
       "    <tr style=\"text-align: right;\">\n",
       "      <th></th>\n",
       "      <th>type_CASH_IN</th>\n",
       "      <th>type_CASH_OUT</th>\n",
       "      <th>type_DEBIT</th>\n",
       "      <th>type_PAYMENT</th>\n",
       "      <th>type_TRANSFER</th>\n",
       "    </tr>\n",
       "  </thead>\n",
       "  <tbody>\n",
       "    <tr>\n",
       "      <th>0</th>\n",
       "      <td>False</td>\n",
       "      <td>False</td>\n",
       "      <td>False</td>\n",
       "      <td>True</td>\n",
       "      <td>False</td>\n",
       "    </tr>\n",
       "    <tr>\n",
       "      <th>1</th>\n",
       "      <td>False</td>\n",
       "      <td>False</td>\n",
       "      <td>False</td>\n",
       "      <td>True</td>\n",
       "      <td>False</td>\n",
       "    </tr>\n",
       "    <tr>\n",
       "      <th>2</th>\n",
       "      <td>False</td>\n",
       "      <td>False</td>\n",
       "      <td>False</td>\n",
       "      <td>False</td>\n",
       "      <td>True</td>\n",
       "    </tr>\n",
       "    <tr>\n",
       "      <th>3</th>\n",
       "      <td>False</td>\n",
       "      <td>True</td>\n",
       "      <td>False</td>\n",
       "      <td>False</td>\n",
       "      <td>False</td>\n",
       "    </tr>\n",
       "    <tr>\n",
       "      <th>4</th>\n",
       "      <td>False</td>\n",
       "      <td>False</td>\n",
       "      <td>False</td>\n",
       "      <td>True</td>\n",
       "      <td>False</td>\n",
       "    </tr>\n",
       "  </tbody>\n",
       "</table>\n",
       "</div>"
      ]
     },
     "execution_count": 12,
     "metadata": {},
     "output_type": "execute_result"
    }
   ],
   "execution_count": 12
  },
  {
   "cell_type": "markdown",
   "source": [
    "## 2.4.7 Conversión de variables"
   ],
   "metadata": {
    "id": "hiDWORhu0u_m"
   }
  },
  {
   "cell_type": "code",
   "source": [
    "df_OH.dtypes\n",
    "# ELIGE TODAS LAS COLUMNAS DEL TIPO DE DATO QUE NOSOTROS DESEAMOS UTILIZAR, PARA DESPUES CAMBIARLOS Y PODER MANEJAR LOS DATOS, uint8 MANEJA NUMEROS POSITIVOS HACUENDO QUE SE REDUZCA EL NUMERO DE MEMORIA PARA CADA UNO DE LOS VALORES\n",
    "columnas_booleanas = df_OH.select_dtypes(include=['bool']).columns\n",
    "df_OH[columnas_booleanas] = df_OH[columnas_booleanas].astype(np.uint8)"
   ],
   "metadata": {
    "id": "WY524vlB0oZO",
    "ExecuteTime": {
     "end_time": "2025-05-09T01:43:12.505687Z",
     "start_time": "2025-05-09T01:43:12.417990Z"
    }
   },
   "outputs": [],
   "execution_count": 13
  },
  {
   "cell_type": "markdown",
   "source": [
    "## 2.4.8 División de los datos en entrenamiento y prueba"
   ],
   "metadata": {
    "id": "vU8DOS391JD-"
   }
  },
  {
   "cell_type": "code",
   "source": [
    "from sklearn.model_selection import train_test_split\n",
    "\n",
    "# Separar características y variable objetivo\n",
    "X = df_OH.drop(columns=['isFraud'])\n",
    "y = df_OH['isFraud']\n",
    "\n",
    "\n",
    "# Dividir en conjunto de entrenamiento (90%) y prueba (10%)\n",
    "# con estratificación: AYUDA A QUE LOS DATOS DE ENTRENAMIENTO SEAN VARIADOS SIN SOBRE ENTRENARSE, QUE LO HAGA EN PROPORCION DE LOS DATOS DE CADA CONJUNTO,\n",
    "X_train, X_test, y_train, y_test = train_test_split(X, y, test_size=0.1,)"
   ],
   "metadata": {
    "id": "MVy2WGIK1JZO",
    "ExecuteTime": {
     "end_time": "2025-05-09T01:43:15.487Z",
     "start_time": "2025-05-09T01:43:12.880758Z"
    }
   },
   "outputs": [],
   "execution_count": 14
  },
  {
   "cell_type": "code",
   "source": [
    "# COMPROBACION DE LA ESTRATIFICACION\n",
    "\n",
    "\n",
    "# Ver la relación entre fraudes y NO fraudes para el conjunto de prueba\n",
    "cant_fraudes_test = sum(y_test)\n",
    "cant_NO_fraudes_test = len(y_test)-sum(y_test)\n",
    "proporcion_test = sum(y_test)/(len(y_test)-sum(y_test))\n",
    "print(f\"Cantidad de fraudes en el conjunto de prueba: \\\n",
    "{cant_fraudes_test}\")\n",
    "print(f\"Cantidad de NO fraudes en el conjunto de prueba: \\\n",
    "{cant_NO_fraudes_test}\")\n",
    "print(f\"Proporción (fraudes)/(NO fraudes) en el conjunto de prueba: \\\n",
    "{proporcion_test:.6f}\")\n",
    "# Ver la relación entre fraudes y NO fraudes para el\n",
    "# conjunto de entrenamiento\n",
    "cant_fraudes_train = sum(y_train)\n",
    "cant_NO_fraudes_train = len(y_train)-sum(y_train)\n",
    "\n",
    "# SUMA-CANTIDAD DE LA PROPORCION ENTRE FRAUDES Y NO FRAUDES EN EL CONJUNTO COMPLETO,\n",
    "proporcion_train = sum(y_train)/(len(y_train)-sum(y_train))\n",
    "\n",
    "\n",
    "print(f\"Cantidad de fraudes en el conjunto de entrenamiento: \\\n",
    "{cant_fraudes_train}\")\n",
    "print(f\"Cantidad de NO fraudes en el conjunto de entrenamiento: \\\n",
    "{cant_NO_fraudes_train}\")\n",
    "print(f\"Proporción (fraudes)/(NO fraudes) en el conjunto de entrenamiento: \\\n",
    "{proporcion_train:.6f}\")\n",
    "\n",
    "\n",
    "#"
   ],
   "metadata": {
    "collapsed": true,
    "id": "rySL4lND16ku",
    "ExecuteTime": {
     "end_time": "2025-05-09T01:43:17.116593Z",
     "start_time": "2025-05-09T01:43:15.529551Z"
    }
   },
   "outputs": [
    {
     "name": "stdout",
     "output_type": "stream",
     "text": [
      "Cantidad de fraudes en el conjunto de prueba: 847\n",
      "Cantidad de NO fraudes en el conjunto de prueba: 625627\n",
      "Proporción (fraudes)/(NO fraudes) en el conjunto de prueba: 0.001354\n",
      "Cantidad de fraudes en el conjunto de entrenamiento: 7305\n",
      "Cantidad de NO fraudes en el conjunto de entrenamiento: 5630961\n",
      "Proporción (fraudes)/(NO fraudes) en el conjunto de entrenamiento: 0.001297\n"
     ]
    }
   ],
   "execution_count": 15
  },
  {
   "cell_type": "markdown",
   "source": [
    "## 2.4.9 Estandarizar variables numéricas"
   ],
   "metadata": {
    "id": "gzhPa9R12Zt_"
   }
  },
  {
   "cell_type": "code",
   "source": [
    "from sklearn.preprocessing import StandardScaler\n",
    "# Identificar columnas numéricas\n",
    "columnas_numericas = X_train.select_dtypes(include=['float64']).columns\n",
    "columnas_categoricas = X_train.select_dtypes(exclude=['float64']).columns\n",
    "# Ajustar el escalador solo en las columnas numéricas\n",
    "# El scaler se ajusta sólo con el conjunto de entrenamiento\n",
    "scaler = StandardScaler()\n",
    "# Solo transformar numéricas\n",
    "X_train_numericas = scaler.fit_transform(X_train[columnas_numericas])\n",
    "# Aplicar el mismo escalado en prueba\n",
    "X_test_numericas = scaler.transform(X_test[columnas_numericas])\n",
    "\n",
    "#LA MEDIA Y LA ESTANDAR, DE LA ESTANDARIZACION: RESTA LA MEDIA Y LO DIVIDE ENTRE LA DESVIACION ESTANDAR. SE MUESTRA UN ARRAY"
   ],
   "metadata": {
    "id": "qCzgel2R2bp2",
    "ExecuteTime": {
     "end_time": "2025-05-09T01:43:18.922156Z",
     "start_time": "2025-05-09T01:43:17.630501Z"
    }
   },
   "outputs": [],
   "execution_count": 16
  },
  {
   "cell_type": "code",
   "source": [
    "# Convertir de nuevo a DataFrame incluyendo las categóricas sin modificar\n",
    "X_train_scaled = pd.DataFrame(X_train_numericas,\n",
    "\n",
    "columns=columnas_numericas,\n",
    "index=X_train.index)\n",
    "X_test_scaled = pd.DataFrame(X_test_numericas,\n",
    "\n",
    "columns=columnas_numericas,\n",
    "index=X_test.index)\n",
    "# Añadir columnas categóricas de nuevo sin modificar\n",
    "X_train_scaled[columnas_categoricas] = X_train[columnas_categoricas].values\n",
    "X_test_scaled[columnas_categoricas] = X_test[columnas_categoricas].values\n",
    "\n",
    "X_train_scaled"
   ],
   "metadata": {
    "collapsed": true,
    "id": "5f6vRl_z3cPG",
    "ExecuteTime": {
     "end_time": "2025-05-09T01:43:19.849719Z",
     "start_time": "2025-05-09T01:43:19.188811Z"
    }
   },
   "outputs": [
    {
     "data": {
      "text/plain": [
       "           amount  oldbalanceOrg  newbalanceOrig  oldbalanceDest  \\\n",
       "858797   0.332017      -0.285575       -0.159018        0.332614   \n",
       "2500201 -0.243111      -0.274000       -0.289713       -0.325641   \n",
       "3568122 -0.277489      -0.291062       -0.294843       -0.325641   \n",
       "4143608  0.087758      -0.163912       -0.249252       -0.218330   \n",
       "2562603 -0.291441      -0.291062       -0.294843       -0.325641   \n",
       "...           ...            ...             ...             ...   \n",
       "5010712  0.222630      -0.266323       -0.294843       -0.325641   \n",
       "3569158  0.299516      -0.259744       -0.294843       -0.209873   \n",
       "3730179 -0.037578       1.794308        1.819094       -0.055968   \n",
       "997415  -0.298966      -0.283098       -0.287173       -0.325641   \n",
       "3576876 -0.214968      -0.291062       -0.294843       -0.291699   \n",
       "\n",
       "         newbalanceDest  isFlaggedFraud  amount_outlier  \\\n",
       "858797         0.189668               0               0   \n",
       "2500201       -0.335227               0               0   \n",
       "3568122       -0.335227               0               0   \n",
       "4143608       -0.172418               0               0   \n",
       "2562603       -0.335227               0               0   \n",
       "...                 ...             ...             ...   \n",
       "5010712       -0.249581               0               0   \n",
       "3569158       -0.129887               0               0   \n",
       "3730179       -0.128760               0               0   \n",
       "997415        -0.335227               0               0   \n",
       "3576876       -0.289904               0               0   \n",
       "\n",
       "         oldbalanceOrg_outlier  type_CASH_IN  type_CASH_OUT  type_DEBIT  \\\n",
       "858797                       0             1              0           0   \n",
       "2500201                      0             0              0           0   \n",
       "3568122                      0             0              0           0   \n",
       "4143608                      1             0              1           0   \n",
       "2562603                      0             0              0           0   \n",
       "...                        ...           ...            ...         ...   \n",
       "5010712                      0             0              1           0   \n",
       "3569158                      0             0              1           0   \n",
       "3730179                      1             1              0           0   \n",
       "997415                       0             0              0           0   \n",
       "3576876                      0             0              1           0   \n",
       "\n",
       "         type_PAYMENT  type_TRANSFER  \n",
       "858797              0              0  \n",
       "2500201             1              0  \n",
       "3568122             1              0  \n",
       "4143608             0              0  \n",
       "2562603             1              0  \n",
       "...               ...            ...  \n",
       "5010712             0              0  \n",
       "3569158             0              0  \n",
       "3730179             0              0  \n",
       "997415              1              0  \n",
       "3576876             0              0  \n",
       "\n",
       "[5638266 rows x 13 columns]"
      ],
      "text/html": [
       "<div>\n",
       "<style scoped>\n",
       "    .dataframe tbody tr th:only-of-type {\n",
       "        vertical-align: middle;\n",
       "    }\n",
       "\n",
       "    .dataframe tbody tr th {\n",
       "        vertical-align: top;\n",
       "    }\n",
       "\n",
       "    .dataframe thead th {\n",
       "        text-align: right;\n",
       "    }\n",
       "</style>\n",
       "<table border=\"1\" class=\"dataframe\">\n",
       "  <thead>\n",
       "    <tr style=\"text-align: right;\">\n",
       "      <th></th>\n",
       "      <th>amount</th>\n",
       "      <th>oldbalanceOrg</th>\n",
       "      <th>newbalanceOrig</th>\n",
       "      <th>oldbalanceDest</th>\n",
       "      <th>newbalanceDest</th>\n",
       "      <th>isFlaggedFraud</th>\n",
       "      <th>amount_outlier</th>\n",
       "      <th>oldbalanceOrg_outlier</th>\n",
       "      <th>type_CASH_IN</th>\n",
       "      <th>type_CASH_OUT</th>\n",
       "      <th>type_DEBIT</th>\n",
       "      <th>type_PAYMENT</th>\n",
       "      <th>type_TRANSFER</th>\n",
       "    </tr>\n",
       "  </thead>\n",
       "  <tbody>\n",
       "    <tr>\n",
       "      <th>858797</th>\n",
       "      <td>0.332017</td>\n",
       "      <td>-0.285575</td>\n",
       "      <td>-0.159018</td>\n",
       "      <td>0.332614</td>\n",
       "      <td>0.189668</td>\n",
       "      <td>0</td>\n",
       "      <td>0</td>\n",
       "      <td>0</td>\n",
       "      <td>1</td>\n",
       "      <td>0</td>\n",
       "      <td>0</td>\n",
       "      <td>0</td>\n",
       "      <td>0</td>\n",
       "    </tr>\n",
       "    <tr>\n",
       "      <th>2500201</th>\n",
       "      <td>-0.243111</td>\n",
       "      <td>-0.274000</td>\n",
       "      <td>-0.289713</td>\n",
       "      <td>-0.325641</td>\n",
       "      <td>-0.335227</td>\n",
       "      <td>0</td>\n",
       "      <td>0</td>\n",
       "      <td>0</td>\n",
       "      <td>0</td>\n",
       "      <td>0</td>\n",
       "      <td>0</td>\n",
       "      <td>1</td>\n",
       "      <td>0</td>\n",
       "    </tr>\n",
       "    <tr>\n",
       "      <th>3568122</th>\n",
       "      <td>-0.277489</td>\n",
       "      <td>-0.291062</td>\n",
       "      <td>-0.294843</td>\n",
       "      <td>-0.325641</td>\n",
       "      <td>-0.335227</td>\n",
       "      <td>0</td>\n",
       "      <td>0</td>\n",
       "      <td>0</td>\n",
       "      <td>0</td>\n",
       "      <td>0</td>\n",
       "      <td>0</td>\n",
       "      <td>1</td>\n",
       "      <td>0</td>\n",
       "    </tr>\n",
       "    <tr>\n",
       "      <th>4143608</th>\n",
       "      <td>0.087758</td>\n",
       "      <td>-0.163912</td>\n",
       "      <td>-0.249252</td>\n",
       "      <td>-0.218330</td>\n",
       "      <td>-0.172418</td>\n",
       "      <td>0</td>\n",
       "      <td>0</td>\n",
       "      <td>1</td>\n",
       "      <td>0</td>\n",
       "      <td>1</td>\n",
       "      <td>0</td>\n",
       "      <td>0</td>\n",
       "      <td>0</td>\n",
       "    </tr>\n",
       "    <tr>\n",
       "      <th>2562603</th>\n",
       "      <td>-0.291441</td>\n",
       "      <td>-0.291062</td>\n",
       "      <td>-0.294843</td>\n",
       "      <td>-0.325641</td>\n",
       "      <td>-0.335227</td>\n",
       "      <td>0</td>\n",
       "      <td>0</td>\n",
       "      <td>0</td>\n",
       "      <td>0</td>\n",
       "      <td>0</td>\n",
       "      <td>0</td>\n",
       "      <td>1</td>\n",
       "      <td>0</td>\n",
       "    </tr>\n",
       "    <tr>\n",
       "      <th>...</th>\n",
       "      <td>...</td>\n",
       "      <td>...</td>\n",
       "      <td>...</td>\n",
       "      <td>...</td>\n",
       "      <td>...</td>\n",
       "      <td>...</td>\n",
       "      <td>...</td>\n",
       "      <td>...</td>\n",
       "      <td>...</td>\n",
       "      <td>...</td>\n",
       "      <td>...</td>\n",
       "      <td>...</td>\n",
       "      <td>...</td>\n",
       "    </tr>\n",
       "    <tr>\n",
       "      <th>5010712</th>\n",
       "      <td>0.222630</td>\n",
       "      <td>-0.266323</td>\n",
       "      <td>-0.294843</td>\n",
       "      <td>-0.325641</td>\n",
       "      <td>-0.249581</td>\n",
       "      <td>0</td>\n",
       "      <td>0</td>\n",
       "      <td>0</td>\n",
       "      <td>0</td>\n",
       "      <td>1</td>\n",
       "      <td>0</td>\n",
       "      <td>0</td>\n",
       "      <td>0</td>\n",
       "    </tr>\n",
       "    <tr>\n",
       "      <th>3569158</th>\n",
       "      <td>0.299516</td>\n",
       "      <td>-0.259744</td>\n",
       "      <td>-0.294843</td>\n",
       "      <td>-0.209873</td>\n",
       "      <td>-0.129887</td>\n",
       "      <td>0</td>\n",
       "      <td>0</td>\n",
       "      <td>0</td>\n",
       "      <td>0</td>\n",
       "      <td>1</td>\n",
       "      <td>0</td>\n",
       "      <td>0</td>\n",
       "      <td>0</td>\n",
       "    </tr>\n",
       "    <tr>\n",
       "      <th>3730179</th>\n",
       "      <td>-0.037578</td>\n",
       "      <td>1.794308</td>\n",
       "      <td>1.819094</td>\n",
       "      <td>-0.055968</td>\n",
       "      <td>-0.128760</td>\n",
       "      <td>0</td>\n",
       "      <td>0</td>\n",
       "      <td>1</td>\n",
       "      <td>1</td>\n",
       "      <td>0</td>\n",
       "      <td>0</td>\n",
       "      <td>0</td>\n",
       "      <td>0</td>\n",
       "    </tr>\n",
       "    <tr>\n",
       "      <th>997415</th>\n",
       "      <td>-0.298966</td>\n",
       "      <td>-0.283098</td>\n",
       "      <td>-0.287173</td>\n",
       "      <td>-0.325641</td>\n",
       "      <td>-0.335227</td>\n",
       "      <td>0</td>\n",
       "      <td>0</td>\n",
       "      <td>0</td>\n",
       "      <td>0</td>\n",
       "      <td>0</td>\n",
       "      <td>0</td>\n",
       "      <td>1</td>\n",
       "      <td>0</td>\n",
       "    </tr>\n",
       "    <tr>\n",
       "      <th>3576876</th>\n",
       "      <td>-0.214968</td>\n",
       "      <td>-0.291062</td>\n",
       "      <td>-0.294843</td>\n",
       "      <td>-0.291699</td>\n",
       "      <td>-0.289904</td>\n",
       "      <td>0</td>\n",
       "      <td>0</td>\n",
       "      <td>0</td>\n",
       "      <td>0</td>\n",
       "      <td>1</td>\n",
       "      <td>0</td>\n",
       "      <td>0</td>\n",
       "      <td>0</td>\n",
       "    </tr>\n",
       "  </tbody>\n",
       "</table>\n",
       "<p>5638266 rows × 13 columns</p>\n",
       "</div>"
      ]
     },
     "execution_count": 17,
     "metadata": {},
     "output_type": "execute_result"
    }
   ],
   "execution_count": 17
  },
  {
   "cell_type": "markdown",
   "source": [
    "## 2.4.10 Balanceo de clases"
   ],
   "metadata": {
    "id": "Nz2ti_zE27xe"
   }
  },
  {
   "cell_type": "code",
   "source": [
    "from imblearn.over_sampling import SMOTE\n",
    "# Aplicar SMOTE en el conjunto de entrenamiento\n",
    "# (sin afectar el conjunto de prueba)\n",
    "smote = SMOTE(sampling_strategy=0.3, random_state=42) # Genera más de fraudes\n",
    "X_train_resampled, y_train_resampled = smote.fit_resample(X_train, y_train)\n",
    "\n",
    "\n",
    "# Verificar la nueva distribución de clases después de SMOTE\n",
    "print(\"Distribución de clases después de SMOTE en entrenamiento:\")\n",
    "print(y_train_resampled.value_counts())\n",
    "\n",
    "# Ver la relación entre fraudes y NO fraudes para el conjunto de pruebA\n",
    "cant_fraudes_test = y_train_resampled.value_counts()[1]\n",
    "cant_NO_fraudes_test = y_train_resampled.value_counts()[0]\n",
    "proporcion_test = sum(y_test)/(len(y_test)-sum(y_test))\n",
    "print(f\"Cantidad de fraudes en el conjunto de prueba: \\\n",
    "{cant_fraudes_test}\")\n",
    "print(f\"Cantidad de NO fraudes en el conjunto de prueba: \\\n",
    "{cant_NO_fraudes_test}\")\n",
    "print(f\"Proporción (fraudes)/(NO fraudes) después de usar SMOTE: \\\n",
    "{cant_fraudes_test/cant_NO_fraudes_test:.4f}\")\n",
    "\n",
    "# PASA MINORISTA QUE TENGA EL 30% DE LOS DATOS DE L MAYORIA PARA TENER UN EQUILIBRIO\n",
    "# AUMENTA LA CANTIDAD DE DATOS EN FRAUDE PARA COMPENSAR UN BALANCEO\n",
    "# ANADIR MAS PESO A UNA VARIABLE QUE A OTRAS\n",
    "\n",
    "# INDICA LA CANTIDAD MINIMA A LA CANTIDAD MAYORITARIA\n",
    "# INDICA QUE LA PROPORCION DEL MODELO DE LA FUNCION SMOKE QUE HIZO BIEN"
   ],
   "metadata": {
    "collapsed": true,
    "id": "__-dmF6Y29k2",
    "ExecuteTime": {
     "end_time": "2025-05-09T01:43:26.403875Z",
     "start_time": "2025-05-09T01:43:19.976267Z"
    }
   },
   "outputs": [
    {
     "name": "stdout",
     "output_type": "stream",
     "text": [
      "Distribución de clases después de SMOTE en entrenamiento:\n",
      "isFraud\n",
      "0    5630961\n",
      "1    1689288\n",
      "Name: count, dtype: int64\n",
      "Cantidad de fraudes en el conjunto de prueba: 1689288\n",
      "Cantidad de NO fraudes en el conjunto de prueba: 5630961\n",
      "Proporción (fraudes)/(NO fraudes) después de usar SMOTE: 0.3000\n"
     ]
    }
   ],
   "execution_count": 18
  },
  {
   "metadata": {},
   "cell_type": "markdown",
   "source": "## 3 Random Forest"
  },
  {
   "metadata": {},
   "cell_type": "markdown",
   "source": "### Combinacion 1"
  },
  {
   "metadata": {
    "ExecuteTime": {
     "end_time": "2025-05-08T07:07:56.111861Z",
     "start_time": "2025-05-08T06:56:33.607175Z"
    }
   },
   "cell_type": "code",
   "source": [
    "from sklearn.ensemble import RandomForestClassifier\n",
    "from sklearn.metrics import classification_report\n",
    "from sklearn.model_selection import train_test_split\n",
    "\n",
    "# Dividir los datos en entrenamiento y prueba\n",
    "X_train, X_test, y_train, y_test = train_test_split(X, y, test_size=0.2, random_state=42)\n",
    "\n",
    "# Hiperparámetros del modelo\n",
    "params = {'n_estimators': 100, 'max_depth': 10, 'min_samples_split': 2}\n",
    "\n",
    "# Crear y entrenar el modelo\n",
    "model = RandomForestClassifier(**params, random_state=42)\n",
    "model.fit(X_train, y_train)\n",
    "\n",
    "# Realizar predicciones\n",
    "y_pred = model.predict(X_test)\n",
    "\n",
    "# Evaluar el modelo\n",
    "report = classification_report(y_test, y_pred, output_dict=True)\n",
    "\n",
    "# Mostrar resultados\n",
    "print(f\"Modelo 1 - Hiperparámetros: {params}\")\n",
    "print(f\"Precision: {report['1']['precision']:.4f}\")\n",
    "print(f\"Recall: {report['1']['recall']:.4f}\")\n",
    "print(f\"F1-score: {report['1']['f1-score']:.4f}\")#%% md\n",
    "## 2.5 Random Forest"
   ],
   "outputs": [
    {
     "name": "stdout",
     "output_type": "stream",
     "text": [
      "Modelo 1 - Hiperparámetros: {'n_estimators': 100, 'max_depth': 10, 'min_samples_split': 2}\n",
      "Precision: 0.9878\n",
      "Recall: 0.7318\n",
      "F1-score: 0.8407\n"
     ]
    }
   ],
   "execution_count": 20
  },
  {
   "metadata": {},
   "cell_type": "markdown",
   "source": "### Combinacion 2"
  },
  {
   "metadata": {
    "ExecuteTime": {
     "end_time": "2025-05-08T07:12:51.136702Z",
     "start_time": "2025-05-08T07:07:56.194075Z"
    }
   },
   "cell_type": "code",
   "source": [
    "from sklearn.ensemble import RandomForestClassifier\n",
    "from sklearn.metrics import classification_report\n",
    "from sklearn.model_selection import train_test_split\n",
    "# Hiperparámetros del modelo\n",
    "params = {'n_estimators': 50, 'max_depth': 9, 'min_samples_split': 2}\n",
    "\n",
    "# Crear y entrenar el modelo\n",
    "model = RandomForestClassifier(**params, random_state=42)\n",
    "model.fit(X_train, y_train)\n",
    "\n",
    "# Realizar predicciones\n",
    "y_pred = model.predict(X_test)\n",
    "\n",
    "# Evaluar el modelo\n",
    "report = classification_report(y_test, y_pred, output_dict=True)\n",
    "\n",
    "# Mostrar resultados\n",
    "print(f\"Modelo 2 - Hiperparámetros: {params}\")\n",
    "print(f\"Precision: {report['1']['precision']:.4f}\")\n",
    "print(f\"Recall: {report['1']['recall']:.4f}\")\n",
    "print(f\"F1-score: {report['1']['f1-score']:.4f}\")"
   ],
   "outputs": [
    {
     "name": "stdout",
     "output_type": "stream",
     "text": [
      "Modelo 2 - Hiperparámetros: {'n_estimators': 50, 'max_depth': 9, 'min_samples_split': 2}\n",
      "Precision: 0.9950\n",
      "Recall: 0.7197\n",
      "F1-score: 0.8353\n"
     ]
    }
   ],
   "execution_count": 21
  },
  {
   "metadata": {},
   "cell_type": "markdown",
   "source": "### Combinacion 3"
  },
  {
   "metadata": {
    "ExecuteTime": {
     "end_time": "2025-05-08T07:16:24.797386Z",
     "start_time": "2025-05-08T07:12:51.197294Z"
    }
   },
   "cell_type": "code",
   "source": [
    "# vamos a visualizar el conjunto final:\n",
    "X_train_resampled\n",
    "from sklearn.ensemble import RandomForestClassifier\n",
    "from sklearn.metrics import classification_report\n",
    "from sklearn.model_selection import train_test_split\n",
    "# Hiperparámetros del modelo\n",
    "params = {'n_estimators': 40, 'max_depth': 8, 'min_samples_split': 2}\n",
    "\n",
    "# Crear y entrenar el modelo\n",
    "model = RandomForestClassifier(**params, random_state=42)\n",
    "model.fit(X_train, y_train)\n",
    "\n",
    "# Realizar predicciones\n",
    "y_pred = model.predict(X_test)\n",
    "\n",
    "# Evaluar el modelo\n",
    "report = classification_report(y_test, y_pred, output_dict=True)\n",
    "\n",
    "# Mostrar resultados\n",
    "print(f\"Modelo 3 - Hiperparámetros: {params}\")\n",
    "print(f\"Precision: {report['1']['precision']:.4f}\")\n",
    "print(f\"Recall: {report['1']['recall']:.4f}\")\n",
    "print(f\"F1-score: {report['1']['f1-score']:.4f}\")"
   ],
   "outputs": [
    {
     "name": "stdout",
     "output_type": "stream",
     "text": [
      "Modelo 2 - Hiperparámetros: {'n_estimators': 40, 'max_depth': 8, 'min_samples_split': 2}\n",
      "Precision: 0.9918\n",
      "Recall: 0.7269\n",
      "F1-score: 0.8390\n"
     ]
    }
   ],
   "execution_count": 22
  },
  {
   "metadata": {},
   "cell_type": "markdown",
   "source": "### Combinacion 4"
  },
  {
   "metadata": {
    "ExecuteTime": {
     "end_time": "2025-05-08T07:18:48.790070Z",
     "start_time": "2025-05-08T07:16:24.957180Z"
    }
   },
   "cell_type": "code",
   "source": [
    "from sklearn.ensemble import RandomForestClassifier\n",
    "from sklearn.metrics import classification_report\n",
    "from sklearn.model_selection import train_test_split\n",
    "# Hiperparámetros del modelo\n",
    "params = {'n_estimators': 30, 'max_depth': 7, 'min_samples_split': 2}\n",
    "\n",
    "# Crear y entrenar el modelo\n",
    "model = RandomForestClassifier(**params, random_state=42)\n",
    "model.fit(X_train, y_train)\n",
    "\n",
    "# Realizar predicciones\n",
    "y_pred = model.predict(X_test)\n",
    "\n",
    "# Evaluar el modelo\n",
    "report = classification_report(y_test, y_pred, output_dict=True)\n",
    "\n",
    "# Mostrar resultados\n",
    "print(f\"Modelo 4 - Hiperparámetros: {params}\")\n",
    "print(f\"Precision: {report['1']['precision']:.4f}\")\n",
    "print(f\"Recall: {report['1']['recall']:.4f}\")\n",
    "print(f\"F1-score: {report['1']['f1-score']:.4f}\")"
   ],
   "outputs": [
    {
     "name": "stdout",
     "output_type": "stream",
     "text": [
      "Modelo 2 - Hiperparámetros: {'n_estimators': 30, 'max_depth': 7, 'min_samples_split': 2}\n",
      "Precision: 0.9978\n",
      "Recall: 0.5570\n",
      "F1-score: 0.7149\n"
     ]
    }
   ],
   "execution_count": 23
  },
  {
   "metadata": {},
   "cell_type": "markdown",
   "source": "### Combinacion 5"
  },
  {
   "metadata": {
    "ExecuteTime": {
     "end_time": "2025-05-08T07:20:21.462458Z",
     "start_time": "2025-05-08T07:18:48.875252Z"
    }
   },
   "cell_type": "code",
   "source": [
    "from sklearn.ensemble import RandomForestClassifier\n",
    "from sklearn.metrics import classification_report\n",
    "from sklearn.model_selection import train_test_split\n",
    "# Hiperparámetros del modelo\n",
    "params = {'n_estimators': 20, 'max_depth': 6, 'min_samples_split': 2}\n",
    "\n",
    "# Crear y entrenar el modelo\n",
    "model = RandomForestClassifier(**params, random_state=42)\n",
    "model.fit(X_train, y_train)\n",
    "\n",
    "# Realizar predicciones\n",
    "y_pred = model.predict(X_test)\n",
    "\n",
    "# Evaluar el modelo\n",
    "report = classification_report(y_test, y_pred, output_dict=True)\n",
    "\n",
    "# Mostrar resultados\n",
    "print(f\"Modelo 2 - Hiperparámetros: {params}\")\n",
    "print(f\"Precision: {report['1']['precision']:.4f}\")\n",
    "print(f\"Recall: {report['1']['recall']:.4f}\")\n",
    "print(f\"F1-score: {report['1']['f1-score']:.4f}\")"
   ],
   "outputs": [
    {
     "name": "stdout",
     "output_type": "stream",
     "text": [
      "Modelo 2 - Hiperparámetros: {'n_estimators': 20, 'max_depth': 6, 'min_samples_split': 2}\n",
      "Precision: 0.9975\n",
      "Recall: 0.4888\n",
      "F1-score: 0.6561\n"
     ]
    }
   ],
   "execution_count": 24
  },
  {
   "metadata": {},
   "cell_type": "markdown",
   "source": "## XGBoost"
  },
  {
   "metadata": {},
   "cell_type": "markdown",
   "source": "### Combinacion 1"
  },
  {
   "metadata": {
    "ExecuteTime": {
     "end_time": "2025-05-08T07:21:13.144932Z",
     "start_time": "2025-05-08T07:20:21.520602Z"
    }
   },
   "cell_type": "code",
   "source": [
    "from xgboost import XGBClassifier\n",
    "from sklearn.metrics import classification_report\n",
    "\n",
    "# Hiperparámetros del modelo\n",
    "params = {'n_estimators': 50, 'max_depth': 4, 'learning_rate': 0.1}\n",
    "\n",
    "# Crear y entrenar el modelo\n",
    "model = XGBClassifier(**params, random_state=42, use_label_encoder=False)\n",
    "model.fit(X_train, y_train)\n",
    "\n",
    "# Realizar predicciones\n",
    "y_pred = model.predict(X_test)\n",
    "\n",
    "# Evaluar el modelo\n",
    "report = classification_report(y_test, y_pred, output_dict=True)\n",
    "\n",
    "# Mostrar resultados\n",
    "print(f\"Modelo 2 - Hiperparámetros: {params}\")\n",
    "print(f\"Precision: {report['1']['precision']:.4f}\")\n",
    "print(f\"Recall: {report['1']['recall']:.4f}\")\n",
    "print(f\"F1-score: {report['1']['f1-score']:.4f}\")"
   ],
   "outputs": [
    {
     "name": "stderr",
     "output_type": "stream",
     "text": [
      "C:\\Users\\abelc\\PycharmProjects\\Ciencia De Datos\\.venv\\Lib\\site-packages\\xgboost\\training.py:183: UserWarning: [00:20:23] WARNING: C:\\actions-runner\\_work\\xgboost\\xgboost\\src\\learner.cc:738: \n",
      "Parameters: { \"use_label_encoder\" } are not used.\n",
      "\n",
      "  bst.update(dtrain, iteration=i, fobj=obj)\n"
     ]
    },
    {
     "name": "stdout",
     "output_type": "stream",
     "text": [
      "Modelo 1 - Hiperparámetros: {'n_estimators': 300, 'max_depth': 3, 'learning_rate': 0.1}\n",
      "Precision: 0.9694\n",
      "Recall: 0.7245\n",
      "F1-score: 0.8293\n"
     ]
    }
   ],
   "execution_count": 25
  },
  {
   "metadata": {},
   "cell_type": "markdown",
   "source": "### Combinacion 2"
  },
  {
   "metadata": {
    "ExecuteTime": {
     "end_time": "2025-05-08T07:23:10.121581Z",
     "start_time": "2025-05-08T07:22:55.022842Z"
    }
   },
   "cell_type": "code",
   "source": [
    "from xgboost import XGBClassifier\n",
    "from sklearn.metrics import classification_report\n",
    "\n",
    "# Hiperparámetros del modelo\n",
    "params = {'n_estimators': 100, 'max_depth': 4, 'learning_rate': 0.1}\n",
    "\n",
    "# Crear y entrenar el modelo\n",
    "model = XGBClassifier(**params, random_state=42, use_label_encoder=False)\n",
    "model.fit(X_train, y_train)\n",
    "\n",
    "# Realizar predicciones\n",
    "y_pred = model.predict(X_test)\n",
    "\n",
    "# Evaluar el modelo\n",
    "report = classification_report(y_test, y_pred, output_dict=True)\n",
    "\n",
    "# Mostrar resultados\n",
    "print(f\"Modelo 2 - Hiperparámetros: {params}\")\n",
    "print(f\"Precision: {report['1']['precision']:.4f}\")\n",
    "print(f\"Recall: {report['1']['recall']:.4f}\")\n",
    "print(f\"F1-score: {report['1']['f1-score']:.4f}\")"
   ],
   "outputs": [
    {
     "name": "stderr",
     "output_type": "stream",
     "text": [
      "C:\\Users\\abelc\\PycharmProjects\\Ciencia De Datos\\.venv\\Lib\\site-packages\\xgboost\\training.py:183: UserWarning: [00:22:56] WARNING: C:\\actions-runner\\_work\\xgboost\\xgboost\\src\\learner.cc:738: \n",
      "Parameters: { \"use_label_encoder\" } are not used.\n",
      "\n",
      "  bst.update(dtrain, iteration=i, fobj=obj)\n"
     ]
    },
    {
     "name": "stdout",
     "output_type": "stream",
     "text": [
      "Modelo 2 - Hiperparámetros: {'n_estimators': 100, 'max_depth': 4, 'learning_rate': 0.1}\n",
      "Precision: 0.9728\n",
      "Recall: 0.7336\n",
      "F1-score: 0.8364\n"
     ]
    }
   ],
   "execution_count": 26
  },
  {
   "metadata": {},
   "cell_type": "markdown",
   "source": "### Combinacion 3"
  },
  {
   "metadata": {
    "ExecuteTime": {
     "end_time": "2025-05-08T07:23:20.145841Z",
     "start_time": "2025-05-08T07:23:10.162654Z"
    }
   },
   "cell_type": "code",
   "source": [
    "# Hiperparámetros del modelo\n",
    "params = {'n_estimators': 50, 'max_depth': 5, 'learning_rate': 0.05}\n",
    "\n",
    "# Crear y entrenar el modelo\n",
    "model = XGBClassifier(**params, random_state=42, use_label_encoder=False)\n",
    "model.fit(X_train, y_train)\n",
    "\n",
    "# Realizar predicciones\n",
    "y_pred = model.predict(X_test)\n",
    "\n",
    "# Evaluar el modelo\n",
    "report = classification_report(y_test, y_pred, output_dict=True)\n",
    "\n",
    "# Mostrar resultados\n",
    "print(f\"Modelo 3 - Hiperparámetros: {params}\")\n",
    "print(f\"Precision: {report['1']['precision']:.4f}\")\n",
    "print(f\"Recall: {report['1']['recall']:.4f}\")\n",
    "print(f\"F1-score: {report['1']['f1-score']:.4f}\")"
   ],
   "outputs": [
    {
     "name": "stderr",
     "output_type": "stream",
     "text": [
      "C:\\Users\\abelc\\PycharmProjects\\Ciencia De Datos\\.venv\\Lib\\site-packages\\xgboost\\training.py:183: UserWarning: [00:23:11] WARNING: C:\\actions-runner\\_work\\xgboost\\xgboost\\src\\learner.cc:738: \n",
      "Parameters: { \"use_label_encoder\" } are not used.\n",
      "\n",
      "  bst.update(dtrain, iteration=i, fobj=obj)\n"
     ]
    },
    {
     "name": "stdout",
     "output_type": "stream",
     "text": [
      "Modelo 3 - Hiperparámetros: {'n_estimators': 50, 'max_depth': 5, 'learning_rate': 0.05}\n",
      "Precision: 0.9614\n",
      "Recall: 0.7197\n",
      "F1-score: 0.8232\n"
     ]
    }
   ],
   "execution_count": 27
  },
  {
   "metadata": {},
   "cell_type": "markdown",
   "source": "### Combinacion 4"
  },
  {
   "metadata": {
    "ExecuteTime": {
     "end_time": "2025-05-08T07:23:28.331123Z",
     "start_time": "2025-05-08T07:23:20.214629Z"
    }
   },
   "cell_type": "code",
   "source": [
    "# Hiperparámetros del modelo\n",
    "params = {'n_estimators': 30, 'max_depth': 6, 'learning_rate': 0.03}\n",
    "\n",
    "# Crear y entrenar el modelo\n",
    "model = XGBClassifier(**params, random_state=42, use_label_encoder=False)\n",
    "model.fit(X_train, y_train)\n",
    "\n",
    "# Realizar predicciones\n",
    "y_pred = model.predict(X_test)\n",
    "\n",
    "# Evaluar el modelo\n",
    "report = classification_report(y_test, y_pred, output_dict=True)\n",
    "\n",
    "# Mostrar resultados\n",
    "print(f\"Modelo 4 - Hiperparámetros: {params}\")\n",
    "print(f\"Precision: {report['1']['precision']:.4f}\")\n",
    "print(f\"Recall: {report['1']['recall']:.4f}\")\n",
    "print(f\"F1-score: {report['1']['f1-score']:.4f}\")"
   ],
   "outputs": [
    {
     "name": "stderr",
     "output_type": "stream",
     "text": [
      "C:\\Users\\abelc\\PycharmProjects\\Ciencia De Datos\\.venv\\Lib\\site-packages\\xgboost\\training.py:183: UserWarning: [00:23:22] WARNING: C:\\actions-runner\\_work\\xgboost\\xgboost\\src\\learner.cc:738: \n",
      "Parameters: { \"use_label_encoder\" } are not used.\n",
      "\n",
      "  bst.update(dtrain, iteration=i, fobj=obj)\n"
     ]
    },
    {
     "name": "stdout",
     "output_type": "stream",
     "text": [
      "Modelo 4 - Hiperparámetros: {'n_estimators': 30, 'max_depth': 6, 'learning_rate': 0.01}\n",
      "Precision: 0.0000\n",
      "Recall: 0.0000\n",
      "F1-score: 0.0000\n"
     ]
    },
    {
     "name": "stderr",
     "output_type": "stream",
     "text": [
      "C:\\Users\\abelc\\PycharmProjects\\Ciencia De Datos\\.venv\\Lib\\site-packages\\sklearn\\metrics\\_classification.py:1565: UndefinedMetricWarning: Precision is ill-defined and being set to 0.0 in labels with no predicted samples. Use `zero_division` parameter to control this behavior.\n",
      "  _warn_prf(average, modifier, f\"{metric.capitalize()} is\", len(result))\n",
      "C:\\Users\\abelc\\PycharmProjects\\Ciencia De Datos\\.venv\\Lib\\site-packages\\sklearn\\metrics\\_classification.py:1565: UndefinedMetricWarning: Precision is ill-defined and being set to 0.0 in labels with no predicted samples. Use `zero_division` parameter to control this behavior.\n",
      "  _warn_prf(average, modifier, f\"{metric.capitalize()} is\", len(result))\n",
      "C:\\Users\\abelc\\PycharmProjects\\Ciencia De Datos\\.venv\\Lib\\site-packages\\sklearn\\metrics\\_classification.py:1565: UndefinedMetricWarning: Precision is ill-defined and being set to 0.0 in labels with no predicted samples. Use `zero_division` parameter to control this behavior.\n",
      "  _warn_prf(average, modifier, f\"{metric.capitalize()} is\", len(result))\n"
     ]
    }
   ],
   "execution_count": 28
  },
  {
   "metadata": {},
   "cell_type": "markdown",
   "source": "### Combinacion 5"
  },
  {
   "metadata": {
    "ExecuteTime": {
     "end_time": "2025-05-08T07:23:35.413526Z",
     "start_time": "2025-05-08T07:23:28.384507Z"
    }
   },
   "cell_type": "code",
   "source": [
    "# Hiperparámetros del modelo\n",
    "params = {'n_estimators': 20, 'max_depth': 7, 'learning_rate': 0.2}\n",
    "\n",
    "# Crear y entrenar el modelo\n",
    "model = XGBClassifier(**params, random_state=42, use_label_encoder=False)\n",
    "model.fit(X_train, y_train)\n",
    "\n",
    "# Realizar predicciones\n",
    "y_pred = model.predict(X_test)\n",
    "\n",
    "# Evaluar el modelo\n",
    "report = classification_report(y_test, y_pred, output_dict=True)\n",
    "\n",
    "# Mostrar resultados\n",
    "print(f\"Modelo 5 - Hiperparámetros: {params}\")\n",
    "print(f\"Precision: {report['1']['precision']:.4f}\")\n",
    "print(f\"Recall: {report['1']['recall']:.4f}\")\n",
    "print(f\"F1-score: {report['1']['f1-score']:.4f}\")"
   ],
   "outputs": [
    {
     "name": "stderr",
     "output_type": "stream",
     "text": [
      "C:\\Users\\abelc\\PycharmProjects\\Ciencia De Datos\\.venv\\Lib\\site-packages\\xgboost\\training.py:183: UserWarning: [00:23:30] WARNING: C:\\actions-runner\\_work\\xgboost\\xgboost\\src\\learner.cc:738: \n",
      "Parameters: { \"use_label_encoder\" } are not used.\n",
      "\n",
      "  bst.update(dtrain, iteration=i, fobj=obj)\n"
     ]
    },
    {
     "name": "stdout",
     "output_type": "stream",
     "text": [
      "Modelo 5 - Hiperparámetros: {'n_estimators': 20, 'max_depth': 7, 'learning_rate': 0.2}\n",
      "Precision: 0.9398\n",
      "Recall: 0.7245\n",
      "F1-score: 0.8182\n"
     ]
    }
   ],
   "execution_count": 29
  },
  {
   "metadata": {},
   "cell_type": "markdown",
   "source": "## ANN"
  },
  {
   "metadata": {},
   "cell_type": "markdown",
   "source": "### Combinacion 1"
  },
  {
   "metadata": {
    "ExecuteTime": {
     "end_time": "2025-05-09T02:19:38.808434Z",
     "start_time": "2025-05-09T02:17:48.822581Z"
    }
   },
   "cell_type": "code",
   "source": [
    "from keras.models import Sequential\n",
    "from keras.layers import Dense\n",
    "from sklearn.metrics import classification_report\n",
    "\n",
    "# Crear el modelo\n",
    "model = Sequential()\n",
    "model.add(Dense(32, input_dim=X_train.shape[1], activation='relu'))\n",
    "model.add(Dense(16, activation='relu'))\n",
    "model.add(Dense(1, activation='sigmoid'))\n",
    "\n",
    "# Compilar el modelo\n",
    "model.compile(optimizer='adam', loss='binary_crossentropy', metrics=['accuracy'])\n",
    "\n",
    "# Entrenar el modelo\n",
    "model.fit(X_train, y_train, epochs=5, batch_size=512, verbose=1)\n",
    "\n",
    "# Evaluar el modelo\n",
    "y_pred = (model.predict(X_test) > 0.5).astype(int)\n",
    "print(classification_report(y_test, y_pred))"
   ],
   "outputs": [
    {
     "name": "stderr",
     "output_type": "stream",
     "text": [
      "C:\\Users\\abelc\\PycharmProjects\\Ciencia De Datos\\.venv\\Lib\\site-packages\\keras\\src\\layers\\core\\dense.py:87: UserWarning: Do not pass an `input_shape`/`input_dim` argument to a layer. When using Sequential models, prefer using an `Input(shape)` object as the first layer in the model instead.\n",
      "  super().__init__(activity_regularizer=activity_regularizer, **kwargs)\n"
     ]
    },
    {
     "name": "stdout",
     "output_type": "stream",
     "text": [
      "Epoch 1/5\n",
      "\u001B[1m11013/11013\u001B[0m \u001B[32m━━━━━━━━━━━━━━━━━━━━\u001B[0m\u001B[37m\u001B[0m \u001B[1m19s\u001B[0m 2ms/step - accuracy: 0.9812 - loss: 631.9865\n",
      "Epoch 2/5\n",
      "\u001B[1m11013/11013\u001B[0m \u001B[32m━━━━━━━━━━━━━━━━━━━━\u001B[0m\u001B[37m\u001B[0m \u001B[1m19s\u001B[0m 2ms/step - accuracy: 0.9867 - loss: 9.2543\n",
      "Epoch 3/5\n",
      "\u001B[1m11013/11013\u001B[0m \u001B[32m━━━━━━━━━━━━━━━━━━━━\u001B[0m\u001B[37m\u001B[0m \u001B[1m20s\u001B[0m 2ms/step - accuracy: 0.9987 - loss: 0.0217\n",
      "Epoch 4/5\n",
      "\u001B[1m11013/11013\u001B[0m \u001B[32m━━━━━━━━━━━━━━━━━━━━\u001B[0m\u001B[37m\u001B[0m \u001B[1m19s\u001B[0m 2ms/step - accuracy: 0.9987 - loss: 0.0245\n",
      "Epoch 5/5\n",
      "\u001B[1m11013/11013\u001B[0m \u001B[32m━━━━━━━━━━━━━━━━━━━━\u001B[0m\u001B[37m\u001B[0m \u001B[1m18s\u001B[0m 2ms/step - accuracy: 0.9987 - loss: 0.0300\n",
      "\u001B[1m19578/19578\u001B[0m \u001B[32m━━━━━━━━━━━━━━━━━━━━\u001B[0m\u001B[37m\u001B[0m \u001B[1m11s\u001B[0m 543us/step\n",
      "              precision    recall  f1-score   support\n",
      "\n",
      "           0       1.00      1.00      1.00    625627\n",
      "           1       0.00      0.00      0.00       847\n",
      "\n",
      "    accuracy                           1.00    626474\n",
      "   macro avg       0.50      0.50      0.50    626474\n",
      "weighted avg       1.00      1.00      1.00    626474\n",
      "\n"
     ]
    },
    {
     "name": "stderr",
     "output_type": "stream",
     "text": [
      "C:\\Users\\abelc\\PycharmProjects\\Ciencia De Datos\\.venv\\Lib\\site-packages\\sklearn\\metrics\\_classification.py:1565: UndefinedMetricWarning: Precision is ill-defined and being set to 0.0 in labels with no predicted samples. Use `zero_division` parameter to control this behavior.\n",
      "  _warn_prf(average, modifier, f\"{metric.capitalize()} is\", len(result))\n",
      "C:\\Users\\abelc\\PycharmProjects\\Ciencia De Datos\\.venv\\Lib\\site-packages\\sklearn\\metrics\\_classification.py:1565: UndefinedMetricWarning: Precision is ill-defined and being set to 0.0 in labels with no predicted samples. Use `zero_division` parameter to control this behavior.\n",
      "  _warn_prf(average, modifier, f\"{metric.capitalize()} is\", len(result))\n",
      "C:\\Users\\abelc\\PycharmProjects\\Ciencia De Datos\\.venv\\Lib\\site-packages\\sklearn\\metrics\\_classification.py:1565: UndefinedMetricWarning: Precision is ill-defined and being set to 0.0 in labels with no predicted samples. Use `zero_division` parameter to control this behavior.\n",
      "  _warn_prf(average, modifier, f\"{metric.capitalize()} is\", len(result))\n"
     ]
    }
   ],
   "execution_count": 24
  },
  {
   "metadata": {},
   "cell_type": "markdown",
   "source": "### Combinacion 2"
  },
  {
   "metadata": {
    "ExecuteTime": {
     "end_time": "2025-05-09T02:24:32.293393Z",
     "start_time": "2025-05-09T02:19:59.727724Z"
    }
   },
   "cell_type": "code",
   "source": [
    "model = Sequential()\n",
    "model.add(Dense(64, input_dim=X_train.shape[1], activation='relu'))\n",
    "model.add(Dense(32, activation='relu'))\n",
    "model.add(Dense(1, activation='sigmoid'))\n",
    "\n",
    "model.compile(optimizer='adam', loss='binary_crossentropy', metrics=['accuracy'])\n",
    "model.fit(X_train, y_train, epochs=10, batch_size=512, verbose=1)\n",
    "\n",
    "y_pred = (model.predict(X_test) > 0.5).astype(int)\n",
    "print(classification_report(y_test, y_pred))"
   ],
   "outputs": [
    {
     "name": "stderr",
     "output_type": "stream",
     "text": [
      "C:\\Users\\abelc\\PycharmProjects\\Ciencia De Datos\\.venv\\Lib\\site-packages\\keras\\src\\layers\\core\\dense.py:87: UserWarning: Do not pass an `input_shape`/`input_dim` argument to a layer. When using Sequential models, prefer using an `Input(shape)` object as the first layer in the model instead.\n",
      "  super().__init__(activity_regularizer=activity_regularizer, **kwargs)\n"
     ]
    },
    {
     "name": "stdout",
     "output_type": "stream",
     "text": [
      "Epoch 1/10\n",
      "\u001B[1m11013/11013\u001B[0m \u001B[32m━━━━━━━━━━━━━━━━━━━━\u001B[0m\u001B[37m\u001B[0m \u001B[1m57s\u001B[0m 5ms/step - accuracy: 0.9802 - loss: 140.9173\n",
      "Epoch 2/10\n",
      "\u001B[1m11013/11013\u001B[0m \u001B[32m━━━━━━━━━━━━━━━━━━━━\u001B[0m\u001B[37m\u001B[0m \u001B[1m50s\u001B[0m 2ms/step - accuracy: 0.9844 - loss: 10.1036\n",
      "Epoch 3/10\n",
      "\u001B[1m11013/11013\u001B[0m \u001B[32m━━━━━━━━━━━━━━━━━━━━\u001B[0m\u001B[37m\u001B[0m \u001B[1m22s\u001B[0m 2ms/step - accuracy: 0.9968 - loss: 1.3895\n",
      "Epoch 4/10\n",
      "\u001B[1m11013/11013\u001B[0m \u001B[32m━━━━━━━━━━━━━━━━━━━━\u001B[0m\u001B[37m\u001B[0m \u001B[1m20s\u001B[0m 2ms/step - accuracy: 0.9987 - loss: 0.0261\n",
      "Epoch 5/10\n",
      "\u001B[1m11013/11013\u001B[0m \u001B[32m━━━━━━━━━━━━━━━━━━━━\u001B[0m\u001B[37m\u001B[0m \u001B[1m19s\u001B[0m 2ms/step - accuracy: 0.9986 - loss: 0.0275\n",
      "Epoch 6/10\n",
      "\u001B[1m11013/11013\u001B[0m \u001B[32m━━━━━━━━━━━━━━━━━━━━\u001B[0m\u001B[37m\u001B[0m \u001B[1m19s\u001B[0m 2ms/step - accuracy: 0.9986 - loss: 0.0164\n",
      "Epoch 7/10\n",
      "\u001B[1m11013/11013\u001B[0m \u001B[32m━━━━━━━━━━━━━━━━━━━━\u001B[0m\u001B[37m\u001B[0m \u001B[1m18s\u001B[0m 2ms/step - accuracy: 0.9987 - loss: 0.0356\n",
      "Epoch 8/10\n",
      "\u001B[1m11013/11013\u001B[0m \u001B[32m━━━━━━━━━━━━━━━━━━━━\u001B[0m\u001B[37m\u001B[0m \u001B[1m18s\u001B[0m 2ms/step - accuracy: 0.9987 - loss: 0.0690\n",
      "Epoch 9/10\n",
      "\u001B[1m11013/11013\u001B[0m \u001B[32m━━━━━━━━━━━━━━━━━━━━\u001B[0m\u001B[37m\u001B[0m \u001B[1m18s\u001B[0m 2ms/step - accuracy: 0.9987 - loss: 0.1193\n",
      "Epoch 10/10\n",
      "\u001B[1m11013/11013\u001B[0m \u001B[32m━━━━━━━━━━━━━━━━━━━━\u001B[0m\u001B[37m\u001B[0m \u001B[1m18s\u001B[0m 2ms/step - accuracy: 0.9987 - loss: 0.0216\n",
      "\u001B[1m19578/19578\u001B[0m \u001B[32m━━━━━━━━━━━━━━━━━━━━\u001B[0m\u001B[37m\u001B[0m \u001B[1m10s\u001B[0m 521us/step\n",
      "              precision    recall  f1-score   support\n",
      "\n",
      "           0       1.00      1.00      1.00    625627\n",
      "           1       0.00      0.00      0.00       847\n",
      "\n",
      "    accuracy                           1.00    626474\n",
      "   macro avg       0.50      0.50      0.50    626474\n",
      "weighted avg       1.00      1.00      1.00    626474\n",
      "\n"
     ]
    },
    {
     "name": "stderr",
     "output_type": "stream",
     "text": [
      "C:\\Users\\abelc\\PycharmProjects\\Ciencia De Datos\\.venv\\Lib\\site-packages\\sklearn\\metrics\\_classification.py:1565: UndefinedMetricWarning: Precision is ill-defined and being set to 0.0 in labels with no predicted samples. Use `zero_division` parameter to control this behavior.\n",
      "  _warn_prf(average, modifier, f\"{metric.capitalize()} is\", len(result))\n",
      "C:\\Users\\abelc\\PycharmProjects\\Ciencia De Datos\\.venv\\Lib\\site-packages\\sklearn\\metrics\\_classification.py:1565: UndefinedMetricWarning: Precision is ill-defined and being set to 0.0 in labels with no predicted samples. Use `zero_division` parameter to control this behavior.\n",
      "  _warn_prf(average, modifier, f\"{metric.capitalize()} is\", len(result))\n",
      "C:\\Users\\abelc\\PycharmProjects\\Ciencia De Datos\\.venv\\Lib\\site-packages\\sklearn\\metrics\\_classification.py:1565: UndefinedMetricWarning: Precision is ill-defined and being set to 0.0 in labels with no predicted samples. Use `zero_division` parameter to control this behavior.\n",
      "  _warn_prf(average, modifier, f\"{metric.capitalize()} is\", len(result))\n"
     ]
    }
   ],
   "execution_count": 25
  },
  {
   "metadata": {},
   "cell_type": "markdown",
   "source": "### Combinacion 3"
  },
  {
   "metadata": {
    "ExecuteTime": {
     "end_time": "2025-05-09T03:04:50.348132Z",
     "start_time": "2025-05-09T02:57:13.160619Z"
    }
   },
   "cell_type": "code",
   "source": [
    "model = Sequential()\n",
    "model.add(Dense(128, input_dim=X_train.shape[1], activation='relu'))\n",
    "model.add(Dense(64, activation='relu'))\n",
    "model.add(Dense(32, activation='relu'))\n",
    "model.add(Dense(1, activation='sigmoid'))\n",
    "\n",
    "model.compile(optimizer='adam', loss='binary_crossentropy', metrics=['accuracy'])\n",
    "model.fit(X_train, y_train, epochs=15, batch_size=512, verbose=1)\n",
    "\n",
    "y_pred = (model.predict(X_test) > 0.5).astype(int)\n",
    "print(classification_report(y_test, y_pred))"
   ],
   "outputs": [
    {
     "name": "stderr",
     "output_type": "stream",
     "text": [
      "C:\\Users\\abelc\\PycharmProjects\\Ciencia De Datos\\.venv\\Lib\\site-packages\\keras\\src\\layers\\core\\dense.py:87: UserWarning: Do not pass an `input_shape`/`input_dim` argument to a layer. When using Sequential models, prefer using an `Input(shape)` object as the first layer in the model instead.\n",
      "  super().__init__(activity_regularizer=activity_regularizer, **kwargs)\n"
     ]
    },
    {
     "name": "stdout",
     "output_type": "stream",
     "text": [
      "Epoch 1/15\n",
      "\u001B[1m11013/11013\u001B[0m \u001B[32m━━━━━━━━━━━━━━━━━━━━\u001B[0m\u001B[37m\u001B[0m \u001B[1m28s\u001B[0m 2ms/step - accuracy: 0.9828 - loss: 127.7639\n",
      "Epoch 2/15\n",
      "\u001B[1m11013/11013\u001B[0m \u001B[32m━━━━━━━━━━━━━━━━━━━━\u001B[0m\u001B[37m\u001B[0m \u001B[1m93s\u001B[0m 8ms/step - accuracy: 0.9987 - loss: 0.0324\n",
      "Epoch 3/15\n",
      "\u001B[1m11013/11013\u001B[0m \u001B[32m━━━━━━━━━━━━━━━━━━━━\u001B[0m\u001B[37m\u001B[0m \u001B[1m33s\u001B[0m 3ms/step - accuracy: 0.9987 - loss: 0.0250\n",
      "Epoch 4/15\n",
      "\u001B[1m11013/11013\u001B[0m \u001B[32m━━━━━━━━━━━━━━━━━━━━\u001B[0m\u001B[37m\u001B[0m \u001B[1m30s\u001B[0m 3ms/step - accuracy: 0.9987 - loss: 0.2066\n",
      "Epoch 5/15\n",
      "\u001B[1m11013/11013\u001B[0m \u001B[32m━━━━━━━━━━━━━━━━━━━━\u001B[0m\u001B[37m\u001B[0m \u001B[1m22s\u001B[0m 2ms/step - accuracy: 0.9987 - loss: 0.0289\n",
      "Epoch 6/15\n",
      "\u001B[1m11013/11013\u001B[0m \u001B[32m━━━━━━━━━━━━━━━━━━━━\u001B[0m\u001B[37m\u001B[0m \u001B[1m23s\u001B[0m 2ms/step - accuracy: 0.9987 - loss: 0.0644\n",
      "Epoch 7/15\n",
      "\u001B[1m11013/11013\u001B[0m \u001B[32m━━━━━━━━━━━━━━━━━━━━\u001B[0m\u001B[37m\u001B[0m \u001B[1m23s\u001B[0m 2ms/step - accuracy: 0.9987 - loss: 0.1306\n",
      "Epoch 8/15\n",
      "\u001B[1m11013/11013\u001B[0m \u001B[32m━━━━━━━━━━━━━━━━━━━━\u001B[0m\u001B[37m\u001B[0m \u001B[1m22s\u001B[0m 2ms/step - accuracy: 0.9987 - loss: 0.0098\n",
      "Epoch 9/15\n",
      "\u001B[1m11013/11013\u001B[0m \u001B[32m━━━━━━━━━━━━━━━━━━━━\u001B[0m\u001B[37m\u001B[0m \u001B[1m21s\u001B[0m 2ms/step - accuracy: 0.9987 - loss: 0.1391\n",
      "Epoch 10/15\n",
      "\u001B[1m11013/11013\u001B[0m \u001B[32m━━━━━━━━━━━━━━━━━━━━\u001B[0m\u001B[37m\u001B[0m \u001B[1m21s\u001B[0m 2ms/step - accuracy: 0.9987 - loss: 0.0108\n",
      "Epoch 11/15\n",
      "\u001B[1m11013/11013\u001B[0m \u001B[32m━━━━━━━━━━━━━━━━━━━━\u001B[0m\u001B[37m\u001B[0m \u001B[1m24s\u001B[0m 2ms/step - accuracy: 0.9987 - loss: 0.2517\n",
      "Epoch 12/15\n",
      "\u001B[1m11013/11013\u001B[0m \u001B[32m━━━━━━━━━━━━━━━━━━━━\u001B[0m\u001B[37m\u001B[0m \u001B[1m24s\u001B[0m 2ms/step - accuracy: 0.9987 - loss: 0.0097\n",
      "Epoch 13/15\n",
      "\u001B[1m11013/11013\u001B[0m \u001B[32m━━━━━━━━━━━━━━━━━━━━\u001B[0m\u001B[37m\u001B[0m \u001B[1m24s\u001B[0m 2ms/step - accuracy: 0.9987 - loss: 0.0734\n",
      "Epoch 14/15\n",
      "\u001B[1m11013/11013\u001B[0m \u001B[32m━━━━━━━━━━━━━━━━━━━━\u001B[0m\u001B[37m\u001B[0m \u001B[1m24s\u001B[0m 2ms/step - accuracy: 0.9987 - loss: 0.1005\n",
      "Epoch 15/15\n",
      "\u001B[1m11013/11013\u001B[0m \u001B[32m━━━━━━━━━━━━━━━━━━━━\u001B[0m\u001B[37m\u001B[0m \u001B[1m24s\u001B[0m 2ms/step - accuracy: 0.9987 - loss: 0.0100\n",
      "\u001B[1m19578/19578\u001B[0m \u001B[32m━━━━━━━━━━━━━━━━━━━━\u001B[0m\u001B[37m\u001B[0m \u001B[1m15s\u001B[0m 773us/step\n",
      "              precision    recall  f1-score   support\n",
      "\n",
      "           0       1.00      1.00      1.00    625627\n",
      "           1       0.00      0.00      0.00       847\n",
      "\n",
      "    accuracy                           1.00    626474\n",
      "   macro avg       0.50      0.50      0.50    626474\n",
      "weighted avg       1.00      1.00      1.00    626474\n",
      "\n"
     ]
    },
    {
     "name": "stderr",
     "output_type": "stream",
     "text": [
      "C:\\Users\\abelc\\PycharmProjects\\Ciencia De Datos\\.venv\\Lib\\site-packages\\sklearn\\metrics\\_classification.py:1565: UndefinedMetricWarning: Precision is ill-defined and being set to 0.0 in labels with no predicted samples. Use `zero_division` parameter to control this behavior.\n",
      "  _warn_prf(average, modifier, f\"{metric.capitalize()} is\", len(result))\n",
      "C:\\Users\\abelc\\PycharmProjects\\Ciencia De Datos\\.venv\\Lib\\site-packages\\sklearn\\metrics\\_classification.py:1565: UndefinedMetricWarning: Precision is ill-defined and being set to 0.0 in labels with no predicted samples. Use `zero_division` parameter to control this behavior.\n",
      "  _warn_prf(average, modifier, f\"{metric.capitalize()} is\", len(result))\n",
      "C:\\Users\\abelc\\PycharmProjects\\Ciencia De Datos\\.venv\\Lib\\site-packages\\sklearn\\metrics\\_classification.py:1565: UndefinedMetricWarning: Precision is ill-defined and being set to 0.0 in labels with no predicted samples. Use `zero_division` parameter to control this behavior.\n",
      "  _warn_prf(average, modifier, f\"{metric.capitalize()} is\", len(result))\n"
     ]
    }
   ],
   "execution_count": 28
  },
  {
   "metadata": {},
   "cell_type": "markdown",
   "source": "### Combinacion 4"
  },
  {
   "metadata": {
    "ExecuteTime": {
     "end_time": "2025-05-09T02:32:27.509818Z",
     "start_time": "2025-05-09T02:26:17.145548Z"
    }
   },
   "cell_type": "code",
   "source": [
    "model = Sequential()\n",
    "model.add(Dense(32, input_dim=X_train.shape[1], activation='relu'))\n",
    "model.add(Dense(32, activation='relu'))\n",
    "model.add(Dense(16, activation='relu'))\n",
    "model.add(Dense(1, activation='sigmoid'))\n",
    "\n",
    "model.compile(optimizer='sgd', loss='binary_crossentropy', metrics=['accuracy'])\n",
    "model.fit(X_train, y_train, epochs=20, batch_size=512, verbose=1)\n",
    "\n",
    "y_pred = (model.predict(X_test) > 0.5).astype(int)\n",
    "print(classification_report(y_test, y_pred))"
   ],
   "outputs": [
    {
     "name": "stderr",
     "output_type": "stream",
     "text": [
      "C:\\Users\\abelc\\PycharmProjects\\Ciencia De Datos\\.venv\\Lib\\site-packages\\keras\\src\\layers\\core\\dense.py:87: UserWarning: Do not pass an `input_shape`/`input_dim` argument to a layer. When using Sequential models, prefer using an `Input(shape)` object as the first layer in the model instead.\n",
      "  super().__init__(activity_regularizer=activity_regularizer, **kwargs)\n"
     ]
    },
    {
     "name": "stdout",
     "output_type": "stream",
     "text": [
      "Epoch 1/20\n",
      "\u001B[1m11013/11013\u001B[0m \u001B[32m━━━━━━━━━━━━━━━━━━━━\u001B[0m\u001B[37m\u001B[0m \u001B[1m18s\u001B[0m 2ms/step - accuracy: 0.9973 - loss: nan\n",
      "Epoch 2/20\n",
      "\u001B[1m11013/11013\u001B[0m \u001B[32m━━━━━━━━━━━━━━━━━━━━\u001B[0m\u001B[37m\u001B[0m \u001B[1m19s\u001B[0m 2ms/step - accuracy: 0.9987 - loss: nan\n",
      "Epoch 3/20\n",
      "\u001B[1m11013/11013\u001B[0m \u001B[32m━━━━━━━━━━━━━━━━━━━━\u001B[0m\u001B[37m\u001B[0m \u001B[1m23s\u001B[0m 2ms/step - accuracy: 0.9987 - loss: nan\n",
      "Epoch 4/20\n",
      "\u001B[1m11013/11013\u001B[0m \u001B[32m━━━━━━━━━━━━━━━━━━━━\u001B[0m\u001B[37m\u001B[0m \u001B[1m22s\u001B[0m 2ms/step - accuracy: 0.9987 - loss: nan\n",
      "Epoch 5/20\n",
      "\u001B[1m11013/11013\u001B[0m \u001B[32m━━━━━━━━━━━━━━━━━━━━\u001B[0m\u001B[37m\u001B[0m \u001B[1m18s\u001B[0m 2ms/step - accuracy: 0.9987 - loss: nan\n",
      "Epoch 6/20\n",
      "\u001B[1m11013/11013\u001B[0m \u001B[32m━━━━━━━━━━━━━━━━━━━━\u001B[0m\u001B[37m\u001B[0m \u001B[1m18s\u001B[0m 2ms/step - accuracy: 0.9987 - loss: nan\n",
      "Epoch 7/20\n",
      "\u001B[1m11013/11013\u001B[0m \u001B[32m━━━━━━━━━━━━━━━━━━━━\u001B[0m\u001B[37m\u001B[0m \u001B[1m16s\u001B[0m 1ms/step - accuracy: 0.9987 - loss: nan\n",
      "Epoch 8/20\n",
      "\u001B[1m11013/11013\u001B[0m \u001B[32m━━━━━━━━━━━━━━━━━━━━\u001B[0m\u001B[37m\u001B[0m \u001B[1m16s\u001B[0m 1ms/step - accuracy: 0.9987 - loss: nan\n",
      "Epoch 9/20\n",
      "\u001B[1m11013/11013\u001B[0m \u001B[32m━━━━━━━━━━━━━━━━━━━━\u001B[0m\u001B[37m\u001B[0m \u001B[1m17s\u001B[0m 1ms/step - accuracy: 0.9987 - loss: nan\n",
      "Epoch 10/20\n",
      "\u001B[1m11013/11013\u001B[0m \u001B[32m━━━━━━━━━━━━━━━━━━━━\u001B[0m\u001B[37m\u001B[0m \u001B[1m18s\u001B[0m 2ms/step - accuracy: 0.9987 - loss: nan\n",
      "Epoch 11/20\n",
      "\u001B[1m11013/11013\u001B[0m \u001B[32m━━━━━━━━━━━━━━━━━━━━\u001B[0m\u001B[37m\u001B[0m \u001B[1m17s\u001B[0m 2ms/step - accuracy: 0.9987 - loss: nan\n",
      "Epoch 12/20\n",
      "\u001B[1m11013/11013\u001B[0m \u001B[32m━━━━━━━━━━━━━━━━━━━━\u001B[0m\u001B[37m\u001B[0m \u001B[1m17s\u001B[0m 1ms/step - accuracy: 0.9987 - loss: nan\n",
      "Epoch 13/20\n",
      "\u001B[1m11013/11013\u001B[0m \u001B[32m━━━━━━━━━━━━━━━━━━━━\u001B[0m\u001B[37m\u001B[0m \u001B[1m16s\u001B[0m 1ms/step - accuracy: 0.9987 - loss: nan\n",
      "Epoch 14/20\n",
      "\u001B[1m11013/11013\u001B[0m \u001B[32m━━━━━━━━━━━━━━━━━━━━\u001B[0m\u001B[37m\u001B[0m \u001B[1m16s\u001B[0m 1ms/step - accuracy: 0.9987 - loss: nan\n",
      "Epoch 15/20\n",
      "\u001B[1m11013/11013\u001B[0m \u001B[32m━━━━━━━━━━━━━━━━━━━━\u001B[0m\u001B[37m\u001B[0m \u001B[1m16s\u001B[0m 1ms/step - accuracy: 0.9987 - loss: nan\n",
      "Epoch 16/20\n",
      "\u001B[1m11013/11013\u001B[0m \u001B[32m━━━━━━━━━━━━━━━━━━━━\u001B[0m\u001B[37m\u001B[0m \u001B[1m17s\u001B[0m 1ms/step - accuracy: 0.9987 - loss: nan\n",
      "Epoch 17/20\n",
      "\u001B[1m11013/11013\u001B[0m \u001B[32m━━━━━━━━━━━━━━━━━━━━\u001B[0m\u001B[37m\u001B[0m \u001B[1m16s\u001B[0m 1ms/step - accuracy: 0.9987 - loss: nan\n",
      "Epoch 18/20\n",
      "\u001B[1m11013/11013\u001B[0m \u001B[32m━━━━━━━━━━━━━━━━━━━━\u001B[0m\u001B[37m\u001B[0m \u001B[1m16s\u001B[0m 1ms/step - accuracy: 0.9987 - loss: nan\n",
      "Epoch 19/20\n",
      "\u001B[1m11013/11013\u001B[0m \u001B[32m━━━━━━━━━━━━━━━━━━━━\u001B[0m\u001B[37m\u001B[0m \u001B[1m17s\u001B[0m 1ms/step - accuracy: 0.9987 - loss: nan\n",
      "Epoch 20/20\n",
      "\u001B[1m11013/11013\u001B[0m \u001B[32m━━━━━━━━━━━━━━━━━━━━\u001B[0m\u001B[37m\u001B[0m \u001B[1m17s\u001B[0m 1ms/step - accuracy: 0.9987 - loss: nan\n",
      "\u001B[1m19578/19578\u001B[0m \u001B[32m━━━━━━━━━━━━━━━━━━━━\u001B[0m\u001B[37m\u001B[0m \u001B[1m14s\u001B[0m 725us/step\n",
      "              precision    recall  f1-score   support\n",
      "\n",
      "           0       1.00      1.00      1.00    625627\n",
      "           1       0.00      0.00      0.00       847\n",
      "\n",
      "    accuracy                           1.00    626474\n",
      "   macro avg       0.50      0.50      0.50    626474\n",
      "weighted avg       1.00      1.00      1.00    626474\n",
      "\n"
     ]
    },
    {
     "name": "stderr",
     "output_type": "stream",
     "text": [
      "C:\\Users\\abelc\\PycharmProjects\\Ciencia De Datos\\.venv\\Lib\\site-packages\\sklearn\\metrics\\_classification.py:1565: UndefinedMetricWarning: Precision is ill-defined and being set to 0.0 in labels with no predicted samples. Use `zero_division` parameter to control this behavior.\n",
      "  _warn_prf(average, modifier, f\"{metric.capitalize()} is\", len(result))\n",
      "C:\\Users\\abelc\\PycharmProjects\\Ciencia De Datos\\.venv\\Lib\\site-packages\\sklearn\\metrics\\_classification.py:1565: UndefinedMetricWarning: Precision is ill-defined and being set to 0.0 in labels with no predicted samples. Use `zero_division` parameter to control this behavior.\n",
      "  _warn_prf(average, modifier, f\"{metric.capitalize()} is\", len(result))\n",
      "C:\\Users\\abelc\\PycharmProjects\\Ciencia De Datos\\.venv\\Lib\\site-packages\\sklearn\\metrics\\_classification.py:1565: UndefinedMetricWarning: Precision is ill-defined and being set to 0.0 in labels with no predicted samples. Use `zero_division` parameter to control this behavior.\n",
      "  _warn_prf(average, modifier, f\"{metric.capitalize()} is\", len(result))\n"
     ]
    }
   ],
   "execution_count": 26
  },
  {
   "metadata": {},
   "cell_type": "markdown",
   "source": "### Combinacion 5"
  },
  {
   "metadata": {
    "ExecuteTime": {
     "end_time": "2025-05-09T02:47:01.783565Z",
     "start_time": "2025-05-09T02:38:51.851907Z"
    }
   },
   "cell_type": "code",
   "source": [
    "model = Sequential()\n",
    "model.add(Dense(64, input_dim=X_train.shape[1], activation='relu'))\n",
    "model.add(Dense(32, activation='relu'))\n",
    "model.add(Dense(16, activation='relu'))\n",
    "model.add(Dense(1, activation='sigmoid'))\n",
    "\n",
    "model.compile(optimizer='rmsprop', loss='binary_crossentropy', metrics=['accuracy'])\n",
    "model.fit(X_train, y_train, epochs=25, batch_size=512, verbose=1)\n",
    "\n",
    "y_pred = (model.predict(X_test) > 0.5).astype(int)\n",
    "print(classification_report(y_test, y_pred))"
   ],
   "outputs": [
    {
     "name": "stderr",
     "output_type": "stream",
     "text": [
      "C:\\Users\\abelc\\PycharmProjects\\Ciencia De Datos\\.venv\\Lib\\site-packages\\keras\\src\\layers\\core\\dense.py:87: UserWarning: Do not pass an `input_shape`/`input_dim` argument to a layer. When using Sequential models, prefer using an `Input(shape)` object as the first layer in the model instead.\n",
      "  super().__init__(activity_regularizer=activity_regularizer, **kwargs)\n"
     ]
    },
    {
     "name": "stdout",
     "output_type": "stream",
     "text": [
      "Epoch 1/25\n",
      "\u001B[1m11013/11013\u001B[0m \u001B[32m━━━━━━━━━━━━━━━━━━━━\u001B[0m\u001B[37m\u001B[0m \u001B[1m22s\u001B[0m 2ms/step - accuracy: 0.9889 - loss: 132.1860\n",
      "Epoch 2/25\n",
      "\u001B[1m11013/11013\u001B[0m \u001B[32m━━━━━━━━━━━━━━━━━━━━\u001B[0m\u001B[37m\u001B[0m \u001B[1m23s\u001B[0m 2ms/step - accuracy: 0.9968 - loss: 4.6750\n",
      "Epoch 3/25\n",
      "\u001B[1m11013/11013\u001B[0m \u001B[32m━━━━━━━━━━━━━━━━━━━━\u001B[0m\u001B[37m\u001B[0m \u001B[1m23s\u001B[0m 2ms/step - accuracy: 0.9975 - loss: 1.1555\n",
      "Epoch 4/25\n",
      "\u001B[1m11013/11013\u001B[0m \u001B[32m━━━━━━━━━━━━━━━━━━━━\u001B[0m\u001B[37m\u001B[0m \u001B[1m20s\u001B[0m 2ms/step - accuracy: 0.9975 - loss: 1.1865\n",
      "Epoch 5/25\n",
      "\u001B[1m11013/11013\u001B[0m \u001B[32m━━━━━━━━━━━━━━━━━━━━\u001B[0m\u001B[37m\u001B[0m \u001B[1m19s\u001B[0m 2ms/step - accuracy: 0.9977 - loss: 0.7127\n",
      "Epoch 6/25\n",
      "\u001B[1m11013/11013\u001B[0m \u001B[32m━━━━━━━━━━━━━━━━━━━━\u001B[0m\u001B[37m\u001B[0m \u001B[1m19s\u001B[0m 2ms/step - accuracy: 0.9977 - loss: 1.1369\n",
      "Epoch 7/25\n",
      "\u001B[1m11013/11013\u001B[0m \u001B[32m━━━━━━━━━━━━━━━━━━━━\u001B[0m\u001B[37m\u001B[0m \u001B[1m19s\u001B[0m 2ms/step - accuracy: 0.9976 - loss: 0.7216\n",
      "Epoch 8/25\n",
      "\u001B[1m11013/11013\u001B[0m \u001B[32m━━━━━━━━━━━━━━━━━━━━\u001B[0m\u001B[37m\u001B[0m \u001B[1m19s\u001B[0m 2ms/step - accuracy: 0.9968 - loss: 2.0845\n",
      "Epoch 9/25\n",
      "\u001B[1m11013/11013\u001B[0m \u001B[32m━━━━━━━━━━━━━━━━━━━━\u001B[0m\u001B[37m\u001B[0m \u001B[1m19s\u001B[0m 2ms/step - accuracy: 0.9973 - loss: 0.6610\n",
      "Epoch 10/25\n",
      "\u001B[1m11013/11013\u001B[0m \u001B[32m━━━━━━━━━━━━━━━━━━━━\u001B[0m\u001B[37m\u001B[0m \u001B[1m19s\u001B[0m 2ms/step - accuracy: 0.9967 - loss: 0.6288\n",
      "Epoch 11/25\n",
      "\u001B[1m11013/11013\u001B[0m \u001B[32m━━━━━━━━━━━━━━━━━━━━\u001B[0m\u001B[37m\u001B[0m \u001B[1m20s\u001B[0m 2ms/step - accuracy: 0.9978 - loss: 0.4542\n",
      "Epoch 12/25\n",
      "\u001B[1m11013/11013\u001B[0m \u001B[32m━━━━━━━━━━━━━━━━━━━━\u001B[0m\u001B[37m\u001B[0m \u001B[1m20s\u001B[0m 2ms/step - accuracy: 0.9971 - loss: 1.2939\n",
      "Epoch 13/25\n",
      "\u001B[1m11013/11013\u001B[0m \u001B[32m━━━━━━━━━━━━━━━━━━━━\u001B[0m\u001B[37m\u001B[0m \u001B[1m18s\u001B[0m 2ms/step - accuracy: 0.9978 - loss: 1.3498\n",
      "Epoch 14/25\n",
      "\u001B[1m11013/11013\u001B[0m \u001B[32m━━━━━━━━━━━━━━━━━━━━\u001B[0m\u001B[37m\u001B[0m \u001B[1m18s\u001B[0m 2ms/step - accuracy: 0.9984 - loss: 1.3609\n",
      "Epoch 15/25\n",
      "\u001B[1m11013/11013\u001B[0m \u001B[32m━━━━━━━━━━━━━━━━━━━━\u001B[0m\u001B[37m\u001B[0m \u001B[1m18s\u001B[0m 2ms/step - accuracy: 0.9981 - loss: 3.1698\n",
      "Epoch 16/25\n",
      "\u001B[1m11013/11013\u001B[0m \u001B[32m━━━━━━━━━━━━━━━━━━━━\u001B[0m\u001B[37m\u001B[0m \u001B[1m18s\u001B[0m 2ms/step - accuracy: 0.9983 - loss: 4.8801\n",
      "Epoch 17/25\n",
      "\u001B[1m11013/11013\u001B[0m \u001B[32m━━━━━━━━━━━━━━━━━━━━\u001B[0m\u001B[37m\u001B[0m \u001B[1m18s\u001B[0m 2ms/step - accuracy: 0.9983 - loss: 4.4826\n",
      "Epoch 18/25\n",
      "\u001B[1m11013/11013\u001B[0m \u001B[32m━━━━━━━━━━━━━━━━━━━━\u001B[0m\u001B[37m\u001B[0m \u001B[1m18s\u001B[0m 2ms/step - accuracy: 0.9980 - loss: 6.5248\n",
      "Epoch 19/25\n",
      "\u001B[1m11013/11013\u001B[0m \u001B[32m━━━━━━━━━━━━━━━━━━━━\u001B[0m\u001B[37m\u001B[0m \u001B[1m19s\u001B[0m 2ms/step - accuracy: 0.9977 - loss: 10.3137\n",
      "Epoch 20/25\n",
      "\u001B[1m11013/11013\u001B[0m \u001B[32m━━━━━━━━━━━━━━━━━━━━\u001B[0m\u001B[37m\u001B[0m \u001B[1m17s\u001B[0m 2ms/step - accuracy: 0.9976 - loss: 8.0636\n",
      "Epoch 21/25\n",
      "\u001B[1m11013/11013\u001B[0m \u001B[32m━━━━━━━━━━━━━━━━━━━━\u001B[0m\u001B[37m\u001B[0m \u001B[1m17s\u001B[0m 2ms/step - accuracy: 0.9973 - loss: 7.8138\n",
      "Epoch 22/25\n",
      "\u001B[1m11013/11013\u001B[0m \u001B[32m━━━━━━━━━━━━━━━━━━━━\u001B[0m\u001B[37m\u001B[0m \u001B[1m18s\u001B[0m 2ms/step - accuracy: 0.9979 - loss: 4.9275\n",
      "Epoch 23/25\n",
      "\u001B[1m11013/11013\u001B[0m \u001B[32m━━━━━━━━━━━━━━━━━━━━\u001B[0m\u001B[37m\u001B[0m \u001B[1m17s\u001B[0m 2ms/step - accuracy: 0.9978 - loss: 6.8755\n",
      "Epoch 24/25\n",
      "\u001B[1m11013/11013\u001B[0m \u001B[32m━━━━━━━━━━━━━━━━━━━━\u001B[0m\u001B[37m\u001B[0m \u001B[1m17s\u001B[0m 2ms/step - accuracy: 0.9979 - loss: 4.7419\n",
      "Epoch 25/25\n",
      "\u001B[1m11013/11013\u001B[0m \u001B[32m━━━━━━━━━━━━━━━━━━━━\u001B[0m\u001B[37m\u001B[0m \u001B[1m18s\u001B[0m 2ms/step - accuracy: 0.9981 - loss: 6.0203\n",
      "\u001B[1m19578/19578\u001B[0m \u001B[32m━━━━━━━━━━━━━━━━━━━━\u001B[0m\u001B[37m\u001B[0m \u001B[1m12s\u001B[0m 584us/step\n",
      "              precision    recall  f1-score   support\n",
      "\n",
      "           0       1.00      1.00      1.00    625627\n",
      "           1       0.00      0.00      0.00       847\n",
      "\n",
      "    accuracy                           1.00    626474\n",
      "   macro avg       0.50      0.50      0.50    626474\n",
      "weighted avg       1.00      1.00      1.00    626474\n",
      "\n"
     ]
    }
   ],
   "execution_count": 27
  },
  {
   "metadata": {},
   "cell_type": "markdown",
   "source": "## 3 Regresion"
  },
  {
   "metadata": {
    "ExecuteTime": {
     "end_time": "2025-05-09T03:36:17.218699Z",
     "start_time": "2025-05-09T03:36:17.192513Z"
    }
   },
   "cell_type": "code",
   "source": [
    "import pandas as pd\n",
    "from sklearn.preprocessing import MinMaxScaler\n",
    "\n",
    "# Cargar el dataset (asegurarse de que no se interpreten encabezados incorrectamente)\n",
    "df = pd.read_csv(\n",
    "    'C:/Users/abelc/PycharmProjects/Ciencia De Datos/BD/monthly-beer-production-in-austr - monthly-beer-production-in-austr.csv',\n",
    "    header=0,  # Cambiar a 0 si el archivo tiene encabezados válidos\n",
    "    names=['Month', 'Production']\n",
    ")\n",
    "\n",
    "# Verificar los valores de la columna 'Month'\n",
    "print(df['Month'].head())\n",
    "\n",
    "# Eliminar filas con valores no válidos en 'Month'\n",
    "df = df[df['Month'] != 'Month']  # Eliminar encabezados repetidos si existen\n",
    "\n",
    "# Convertir la columna 'Month' al formato datetime\n",
    "df['Month'] = pd.to_datetime(df['Month'], format='%Y-%m', errors='coerce')\n",
    "\n",
    "# Eliminar filas con conversiones fallidas\n",
    "df = df.dropna(subset=['Month'])\n",
    "\n",
    "# Ordenar los datos cronológicamente\n",
    "df = df.sort_values(by='Month').reset_index(drop=True)\n",
    "\n",
    "# Normalizar la variable de producción usando MinMaxScaler\n",
    "scaler = MinMaxScaler(feature_range=(0, 1))\n",
    "df['Production_Normalized'] = scaler.fit_transform(df[['Production']])\n",
    "\n",
    "# Mostrar los primeros registros para verificar\n",
    "print(df.head())"
   ],
   "outputs": [
    {
     "name": "stdout",
     "output_type": "stream",
     "text": [
      "0    1956-01\n",
      "1    1956-02\n",
      "2    1956-03\n",
      "3    1956-04\n",
      "4    1956-05\n",
      "Name: Month, dtype: object\n",
      "       Month  Production  Production_Normalized\n",
      "0 1956-01-01        93.2               0.185621\n",
      "1 1956-02-01        96.0               0.203922\n",
      "2 1956-03-01        95.2               0.198693\n",
      "3 1956-04-01        77.1               0.080392\n",
      "4 1956-05-01        70.9               0.039869\n"
     ]
    }
   ],
   "execution_count": 33
  },
  {
   "metadata": {},
   "cell_type": "markdown",
   "source": "### 3.1 Modelo de random forest"
  },
  {
   "metadata": {},
   "cell_type": "markdown",
   "source": "### 3.2 Combinaciones"
  },
  {
   "metadata": {
    "ExecuteTime": {
     "end_time": "2025-05-09T03:47:13.693719Z",
     "start_time": "2025-05-09T03:47:12.152719Z"
    }
   },
   "cell_type": "code",
   "source": [
    "from sklearn.ensemble import RandomForestRegressor\n",
    "from sklearn.metrics import mean_absolute_error, mean_squared_error, r2_score\n",
    "from sklearn.model_selection import train_test_split\n",
    "\n",
    "# Dividir los datos en entrenamiento y prueba\n",
    "X = df['Month'].apply(lambda x: x.toordinal()).to_frame()  # Convertir fechas a ordinales\n",
    "y = df['Production_Normalized']\n",
    "X_train, X_test, y_train, y_test = train_test_split(X, y, test_size=0.2, random_state=42)\n",
    "\n",
    "# Lista de combinaciones de hiperparámetros\n",
    "param_combinations = [\n",
    "    {'n_estimators': 50, 'max_depth': 5, 'min_samples_split': 2},\n",
    "    {'n_estimators': 100, 'max_depth': 10, 'min_samples_split': 4},\n",
    "    {'n_estimators': 150, 'max_depth': 15, 'min_samples_split': 2},\n",
    "    {'n_estimators': 200, 'max_depth': 20, 'min_samples_split': 5},\n",
    "    {'n_estimators': 300, 'max_depth': None, 'min_samples_split': 10},\n",
    "]\n",
    "\n",
    "# Entrenar y evaluar cada combinación\n",
    "for i, params in enumerate(param_combinations, 1):\n",
    "    model = RandomForestRegressor(**params, random_state=42)\n",
    "    model.fit(X_train, y_train)\n",
    "    y_pred = model.predict(X_test)\n",
    "\n",
    "    # Calcular métricas\n",
    "    mae = mean_absolute_error(y_test, y_pred)\n",
    "    mse = mean_squared_error(y_test, y_pred)\n",
    "    r2 = r2_score(y_test, y_pred)\n",
    "\n",
    "    # Mostrar resultados\n",
    "    print(f\"Combinación {i} - Hiperparámetros: {params}\")\n",
    "    print(f\"MAE: {mae:.4f}\")\n",
    "    print(f\"MSE: {mse:.4f}\")\n",
    "    print(f\"R²: {r2:.4f}\\n\")"
   ],
   "outputs": [
    {
     "name": "stdout",
     "output_type": "stream",
     "text": [
      "Combinación 1 - Hiperparámetros: {'n_estimators': 100, 'max_depth': 10, 'min_samples_split': 5}\n",
      "MSE: 0.0155\n",
      "R^2: 0.7341\n",
      "\n",
      "Combinación 2 - Hiperparámetros: {'n_estimators': 200, 'max_depth': 20, 'min_samples_split': 10}\n",
      "MSE: 0.0171\n",
      "R^2: 0.7056\n",
      "\n",
      "Combinación 3 - Hiperparámetros: {'n_estimators': 300, 'max_depth': 30, 'min_samples_split': 15}\n",
      "MSE: 0.0176\n",
      "R^2: 0.6984\n",
      "\n",
      "Combinación 4 - Hiperparámetros: {'n_estimators': 400, 'max_depth': 40, 'min_samples_split': 20}\n",
      "MSE: 0.0178\n",
      "R^2: 0.6946\n",
      "\n",
      "Combinación 5 - Hiperparámetros: {'n_estimators': 500, 'max_depth': 50, 'min_samples_split': 25}\n",
      "MSE: 0.0179\n",
      "R^2: 0.6927\n",
      "\n"
     ]
    }
   ],
   "execution_count": 40
  },
  {
   "metadata": {},
   "cell_type": "markdown",
   "source": "## LSTM"
  },
  {
   "metadata": {
    "ExecuteTime": {
     "end_time": "2025-05-09T03:53:08.536831Z",
     "start_time": "2025-05-09T03:52:46.099609Z"
    }
   },
   "cell_type": "code",
   "source": [
    "import numpy as np\n",
    "from keras.models import Sequential\n",
    "from keras.layers import LSTM, Dense\n",
    "from sklearn.metrics import mean_absolute_error, mean_squared_error, r2_score\n",
    "from sklearn.preprocessing import MinMaxScaler\n",
    "\n",
    "# Preparar los datos para LSTM\n",
    "scaler = MinMaxScaler()\n",
    "X_scaled = scaler.fit_transform(X)\n",
    "y_scaled = scaler.fit_transform(y.values.reshape(-1, 1))\n",
    "\n",
    "# Crear secuencias para LSTM\n",
    "def create_sequences(data, target, seq_length):\n",
    "    X_seq, y_seq = [], []\n",
    "    for i in range(len(data) - seq_length):\n",
    "        X_seq.append(data[i:i + seq_length])\n",
    "        y_seq.append(target[i + seq_length])\n",
    "    return np.array(X_seq), np.array(y_seq)\n",
    "\n",
    "seq_length = 12  # Usar 12 meses como secuencia\n",
    "X_seq, y_seq = create_sequences(X_scaled, y_scaled, seq_length)\n",
    "\n",
    "# Dividir en entrenamiento y prueba\n",
    "split = int(len(X_seq) * 0.8)\n",
    "X_train, X_test = X_seq[:split], X_seq[split:]\n",
    "y_train, y_test = y_seq[:split], y_seq[split:]\n",
    "\n",
    "# Lista de combinaciones de hiperparámetros\n",
    "param_combinations = [\n",
    "    {'units': 50, 'epochs': 10, 'batch_size': 32},\n",
    "    {'units': 100, 'epochs': 20, 'batch_size': 64},\n",
    "    {'units': 150, 'epochs': 30, 'batch_size': 128},\n",
    "    {'units': 200, 'epochs': 40, 'batch_size': 256},\n",
    "    {'units': 300, 'epochs': 50, 'batch_size': 512},\n",
    "]\n",
    "\n",
    "# Entrenar y evaluar cada combinación\n",
    "for i, params in enumerate(param_combinations, 1):\n",
    "    model = Sequential()\n",
    "    model.add(LSTM(params['units'], input_shape=(seq_length, 1), activation='relu'))\n",
    "    model.add(Dense(1))\n",
    "    model.compile(optimizer='adam', loss='mse')\n",
    "\n",
    "    # Entrenar el modelo\n",
    "    model.fit(X_train, y_train, epochs=params['epochs'], batch_size=params['batch_size'], verbose=0)\n",
    "\n",
    "    # Realizar predicciones\n",
    "    y_pred = model.predict(X_test)\n",
    "\n",
    "    # Calcular métricas\n",
    "    mae = mean_absolute_error(y_test, y_pred)\n",
    "    mse = mean_squared_error(y_test, y_pred)\n",
    "    r2 = r2_score(y_test, y_pred)\n",
    "\n",
    "    # Mostrar resultados\n",
    "    print(f\"Combinación {i} - Hiperparámetros: {params}\")\n",
    "    print(f\"MAE: {mae:.4f}\")\n",
    "    print(f\"MSE: {mse:.4f}\")\n",
    "    print(f\"R²: {r2:.4f}\\n\")"
   ],
   "outputs": [
    {
     "name": "stderr",
     "output_type": "stream",
     "text": [
      "C:\\Users\\abelc\\PycharmProjects\\Ciencia De Datos\\.venv\\Lib\\site-packages\\keras\\src\\layers\\rnn\\rnn.py:200: UserWarning: Do not pass an `input_shape`/`input_dim` argument to a layer. When using Sequential models, prefer using an `Input(shape)` object as the first layer in the model instead.\n",
      "  super().__init__(**kwargs)\n"
     ]
    },
    {
     "name": "stdout",
     "output_type": "stream",
     "text": [
      "\u001B[1m3/3\u001B[0m \u001B[32m━━━━━━━━━━━━━━━━━━━━\u001B[0m\u001B[37m\u001B[0m \u001B[1m0s\u001B[0m 80ms/step\n",
      "Combinación 1 - Hiperparámetros: {'units': 50, 'epochs': 10, 'batch_size': 32}\n",
      "MAE: 0.2694\n",
      "MSE: 0.0918\n",
      "R²: -3.3746\n",
      "\n"
     ]
    },
    {
     "name": "stderr",
     "output_type": "stream",
     "text": [
      "C:\\Users\\abelc\\PycharmProjects\\Ciencia De Datos\\.venv\\Lib\\site-packages\\keras\\src\\layers\\rnn\\rnn.py:200: UserWarning: Do not pass an `input_shape`/`input_dim` argument to a layer. When using Sequential models, prefer using an `Input(shape)` object as the first layer in the model instead.\n",
      "  super().__init__(**kwargs)\n"
     ]
    },
    {
     "name": "stdout",
     "output_type": "stream",
     "text": [
      "WARNING:tensorflow:5 out of the last 19582 calls to <function TensorFlowTrainer.make_predict_function.<locals>.one_step_on_data_distributed at 0x000001A7D104D8A0> triggered tf.function retracing. Tracing is expensive and the excessive number of tracings could be due to (1) creating @tf.function repeatedly in a loop, (2) passing tensors with different shapes, (3) passing Python objects instead of tensors. For (1), please define your @tf.function outside of the loop. For (2), @tf.function has reduce_retracing=True option that can avoid unnecessary retracing. For (3), please refer to https://www.tensorflow.org/guide/function#controlling_retracing and https://www.tensorflow.org/api_docs/python/tf/function for  more details.\n",
      "\u001B[1m1/3\u001B[0m \u001B[32m━━━━━━\u001B[0m\u001B[37m━━━━━━━━━━━━━━\u001B[0m \u001B[1m0s\u001B[0m 105ms/stepWARNING:tensorflow:6 out of the last 19584 calls to <function TensorFlowTrainer.make_predict_function.<locals>.one_step_on_data_distributed at 0x000001A7D104D8A0> triggered tf.function retracing. Tracing is expensive and the excessive number of tracings could be due to (1) creating @tf.function repeatedly in a loop, (2) passing tensors with different shapes, (3) passing Python objects instead of tensors. For (1), please define your @tf.function outside of the loop. For (2), @tf.function has reduce_retracing=True option that can avoid unnecessary retracing. For (3), please refer to https://www.tensorflow.org/guide/function#controlling_retracing and https://www.tensorflow.org/api_docs/python/tf/function for  more details.\n",
      "\u001B[1m3/3\u001B[0m \u001B[32m━━━━━━━━━━━━━━━━━━━━\u001B[0m\u001B[37m\u001B[0m \u001B[1m0s\u001B[0m 64ms/step\n",
      "Combinación 2 - Hiperparámetros: {'units': 100, 'epochs': 20, 'batch_size': 64}\n",
      "MAE: 0.2501\n",
      "MSE: 0.0796\n",
      "R²: -2.7949\n",
      "\n"
     ]
    },
    {
     "name": "stderr",
     "output_type": "stream",
     "text": [
      "C:\\Users\\abelc\\PycharmProjects\\Ciencia De Datos\\.venv\\Lib\\site-packages\\keras\\src\\layers\\rnn\\rnn.py:200: UserWarning: Do not pass an `input_shape`/`input_dim` argument to a layer. When using Sequential models, prefer using an `Input(shape)` object as the first layer in the model instead.\n",
      "  super().__init__(**kwargs)\n"
     ]
    },
    {
     "name": "stdout",
     "output_type": "stream",
     "text": [
      "\u001B[1m3/3\u001B[0m \u001B[32m━━━━━━━━━━━━━━━━━━━━\u001B[0m\u001B[37m\u001B[0m \u001B[1m0s\u001B[0m 53ms/step\n",
      "Combinación 3 - Hiperparámetros: {'units': 150, 'epochs': 30, 'batch_size': 128}\n",
      "MAE: 0.2455\n",
      "MSE: 0.0766\n",
      "R²: -2.6490\n",
      "\n"
     ]
    },
    {
     "name": "stderr",
     "output_type": "stream",
     "text": [
      "C:\\Users\\abelc\\PycharmProjects\\Ciencia De Datos\\.venv\\Lib\\site-packages\\keras\\src\\layers\\rnn\\rnn.py:200: UserWarning: Do not pass an `input_shape`/`input_dim` argument to a layer. When using Sequential models, prefer using an `Input(shape)` object as the first layer in the model instead.\n",
      "  super().__init__(**kwargs)\n"
     ]
    },
    {
     "name": "stdout",
     "output_type": "stream",
     "text": [
      "\u001B[1m3/3\u001B[0m \u001B[32m━━━━━━━━━━━━━━━━━━━━\u001B[0m\u001B[37m\u001B[0m \u001B[1m0s\u001B[0m 71ms/step\n",
      "Combinación 4 - Hiperparámetros: {'units': 200, 'epochs': 40, 'batch_size': 256}\n",
      "MAE: 0.2473\n",
      "MSE: 0.0777\n",
      "R²: -2.7040\n",
      "\n"
     ]
    },
    {
     "name": "stderr",
     "output_type": "stream",
     "text": [
      "C:\\Users\\abelc\\PycharmProjects\\Ciencia De Datos\\.venv\\Lib\\site-packages\\keras\\src\\layers\\rnn\\rnn.py:200: UserWarning: Do not pass an `input_shape`/`input_dim` argument to a layer. When using Sequential models, prefer using an `Input(shape)` object as the first layer in the model instead.\n",
      "  super().__init__(**kwargs)\n"
     ]
    },
    {
     "name": "stdout",
     "output_type": "stream",
     "text": [
      "\u001B[1m3/3\u001B[0m \u001B[32m━━━━━━━━━━━━━━━━━━━━\u001B[0m\u001B[37m\u001B[0m \u001B[1m0s\u001B[0m 78ms/step\n",
      "Combinación 5 - Hiperparámetros: {'units': 300, 'epochs': 50, 'batch_size': 512}\n",
      "MAE: 0.2517\n",
      "MSE: 0.0805\n",
      "R²: -2.8363\n",
      "\n"
     ]
    }
   ],
   "execution_count": 50
  }
 ]
}
